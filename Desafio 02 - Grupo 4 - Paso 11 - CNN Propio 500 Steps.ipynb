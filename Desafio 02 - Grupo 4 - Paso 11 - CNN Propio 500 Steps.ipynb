{
 "cells": [
  {
   "cell_type": "code",
   "execution_count": 1,
   "metadata": {
    "colab": {},
    "colab_type": "code",
    "id": "CXq2cVy-xNjG"
   },
   "outputs": [],
   "source": [
    "MODELO = \"Propio-500Steps\""
   ]
  },
  {
   "cell_type": "code",
   "execution_count": 2,
   "metadata": {
    "colab": {
     "base_uri": "https://localhost:8080/",
     "height": 34
    },
    "colab_type": "code",
    "id": "_fWnfkxVxNjM",
    "outputId": "04762064-c73e-4d9a-e777-120241cbc934"
   },
   "outputs": [
    {
     "name": "stderr",
     "output_type": "stream",
     "text": [
      "Using TensorFlow backend.\n"
     ]
    }
   ],
   "source": [
    "import os\n",
    "import keras\n",
    "keras.__version__\n",
    "import numpy as np\n",
    "import pandas as pd\n",
    "import tensorflow as tf\n",
    "\n",
    "from keras import optimizers\n",
    "from keras.utils import multi_gpu_model\n",
    "from tensorflow.python.client import device_lib"
   ]
  },
  {
   "cell_type": "code",
   "execution_count": 3,
   "metadata": {
    "colab": {},
    "colab_type": "code",
    "id": "Llrr5_gBxNjQ"
   },
   "outputs": [],
   "source": [
    "os.environ['CUDA_VISIBLE_DEVICES'] = \"0,1,2,3\"\n",
    "multi_gpu = len(\"0,1,2,3\".split(','))"
   ]
  },
  {
   "cell_type": "code",
   "execution_count": 4,
   "metadata": {
    "colab": {},
    "colab_type": "code",
    "id": "KmF3PAKZxNjT"
   },
   "outputs": [],
   "source": [
    "def get_session():\n",
    "    \"\"\" Construct a modified tf session.\n",
    "    \"\"\"\n",
    "    config = tf.ConfigProto(device_count = {'CPU' :24, 'GPU':4})\n",
    "    config.gpu_options.allow_growth = True\n",
    "    return tf.Session(config=config)"
   ]
  },
  {
   "cell_type": "code",
   "execution_count": 5,
   "metadata": {
    "colab": {},
    "colab_type": "code",
    "id": "GgemVIh_xNjX"
   },
   "outputs": [],
   "source": [
    "keras.backend.tensorflow_backend.set_session(get_session())"
   ]
  },
  {
   "cell_type": "markdown",
   "metadata": {
    "colab_type": "text",
    "id": "580hCnLMxNja"
   },
   "source": [
    "# Modelo Propio CNN (conv2d)"
   ]
  },
  {
   "cell_type": "code",
   "execution_count": 6,
   "metadata": {
    "colab": {},
    "colab_type": "code",
    "id": "MstnXoXExNjb"
   },
   "outputs": [],
   "source": [
    "# El directorio de trabajo\n",
    "processDir = './process'\n",
    "\n",
    "# Directorio para entrenamiento, validacion y test\n",
    "train_dir = os.path.join(processDir, 'train')\n",
    "validation_dir = os.path.join(processDir, 'validation')\n",
    "test_dir = os.path.join(processDir, 'test')\n"
   ]
  },
  {
   "cell_type": "markdown",
   "metadata": {
    "colab_type": "text",
    "id": "vyoj-mbTxNjd"
   },
   "source": [
    "# Generador de datos"
   ]
  },
  {
   "cell_type": "code",
   "execution_count": 7,
   "metadata": {
    "colab": {
     "base_uri": "https://localhost:8080/",
     "height": 395
    },
    "colab_type": "code",
    "id": "BGZqYMBRxNje",
    "outputId": "d6b45611-e0a8-4692-8557-642f79cf4ead"
   },
   "outputs": [
    {
     "name": "stdout",
     "output_type": "stream",
     "text": [
      "Found 14530 images belonging to 120 classes.\n",
      "Found 3025 images belonging to 120 classes.\n"
     ]
    }
   ],
   "source": [
    "from keras.preprocessing.image import ImageDataGenerator\n",
    "\n",
    "train_datagen = ImageDataGenerator(\n",
    "    rescale=1./255,\n",
    "    rotation_range=40,\n",
    "    width_shift_range=0.2,\n",
    "    height_shift_range=0.2,\n",
    "    shear_range=0.2,\n",
    "    zoom_range=0.2,\n",
    "    horizontal_flip=True,)\n",
    "\n",
    "valid_datagen = ImageDataGenerator(rescale=1./255)\n",
    "\n",
    "train_generator = train_datagen.flow_from_directory(\n",
    "        train_dir,\n",
    "        target_size=(300, 300),\n",
    "        batch_size=32,\n",
    "        class_mode='categorical')\n",
    "\n",
    "valid_generator = valid_datagen.flow_from_directory(\n",
    "        validation_dir,\n",
    "        target_size=(300, 300),\n",
    "        batch_size=32,\n",
    "        class_mode='categorical')"
   ]
  },
  {
   "cell_type": "markdown",
   "metadata": {
    "colab_type": "text",
    "id": "j7oBzPh6xNji"
   },
   "source": [
    "# Modelo"
   ]
  },
  {
   "cell_type": "code",
   "execution_count": 8,
   "metadata": {
    "colab": {},
    "colab_type": "code",
    "id": "wJb4aq4qxNjj"
   },
   "outputs": [
    {
     "name": "stdout",
     "output_type": "stream",
     "text": [
      "WARNING:tensorflow:From C:\\ProgramData\\Anaconda3\\envs\\tensorflow_gpu\\lib\\site-packages\\tensorflow\\python\\framework\\op_def_library.py:263: colocate_with (from tensorflow.python.framework.ops) is deprecated and will be removed in a future version.\n",
      "Instructions for updating:\n",
      "Colocations handled automatically by placer.\n",
      "WARNING:tensorflow:From C:\\Users\\AdminVM\\AppData\\Roaming\\Python\\Python37\\site-packages\\keras\\backend\\tensorflow_backend.py:3733: calling dropout (from tensorflow.python.ops.nn_ops) with keep_prob is deprecated and will be removed in a future version.\n",
      "Instructions for updating:\n",
      "Please use `rate` instead of `keep_prob`. Rate should be set to `rate = 1 - keep_prob`.\n"
     ]
    }
   ],
   "source": [
    "from keras import layers\n",
    "from keras import models\n",
    "\n",
    "if multi_gpu > 1:\n",
    "  \n",
    "    with tf.device('/cpu:0'):\n",
    "        model = models.Sequential()\n",
    "        model.add(layers.Conv2D(512, (5, 5), activation='relu',input_shape=(300, 300, 3)))\n",
    "        model.add(layers.Conv2D(512, (3, 3), activation='relu'))\n",
    "        model.add(layers.Conv2D(256, (3, 3), activation='relu'))\n",
    "        model.add(layers.MaxPooling2D((2, 2)))\n",
    "        model.add(layers.Conv2D(256, (3, 3), activation='relu'))\n",
    "        model.add(layers.Conv2D(128, (3, 3), activation='relu'))\n",
    "        model.add(layers.Conv2D(64, (3, 3), activation='relu'))\n",
    "        model.add(layers.MaxPooling2D((2, 2)))\n",
    "        model.add(layers.Conv2D(64, (3, 3), activation='relu'))\n",
    "        model.add(layers.MaxPooling2D((2, 2)))\n",
    "        model.add(layers.Flatten())\n",
    "        model.add(layers.Dense(512, activation='relu'))\n",
    "        model.add(layers.Dropout(0.1))\n",
    "        model.add(layers.Dense(256, activation='relu'))\n",
    "        model.add(layers.Dropout(0.3))\n",
    "        model.add(layers.Dense(120, activation='softmax'))\n"
   ]
  },
  {
   "cell_type": "code",
   "execution_count": 9,
   "metadata": {
    "colab": {},
    "colab_type": "code",
    "id": "vE6v74B7xNjm"
   },
   "outputs": [],
   "source": [
    "if multi_gpu > 1:\n",
    "    parallel_model = multi_gpu_model(model, gpus=multi_gpu)   "
   ]
  },
  {
   "cell_type": "markdown",
   "metadata": {
    "colab_type": "text",
    "id": "wSSXH-ZExNjo"
   },
   "source": [
    "# Optimizador"
   ]
  },
  {
   "cell_type": "code",
   "execution_count": 10,
   "metadata": {
    "colab": {},
    "colab_type": "code",
    "id": "KBW4apHZxNjp"
   },
   "outputs": [],
   "source": [
    "from keras_radam import RAdam\n",
    "\n",
    "parallel_model.compile(loss='categorical_crossentropy',\n",
    "                       optimizer=RAdam(total_steps=5000, warmup_proportion=0.1, min_lr=1e-7),\n",
    "                       metrics=['categorical_accuracy'])"
   ]
  },
  {
   "cell_type": "markdown",
   "metadata": {
    "colab_type": "text",
    "id": "Qwu1mzrbxNjr"
   },
   "source": [
    "# Callbacks"
   ]
  },
  {
   "cell_type": "code",
   "execution_count": 11,
   "metadata": {
    "colab": {},
    "colab_type": "code",
    "id": "bjyCaRejxNjs"
   },
   "outputs": [],
   "source": [
    "from keras import callbacks\n",
    "\n",
    "callbacks = [callbacks.EarlyStopping(monitor='val_categorical_accuracy', min_delta=0.001, patience=20, restore_best_weights=True, mode='max')]"
   ]
  },
  {
   "cell_type": "markdown",
   "metadata": {
    "colab_type": "text",
    "id": "MjLJfWocxNjv"
   },
   "source": [
    "# Entrenamiento"
   ]
  },
  {
   "cell_type": "code",
   "execution_count": 12,
   "metadata": {
    "colab": {},
    "colab_type": "code",
    "id": "Ye8R1sdmxNjw",
    "scrolled": true
   },
   "outputs": [
    {
     "name": "stdout",
     "output_type": "stream",
     "text": [
      "WARNING:tensorflow:From C:\\ProgramData\\Anaconda3\\envs\\tensorflow_gpu\\lib\\site-packages\\tensorflow\\python\\ops\\math_ops.py:3066: to_int32 (from tensorflow.python.ops.math_ops) is deprecated and will be removed in a future version.\n",
      "Instructions for updating:\n",
      "Use tf.cast instead.\n",
      "Epoch 1/2000\n",
      "500/500 [==============================] - 626s 1s/step - loss: 4.7878 - categorical_accuracy: 0.0106 - val_loss: 4.7858 - val_categorical_accuracy: 0.0126\n",
      "Epoch 2/2000\n",
      "500/500 [==============================] - 590s 1s/step - loss: 4.7843 - categorical_accuracy: 0.0124 - val_loss: 4.7806 - val_categorical_accuracy: 0.0119\n",
      "Epoch 3/2000\n",
      "500/500 [==============================] - 592s 1s/step - loss: 4.7829 - categorical_accuracy: 0.0109 - val_loss: 4.7790 - val_categorical_accuracy: 0.0122\n",
      "Epoch 4/2000\n",
      "500/500 [==============================] - 594s 1s/step - loss: 4.7805 - categorical_accuracy: 0.0129 - val_loss: 4.7781 - val_categorical_accuracy: 0.0126\n",
      "Epoch 5/2000\n",
      "500/500 [==============================] - 593s 1s/step - loss: 4.7818 - categorical_accuracy: 0.0114 - val_loss: 4.7803 - val_categorical_accuracy: 0.0110\n",
      "Epoch 6/2000\n",
      "500/500 [==============================] - 592s 1s/step - loss: 4.7808 - categorical_accuracy: 0.0119 - val_loss: 4.7784 - val_categorical_accuracy: 0.0133\n",
      "Epoch 7/2000\n",
      "500/500 [==============================] - 590s 1s/step - loss: 4.7805 - categorical_accuracy: 0.0128 - val_loss: 4.7787 - val_categorical_accuracy: 0.0124\n",
      "Epoch 8/2000\n",
      "500/500 [==============================] - 594s 1s/step - loss: 4.7802 - categorical_accuracy: 0.0124 - val_loss: 4.7780 - val_categorical_accuracy: 0.0116\n",
      "Epoch 9/2000\n",
      "500/500 [==============================] - 590s 1s/step - loss: 4.7800 - categorical_accuracy: 0.0116 - val_loss: 4.7790 - val_categorical_accuracy: 0.0126\n",
      "Epoch 10/2000\n",
      "500/500 [==============================] - 595s 1s/step - loss: 4.7792 - categorical_accuracy: 0.0124 - val_loss: 4.7781 - val_categorical_accuracy: 0.0124\n",
      "Epoch 11/2000\n",
      "500/500 [==============================] - 591s 1s/step - loss: 4.7796 - categorical_accuracy: 0.0125 - val_loss: 4.7787 - val_categorical_accuracy: 0.0122\n",
      "Epoch 12/2000\n",
      "500/500 [==============================] - 587s 1s/step - loss: 4.7791 - categorical_accuracy: 0.0117 - val_loss: 4.7786 - val_categorical_accuracy: 0.0124\n",
      "Epoch 13/2000\n",
      "500/500 [==============================] - 594s 1s/step - loss: 4.7801 - categorical_accuracy: 0.0132 - val_loss: 4.7788 - val_categorical_accuracy: 0.0115\n",
      "Epoch 14/2000\n",
      "500/500 [==============================] - 591s 1s/step - loss: 4.7785 - categorical_accuracy: 0.0121 - val_loss: 4.7777 - val_categorical_accuracy: 0.0130\n",
      "Epoch 15/2000\n",
      "500/500 [==============================] - 590s 1s/step - loss: 4.7800 - categorical_accuracy: 0.0122 - val_loss: 4.7789 - val_categorical_accuracy: 0.0121\n",
      "Epoch 16/2000\n",
      "500/500 [==============================] - 588s 1s/step - loss: 4.7788 - categorical_accuracy: 0.0130 - val_loss: 4.7791 - val_categorical_accuracy: 0.0118\n",
      "Epoch 17/2000\n",
      "500/500 [==============================] - 592s 1s/step - loss: 4.7788 - categorical_accuracy: 0.0113 - val_loss: 4.7783 - val_categorical_accuracy: 0.0124\n",
      "Epoch 18/2000\n",
      "500/500 [==============================] - 591s 1s/step - loss: 4.7790 - categorical_accuracy: 0.0124 - val_loss: 4.7784 - val_categorical_accuracy: 0.0119\n",
      "Epoch 19/2000\n",
      "500/500 [==============================] - 593s 1s/step - loss: 4.7795 - categorical_accuracy: 0.0119 - val_loss: 4.7787 - val_categorical_accuracy: 0.0124\n",
      "Epoch 20/2000\n",
      "500/500 [==============================] - 594s 1s/step - loss: 4.7787 - categorical_accuracy: 0.0124 - val_loss: 4.7787 - val_categorical_accuracy: 0.0122\n",
      "Epoch 21/2000\n",
      "500/500 [==============================] - 593s 1s/step - loss: 4.7788 - categorical_accuracy: 0.0123 - val_loss: 4.7779 - val_categorical_accuracy: 0.0121\n"
     ]
    }
   ],
   "source": [
    "history = parallel_model.fit_generator(train_generator,\n",
    "                                       steps_per_epoch=500,\n",
    "                                       epochs=2000,\n",
    "                                       validation_data=valid_generator,\n",
    "                                       validation_steps=200,\n",
    "                                       callbacks=callbacks)"
   ]
  },
  {
   "cell_type": "code",
   "execution_count": 13,
   "metadata": {
    "colab": {},
    "colab_type": "code",
    "id": "hhyq1QRrxNjz"
   },
   "outputs": [],
   "source": [
    "import pickle\n",
    "\n",
    "# open a file, where you ant to store the data\n",
    "file = open('./models/history_{}.pkl'.format(MODELO), 'wb')\n",
    "\n",
    "# dump information to that file\n",
    "pickle.dump(history.history, file)\n",
    "\n",
    "# close the file\n",
    "file.close()"
   ]
  },
  {
   "cell_type": "markdown",
   "metadata": {
    "colab_type": "text",
    "id": "j177iDMLxNj1"
   },
   "source": [
    "# Graficos"
   ]
  },
  {
   "cell_type": "code",
   "execution_count": 14,
   "metadata": {
    "colab": {},
    "colab_type": "code",
    "id": "liFDv_YXxNj2"
   },
   "outputs": [
    {
     "data": {
      "image/png": "[encoded data removed]",
      "text/plain": [
       "<Figure size 432x288 with 1 Axes>"
      ]
     },
     "metadata": {
      "needs_background": "light"
     },
     "output_type": "display_data"
    },
    {
     "data": {
      "image/png": "[encoded data removed]",
      "text/plain": [
       "<Figure size 432x288 with 1 Axes>"
      ]
     },
     "metadata": {
      "needs_background": "light"
     },
     "output_type": "display_data"
    }
   ],
   "source": [
    "import matplotlib.pyplot as plt\n",
    "%matplotlib inline  \n",
    "\n",
    "acc = history.history['categorical_accuracy']\n",
    "val_acc = history.history['val_categorical_accuracy']\n",
    "loss = history.history['loss']\n",
    "val_loss = history.history['val_loss']\n",
    "\n",
    "epochs = range(len(acc))\n",
    "\n",
    "plt.plot(epochs, acc, 'bo', label='Train')\n",
    "plt.plot(epochs, val_acc, 'b', label='Validation')\n",
    "plt.title('Accuracy: Train, Validation')\n",
    "plt.legend()\n",
    "\n",
    "plt.figure()\n",
    "\n",
    "plt.plot(epochs, loss, 'bo', label='Train')\n",
    "plt.plot(epochs, val_loss, 'b', label='Validation')\n",
    "plt.title('Loss: Train, Validation')\n",
    "plt.legend()\n",
    "\n",
    "plt.show()"
   ]
  },
  {
   "cell_type": "code",
   "execution_count": 15,
   "metadata": {
    "colab": {},
    "colab_type": "code",
    "id": "5FoBAAIQxNj5"
   },
   "outputs": [],
   "source": [
    "parallel_model.save('./models/model_{}_RAdam.h5'.format(MODELO))"
   ]
  },
  {
   "cell_type": "markdown",
   "metadata": {
    "colab_type": "text",
    "id": "Hq3ISjFDxNj8"
   },
   "source": [
    "# Predict"
   ]
  },
  {
   "cell_type": "code",
   "execution_count": 16,
   "metadata": {
    "colab": {},
    "colab_type": "code",
    "id": "xRfLa2jexNj9"
   },
   "outputs": [
    {
     "name": "stdout",
     "output_type": "stream",
     "text": [
      "Found 3025 images belonging to 120 classes.\n"
     ]
    }
   ],
   "source": [
    "test_datagen = ImageDataGenerator(rescale=1./255)\n",
    "\n",
    "test_generator = test_datagen.flow_from_directory(\n",
    "        test_dir,\n",
    "        target_size=(300, 300),\n",
    "        batch_size=32,\n",
    "        class_mode=None,\n",
    "        shuffle=False)"
   ]
  },
  {
   "cell_type": "code",
   "execution_count": 17,
   "metadata": {
    "colab": {},
    "colab_type": "code",
    "id": "RQZj84zvxNj_"
   },
   "outputs": [],
   "source": [
    "probabilities = parallel_model.predict_generator(test_generator)"
   ]
  },
  {
   "cell_type": "code",
   "execution_count": 18,
   "metadata": {
    "colab": {},
    "colab_type": "code",
    "id": "oJOzdDdxxNkC"
   },
   "outputs": [],
   "source": [
    "# Get Max Index\n",
    "predicted_class_index=np.argmax(probabilities,axis=1)\n",
    "\n",
    "# Dictionary: Index to Class\n",
    "class_labels = list(test_generator.class_indices.keys())\n",
    "index_to_labels = dict((v,k) for k,v in test_generator.class_indices.items())\n",
    "\n",
    "# Get List of Predictions\n",
    "predictions = [index_to_labels[ix] for ix in predicted_class_index]\n",
    "\n",
    "# Get Dictionary of Predictions\n",
    "results=pd.DataFrame({\"Filename\":test_generator.filenames,\n",
    "                      \"Predictions\":predictions})"
   ]
  },
  {
   "cell_type": "code",
   "execution_count": 19,
   "metadata": {
    "colab": {},
    "colab_type": "code",
    "id": "Q0aoMA-WxNkJ"
   },
   "outputs": [
    {
     "data": {
      "text/html": [
       "<div>\n",
       "<style scoped>\n",
       "    .dataframe tbody tr th:only-of-type {\n",
       "        vertical-align: middle;\n",
       "    }\n",
       "\n",
       "    .dataframe tbody tr th {\n",
       "        vertical-align: top;\n",
       "    }\n",
       "\n",
       "    .dataframe thead th {\n",
       "        text-align: right;\n",
       "    }\n",
       "</style>\n",
       "<table border=\"1\" class=\"dataframe\">\n",
       "  <thead>\n",
       "    <tr style=\"text-align: right;\">\n",
       "      <th></th>\n",
       "      <th>Filename</th>\n",
       "      <th>Predictions</th>\n",
       "    </tr>\n",
       "  </thead>\n",
       "  <tbody>\n",
       "    <tr>\n",
       "      <th>0</th>\n",
       "      <td>n02085620-Chihuahua\\n02085620_10074.jpg</td>\n",
       "      <td>n02085936-Maltese_dog</td>\n",
       "    </tr>\n",
       "    <tr>\n",
       "      <th>1</th>\n",
       "      <td>n02085620-Chihuahua\\n02085620_10131.jpg</td>\n",
       "      <td>n02085936-Maltese_dog</td>\n",
       "    </tr>\n",
       "    <tr>\n",
       "      <th>2</th>\n",
       "      <td>n02085620-Chihuahua\\n02085620_10621.jpg</td>\n",
       "      <td>n02085936-Maltese_dog</td>\n",
       "    </tr>\n",
       "    <tr>\n",
       "      <th>3</th>\n",
       "      <td>n02085620-Chihuahua\\n02085620_1073.jpg</td>\n",
       "      <td>n02085936-Maltese_dog</td>\n",
       "    </tr>\n",
       "    <tr>\n",
       "      <th>4</th>\n",
       "      <td>n02085620-Chihuahua\\n02085620_10976.jpg</td>\n",
       "      <td>n02085936-Maltese_dog</td>\n",
       "    </tr>\n",
       "  </tbody>\n",
       "</table>\n",
       "</div>"
      ],
      "text/plain": [
       "                                  Filename            Predictions\n",
       "0  n02085620-Chihuahua\\n02085620_10074.jpg  n02085936-Maltese_dog\n",
       "1  n02085620-Chihuahua\\n02085620_10131.jpg  n02085936-Maltese_dog\n",
       "2  n02085620-Chihuahua\\n02085620_10621.jpg  n02085936-Maltese_dog\n",
       "3   n02085620-Chihuahua\\n02085620_1073.jpg  n02085936-Maltese_dog\n",
       "4  n02085620-Chihuahua\\n02085620_10976.jpg  n02085936-Maltese_dog"
      ]
     },
     "execution_count": 19,
     "metadata": {},
     "output_type": "execute_result"
    }
   ],
   "source": [
    "results.head()"
   ]
  },
  {
   "cell_type": "code",
   "execution_count": 20,
   "metadata": {
    "colab": {},
    "colab_type": "code",
    "id": "R9Run3JPxNkO"
   },
   "outputs": [],
   "source": [
    "results.to_csv(\"./models/results_details_{}.csv\".format(MODELO), sep=\"|\", index=False)"
   ]
  },
  {
   "cell_type": "code",
   "execution_count": 21,
   "metadata": {
    "colab": {},
    "colab_type": "code",
    "id": "tusYSse2xNkR"
   },
   "outputs": [],
   "source": [
    "from sklearn.metrics import confusion_matrix\n",
    "cm = confusion_matrix(test_generator.labels, predicted_class_index)"
   ]
  },
  {
   "cell_type": "code",
   "execution_count": 22,
   "metadata": {
    "colab": {},
    "colab_type": "code",
    "id": "oLMBcEM-nTVw"
   },
   "outputs": [],
   "source": [
    "def plot_confusion_matrix(cm, classes,\n",
    "                          title=None,\n",
    "                          cmap=plt.cm.Blues):\n",
    "\n",
    "    fig, ax = plt.subplots()\n",
    "    im = ax.imshow(cm, interpolation='nearest', cmap=cmap)\n",
    "    ax.figure.colorbar(im, ax=ax)\n",
    "    # We want to show all ticks...\n",
    "    ax.set(xticks=np.arange(cm.shape[1]),\n",
    "           yticks=np.arange(cm.shape[0]),\n",
    "           # ... and label them with the respective list entries\n",
    "           xticklabels=classes, yticklabels=classes,\n",
    "           title=title,\n",
    "           ylabel='True label',\n",
    "           xlabel='Predicted label')\n",
    "\n",
    "    # Rotate the tick labels and set their alignment.\n",
    "    plt.setp(ax.get_xticklabels(), rotation=45, ha=\"right\",\n",
    "             rotation_mode=\"anchor\")\n",
    "\n",
    "    # Loop over data dimensions and create text annotations.\n",
    "    fmt = 'd'\n",
    "    thresh = cm.max() / 2.\n",
    "    for i in range(cm.shape[0]):\n",
    "        for j in range(cm.shape[1]):\n",
    "            ax.text(j, i, format(cm[i, j], fmt),\n",
    "                    ha=\"center\", va=\"center\",\n",
    "                    color=\"white\" if cm[i, j] > thresh else \"black\")\n",
    "    fig.tight_layout()\n",
    "    return ax"
   ]
  },
  {
   "cell_type": "code",
   "execution_count": 23,
   "metadata": {
    "colab": {},
    "colab_type": "code",
    "id": "gBr3Rr4ArCb_"
   },
   "outputs": [
    {
     "data": {
      "text/plain": [
       "<matplotlib.axes._subplots.AxesSubplot at 0x1bddb58a5c0>"
      ]
     },
     "execution_count": 23,
     "metadata": {},
     "output_type": "execute_result"
    },
    {
     "data": {
      "image/png": "[encoded data removed]",
      "text/plain": [
       "<Figure size 432x288 with 2 Axes>"
      ]
     },
     "metadata": {
      "needs_background": "light"
     },
     "output_type": "display_data"
    }
   ],
   "source": [
    "plot_confusion_matrix(cm, class_labels, 'Confusion Matrix')"
   ]
  },
  {
   "cell_type": "code",
   "execution_count": 24,
   "metadata": {
    "colab": {},
    "colab_type": "code",
    "id": "t8FJ-UBfxNkT"
   },
   "outputs": [
    {
     "name": "stdout",
     "output_type": "stream",
     "text": [
      "General Accuracy:0.01\n"
     ]
    }
   ],
   "source": [
    "results_dict = {}\n",
    "tp_sum, fp_sum = 0, 0\n",
    "\n",
    "for ix, row in enumerate(cm):\n",
    "    \n",
    "    tp = row[ix]\n",
    "    fp = np.sum(row) - tp   \n",
    "    results_dict[ix] = [class_labels[ix],tp,fp,(tp/(tp+fp)*100)]\n",
    "\n",
    "    tp_sum += tp\n",
    "    fp_sum += fp\n",
    "    \n",
    "df_res = pd.DataFrame.from_dict(results_dict, orient=\"index\", columns=[\"Class\",\"True Positive\",\"False Positive\",\"Accuracy\"])\n",
    "\n",
    "print(\"General Accuracy:{:0.2f}\".format(tp_sum/(tp_sum+fp_sum)))"
   ]
  },
  {
   "cell_type": "code",
   "execution_count": 25,
   "metadata": {
    "colab": {},
    "colab_type": "code",
    "id": "gJFtm4oqxNkV"
   },
   "outputs": [
    {
     "data": {
      "text/html": [
       "<div>\n",
       "<style scoped>\n",
       "    .dataframe tbody tr th:only-of-type {\n",
       "        vertical-align: middle;\n",
       "    }\n",
       "\n",
       "    .dataframe tbody tr th {\n",
       "        vertical-align: top;\n",
       "    }\n",
       "\n",
       "    .dataframe thead th {\n",
       "        text-align: right;\n",
       "    }\n",
       "</style>\n",
       "<table border=\"1\" class=\"dataframe\">\n",
       "  <thead>\n",
       "    <tr style=\"text-align: right;\">\n",
       "      <th></th>\n",
       "      <th>Class</th>\n",
       "      <th>True Positive</th>\n",
       "      <th>False Positive</th>\n",
       "      <th>Accuracy</th>\n",
       "    </tr>\n",
       "  </thead>\n",
       "  <tbody>\n",
       "    <tr>\n",
       "      <th>0</th>\n",
       "      <td>n02085620-Chihuahua</td>\n",
       "      <td>0</td>\n",
       "      <td>22</td>\n",
       "      <td>0.0</td>\n",
       "    </tr>\n",
       "    <tr>\n",
       "      <th>1</th>\n",
       "      <td>n02085782-Japanese_spaniel</td>\n",
       "      <td>0</td>\n",
       "      <td>27</td>\n",
       "      <td>0.0</td>\n",
       "    </tr>\n",
       "    <tr>\n",
       "      <th>2</th>\n",
       "      <td>n02085936-Maltese_dog</td>\n",
       "      <td>37</td>\n",
       "      <td>0</td>\n",
       "      <td>100.0</td>\n",
       "    </tr>\n",
       "    <tr>\n",
       "      <th>3</th>\n",
       "      <td>n02086079-Pekinese</td>\n",
       "      <td>0</td>\n",
       "      <td>22</td>\n",
       "      <td>0.0</td>\n",
       "    </tr>\n",
       "    <tr>\n",
       "      <th>4</th>\n",
       "      <td>n02086240-Shih-Tzu</td>\n",
       "      <td>0</td>\n",
       "      <td>32</td>\n",
       "      <td>0.0</td>\n",
       "    </tr>\n",
       "  </tbody>\n",
       "</table>\n",
       "</div>"
      ],
      "text/plain": [
       "                        Class  True Positive  False Positive  Accuracy\n",
       "0         n02085620-Chihuahua              0              22       0.0\n",
       "1  n02085782-Japanese_spaniel              0              27       0.0\n",
       "2       n02085936-Maltese_dog             37               0     100.0\n",
       "3          n02086079-Pekinese              0              22       0.0\n",
       "4          n02086240-Shih-Tzu              0              32       0.0"
      ]
     },
     "execution_count": 25,
     "metadata": {},
     "output_type": "execute_result"
    }
   ],
   "source": [
    "df_res.head()"
   ]
  },
  {
   "cell_type": "code",
   "execution_count": 26,
   "metadata": {
    "colab": {},
    "colab_type": "code",
    "id": "jqeh0EZ-xNkZ"
   },
   "outputs": [],
   "source": [
    "df_res.to_csv(\"./models/results_{}.csv\".format(MODELO), sep=\"|\", index=False)"
   ]
  },
  {
   "cell_type": "code",
   "execution_count": 0,
   "metadata": {
    "colab": {},
    "colab_type": "code",
    "id": "5NTzyIruxNkc"
   },
   "outputs": [],
   "source": []
  }
 ],
 "metadata": {
  "accelerator": "TPU",
  "colab": {
   "name": "Desafio 02 - Grupo 4 - Paso 2 - Modelo CNN Propio.ipynb",
   "provenance": []
  },
  "kernelspec": {
   "display_name": "Python 3",
   "language": "python",
   "name": "python3"
  },
  "language_info": {
   "codemirror_mode": {
    "name": "ipython",
    "version": 3
   },
   "file_extension": ".py",
   "mimetype": "text/x-python",
   "name": "python",
   "nbconvert_exporter": "python",
   "pygments_lexer": "ipython3",
   "version": "3.7.3"
  }
 },
 "nbformat": 4,
 "nbformat_minor": 1
}
