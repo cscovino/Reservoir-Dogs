{
 "cells": [
  {
   "cell_type": "code",
   "execution_count": 13,
   "metadata": {},
   "outputs": [],
   "source": [
    "MODELO = \"Propio\""
   ]
  },
  {
   "cell_type": "code",
   "execution_count": 1,
   "metadata": {},
   "outputs": [
    {
     "name": "stderr",
     "output_type": "stream",
     "text": [
      "Using TensorFlow backend.\n"
     ]
    }
   ],
   "source": [
    "import os\n",
    "import keras\n",
    "keras.__version__\n",
    "import numpy as np\n",
    "import pandas as pd\n",
    "import tensorflow as tf\n",
    "\n",
    "from keras import optimizers\n",
    "from keras.utils import multi_gpu_model\n",
    "from tensorflow.python.client import device_lib"
   ]
  },
  {
   "cell_type": "code",
   "execution_count": 2,
   "metadata": {},
   "outputs": [],
   "source": [
    "os.environ['CUDA_VISIBLE_DEVICES'] = \"0,1,2,3\"\n",
    "multi_gpu = len(\"0,1,2,3\".split(','))"
   ]
  },
  {
   "cell_type": "code",
   "execution_count": 3,
   "metadata": {},
   "outputs": [],
   "source": [
    "def get_session():\n",
    "    \"\"\" Construct a modified tf session.\n",
    "    \"\"\"\n",
    "    config = tf.ConfigProto(device_count = {'CPU' :24, 'GPU':4})\n",
    "    config.gpu_options.allow_growth = True\n",
    "    return tf.Session(config=config)"
   ]
  },
  {
   "cell_type": "code",
   "execution_count": 4,
   "metadata": {},
   "outputs": [],
   "source": [
    "keras.backend.tensorflow_backend.set_session(get_session())"
   ]
  },
  {
   "cell_type": "markdown",
   "metadata": {},
   "source": [
    "# Modelo Propio CNN (conv2d)"
   ]
  },
  {
   "cell_type": "code",
   "execution_count": 5,
   "metadata": {},
   "outputs": [],
   "source": [
    "# El directorio de trabajo\n",
    "processDir = './process'\n",
    "\n",
    "# Directorio para entrenamiento, validacion y test\n",
    "train_dir = os.path.join(processDir, 'train')\n",
    "validation_dir = os.path.join(processDir, 'validation')\n",
    "test_dir = os.path.join(processDir, 'test')\n"
   ]
  },
  {
   "cell_type": "markdown",
   "metadata": {},
   "source": [
    "# Generador de datos"
   ]
  },
  {
   "cell_type": "code",
   "execution_count": 6,
   "metadata": {},
   "outputs": [
    {
     "name": "stdout",
     "output_type": "stream",
     "text": [
      "Found 14530 images belonging to 120 classes.\n",
      "Found 3025 images belonging to 120 classes.\n"
     ]
    }
   ],
   "source": [
    "from keras.preprocessing.image import ImageDataGenerator\n",
    "\n",
    "train_datagen = ImageDataGenerator(\n",
    "    rescale=1./255,\n",
    "    rotation_range=40,\n",
    "    width_shift_range=0.2,\n",
    "    height_shift_range=0.2,\n",
    "    shear_range=0.2,\n",
    "    zoom_range=0.2,\n",
    "    horizontal_flip=True,)\n",
    "\n",
    "valid_datagen = ImageDataGenerator(rescale=1./255)\n",
    "\n",
    "train_generator = train_datagen.flow_from_directory(\n",
    "        train_dir,\n",
    "        target_size=(300, 300),\n",
    "        batch_size=32,\n",
    "        class_mode='categorical')\n",
    "\n",
    "valid_generator = valid_datagen.flow_from_directory(\n",
    "        validation_dir,\n",
    "        target_size=(300, 300),\n",
    "        batch_size=32,\n",
    "        class_mode='categorical')"
   ]
  },
  {
   "cell_type": "markdown",
   "metadata": {},
   "source": [
    "# Modelo"
   ]
  },
  {
   "cell_type": "code",
   "execution_count": 7,
   "metadata": {},
   "outputs": [
    {
     "name": "stdout",
     "output_type": "stream",
     "text": [
      "WARNING:tensorflow:From C:\\ProgramData\\Anaconda3\\envs\\tensorflow_gpu\\lib\\site-packages\\tensorflow\\python\\framework\\op_def_library.py:263: colocate_with (from tensorflow.python.framework.ops) is deprecated and will be removed in a future version.\n",
      "Instructions for updating:\n",
      "Colocations handled automatically by placer.\n"
     ]
    }
   ],
   "source": [
    "from keras import layers\n",
    "from keras import models\n",
    "\n",
    "if multi_gpu > 1:\n",
    "  \n",
    "    with tf.device('/cpu:0'):\n",
    "        model = models.Sequential()\n",
    "        model.add(layers.Conv2D(32, (3, 3), activation='relu',input_shape=(300, 300, 3)))\n",
    "        model.add(layers.MaxPooling2D((2, 2)))\n",
    "        model.add(layers.Conv2D(64, (3, 3), activation='relu'))\n",
    "        model.add(layers.MaxPooling2D((2, 2)))\n",
    "        model.add(layers.Conv2D(128, (3, 3), activation='relu'))\n",
    "        model.add(layers.MaxPooling2D((2, 2)))\n",
    "        model.add(layers.Conv2D(128, (3, 3), activation='relu'))\n",
    "        model.add(layers.MaxPooling2D((2, 2)))\n",
    "        model.add(layers.Flatten())\n",
    "        model.add(layers.Dense(512, activation='relu'))\n",
    "        model.add(layers.Dense(120, activation='softmax'))\n"
   ]
  },
  {
   "cell_type": "code",
   "execution_count": 8,
   "metadata": {},
   "outputs": [],
   "source": [
    "if multi_gpu > 1:\n",
    "    parallel_model = multi_gpu_model(model, gpus=multi_gpu)   "
   ]
  },
  {
   "cell_type": "markdown",
   "metadata": {},
   "source": [
    "# Optimizador"
   ]
  },
  {
   "cell_type": "code",
   "execution_count": 9,
   "metadata": {},
   "outputs": [],
   "source": [
    "from keras_radam import RAdam\n",
    "\n",
    "parallel_model.compile(loss='categorical_crossentropy',\n",
    "                       optimizer=RAdam(total_steps=5000, warmup_proportion=0.1, min_lr=1e-7),\n",
    "                       metrics=['categorical_accuracy'])"
   ]
  },
  {
   "cell_type": "markdown",
   "metadata": {},
   "source": [
    "# Callbacks"
   ]
  },
  {
   "cell_type": "code",
   "execution_count": 10,
   "metadata": {},
   "outputs": [],
   "source": [
    "from keras import callbacks\n",
    "\n",
    "callbacks = [callbacks.EarlyStopping(monitor='val_categorical_accuracy', min_delta=0.001, patience=20, restore_best_weights=True, mode='max')]"
   ]
  },
  {
   "cell_type": "markdown",
   "metadata": {},
   "source": [
    "# Entrenamiento"
   ]
  },
  {
   "cell_type": "code",
   "execution_count": 11,
   "metadata": {
    "scrolled": true
   },
   "outputs": [
    {
     "name": "stdout",
     "output_type": "stream",
     "text": [
      "WARNING:tensorflow:From C:\\ProgramData\\Anaconda3\\envs\\tensorflow_gpu\\lib\\site-packages\\tensorflow\\python\\ops\\math_ops.py:3066: to_int32 (from tensorflow.python.ops.math_ops) is deprecated and will be removed in a future version.\n",
      "Instructions for updating:\n",
      "Use tf.cast instead.\n",
      "Epoch 1/500\n",
      "100/100 [==============================] - 84s 844ms/step - loss: 4.7892 - categorical_accuracy: 0.0109 - val_loss: 4.7880 - val_categorical_accuracy: 0.0069\n",
      "Epoch 2/500\n",
      "100/100 [==============================] - 75s 754ms/step - loss: 4.7832 - categorical_accuracy: 0.0119 - val_loss: 4.7828 - val_categorical_accuracy: 0.0120\n",
      "Epoch 3/500\n",
      "100/100 [==============================] - 76s 758ms/step - loss: 4.7736 - categorical_accuracy: 0.0150 - val_loss: 4.7397 - val_categorical_accuracy: 0.0138\n",
      "Epoch 4/500\n",
      "100/100 [==============================] - 74s 742ms/step - loss: 4.7378 - categorical_accuracy: 0.0144 - val_loss: 4.6945 - val_categorical_accuracy: 0.0208\n",
      "Epoch 5/500\n",
      "100/100 [==============================] - 75s 749ms/step - loss: 4.6856 - categorical_accuracy: 0.0216 - val_loss: 4.6122 - val_categorical_accuracy: 0.0312\n",
      "Epoch 6/500\n",
      "100/100 [==============================] - 71s 707ms/step - loss: 4.6049 - categorical_accuracy: 0.0253 - val_loss: 4.5109 - val_categorical_accuracy: 0.0322\n",
      "Epoch 7/500\n",
      "100/100 [==============================] - 70s 702ms/step - loss: 4.5466 - categorical_accuracy: 0.0284 - val_loss: 4.4758 - val_categorical_accuracy: 0.0331\n",
      "Epoch 8/500\n",
      "100/100 [==============================] - 71s 707ms/step - loss: 4.5206 - categorical_accuracy: 0.0288 - val_loss: 4.4115 - val_categorical_accuracy: 0.0423\n",
      "Epoch 9/500\n",
      "100/100 [==============================] - 70s 704ms/step - loss: 4.4958 - categorical_accuracy: 0.0297 - val_loss: 4.3858 - val_categorical_accuracy: 0.0425\n",
      "Epoch 10/500\n",
      "100/100 [==============================] - 69s 693ms/step - loss: 4.4571 - categorical_accuracy: 0.0413 - val_loss: 4.2803 - val_categorical_accuracy: 0.0486\n",
      "Epoch 11/500\n",
      "100/100 [==============================] - 70s 702ms/step - loss: 4.3987 - categorical_accuracy: 0.0434 - val_loss: 4.3069 - val_categorical_accuracy: 0.0556\n",
      "Epoch 12/500\n",
      "100/100 [==============================] - 70s 701ms/step - loss: 4.3703 - categorical_accuracy: 0.0494 - val_loss: 4.2331 - val_categorical_accuracy: 0.0688\n",
      "Epoch 13/500\n",
      "100/100 [==============================] - 70s 699ms/step - loss: 4.3079 - categorical_accuracy: 0.0506 - val_loss: 4.2026 - val_categorical_accuracy: 0.0681\n",
      "Epoch 14/500\n",
      "100/100 [==============================] - 70s 699ms/step - loss: 4.2857 - categorical_accuracy: 0.0494 - val_loss: 4.1551 - val_categorical_accuracy: 0.0726\n",
      "Epoch 15/500\n",
      "100/100 [==============================] - 70s 700ms/step - loss: 4.2097 - categorical_accuracy: 0.0569 - val_loss: 4.1321 - val_categorical_accuracy: 0.0806\n",
      "Epoch 16/500\n",
      "100/100 [==============================] - 70s 703ms/step - loss: 4.2278 - categorical_accuracy: 0.0656 - val_loss: 4.1076 - val_categorical_accuracy: 0.0833\n",
      "Epoch 17/500\n",
      "100/100 [==============================] - 70s 700ms/step - loss: 4.2023 - categorical_accuracy: 0.0625 - val_loss: 4.0273 - val_categorical_accuracy: 0.0788\n",
      "Epoch 18/500\n",
      "100/100 [==============================] - 70s 699ms/step - loss: 4.1629 - categorical_accuracy: 0.0768 - val_loss: 4.0659 - val_categorical_accuracy: 0.0694\n",
      "Epoch 19/500\n",
      "100/100 [==============================] - 69s 693ms/step - loss: 4.0763 - categorical_accuracy: 0.0878 - val_loss: 3.9597 - val_categorical_accuracy: 0.0940\n",
      "Epoch 20/500\n",
      "100/100 [==============================] - 70s 704ms/step - loss: 4.0197 - categorical_accuracy: 0.0919 - val_loss: 3.9905 - val_categorical_accuracy: 0.0912\n",
      "Epoch 21/500\n",
      "100/100 [==============================] - 70s 698ms/step - loss: 4.0764 - categorical_accuracy: 0.0872 - val_loss: 3.9478 - val_categorical_accuracy: 0.0946\n",
      "Epoch 22/500\n",
      "100/100 [==============================] - 70s 700ms/step - loss: 4.0477 - categorical_accuracy: 0.0875 - val_loss: 3.9035 - val_categorical_accuracy: 0.0969\n",
      "Epoch 23/500\n",
      "100/100 [==============================] - 69s 694ms/step - loss: 4.0524 - categorical_accuracy: 0.0816 - val_loss: 3.9281 - val_categorical_accuracy: 0.1047\n",
      "Epoch 24/500\n",
      "100/100 [==============================] - 70s 702ms/step - loss: 3.9332 - categorical_accuracy: 0.1066 - val_loss: 3.9546 - val_categorical_accuracy: 0.0975\n",
      "Epoch 25/500\n",
      "100/100 [==============================] - 70s 699ms/step - loss: 3.8999 - categorical_accuracy: 0.0941 - val_loss: 3.8459 - val_categorical_accuracy: 0.0978\n",
      "Epoch 26/500\n",
      "100/100 [==============================] - 70s 703ms/step - loss: 3.8978 - categorical_accuracy: 0.1087 - val_loss: 3.8659 - val_categorical_accuracy: 0.0988\n",
      "Epoch 27/500\n",
      "100/100 [==============================] - 70s 703ms/step - loss: 3.8953 - categorical_accuracy: 0.1103 - val_loss: 3.8204 - val_categorical_accuracy: 0.1180\n",
      "Epoch 28/500\n",
      "100/100 [==============================] - 70s 698ms/step - loss: 3.8761 - categorical_accuracy: 0.1153 - val_loss: 3.8671 - val_categorical_accuracy: 0.1075\n",
      "Epoch 29/500\n",
      "100/100 [==============================] - 70s 696ms/step - loss: 3.8150 - categorical_accuracy: 0.1141 - val_loss: 3.8033 - val_categorical_accuracy: 0.1186\n",
      "Epoch 30/500\n",
      "100/100 [==============================] - 71s 706ms/step - loss: 3.7933 - categorical_accuracy: 0.1200 - val_loss: 3.8938 - val_categorical_accuracy: 0.1125\n",
      "Epoch 31/500\n",
      "100/100 [==============================] - 71s 706ms/step - loss: 3.7904 - categorical_accuracy: 0.1297 - val_loss: 3.7312 - val_categorical_accuracy: 0.1192\n",
      "Epoch 32/500\n",
      "100/100 [==============================] - 70s 701ms/step - loss: 3.7762 - categorical_accuracy: 0.1256 - val_loss: 3.7632 - val_categorical_accuracy: 0.1175\n",
      "Epoch 33/500\n",
      "100/100 [==============================] - 70s 700ms/step - loss: 3.6345 - categorical_accuracy: 0.1469 - val_loss: 3.8376 - val_categorical_accuracy: 0.1281\n",
      "Epoch 34/500\n",
      "100/100 [==============================] - 70s 697ms/step - loss: 3.7044 - categorical_accuracy: 0.1369 - val_loss: 3.7262 - val_categorical_accuracy: 0.1250\n",
      "Epoch 35/500\n",
      "100/100 [==============================] - 71s 706ms/step - loss: 3.7233 - categorical_accuracy: 0.1328 - val_loss: 3.6630 - val_categorical_accuracy: 0.1375\n",
      "Epoch 36/500\n",
      "100/100 [==============================] - 70s 702ms/step - loss: 3.7050 - categorical_accuracy: 0.1344 - val_loss: 3.6792 - val_categorical_accuracy: 0.1450\n",
      "Epoch 37/500\n",
      "100/100 [==============================] - 71s 710ms/step - loss: 3.6059 - categorical_accuracy: 0.1497 - val_loss: 3.8782 - val_categorical_accuracy: 0.1110\n",
      "Epoch 38/500\n",
      "100/100 [==============================] - 70s 698ms/step - loss: 3.5638 - categorical_accuracy: 0.1553 - val_loss: 3.6424 - val_categorical_accuracy: 0.1356\n",
      "Epoch 39/500\n",
      "100/100 [==============================] - 70s 698ms/step - loss: 3.6093 - categorical_accuracy: 0.1515 - val_loss: 3.7117 - val_categorical_accuracy: 0.1256\n",
      "Epoch 40/500\n",
      "100/100 [==============================] - 70s 702ms/step - loss: 3.5737 - categorical_accuracy: 0.1581 - val_loss: 3.6437 - val_categorical_accuracy: 0.1533\n",
      "Epoch 41/500\n",
      "100/100 [==============================] - 70s 704ms/step - loss: 3.5382 - categorical_accuracy: 0.1528 - val_loss: 3.6298 - val_categorical_accuracy: 0.1506\n",
      "Epoch 42/500\n",
      "100/100 [==============================] - 70s 700ms/step - loss: 3.5223 - categorical_accuracy: 0.1687 - val_loss: 3.6293 - val_categorical_accuracy: 0.1420\n",
      "Epoch 43/500\n",
      "100/100 [==============================] - 70s 700ms/step - loss: 3.4495 - categorical_accuracy: 0.1759 - val_loss: 3.6197 - val_categorical_accuracy: 0.1556\n",
      "Epoch 44/500\n",
      "100/100 [==============================] - 70s 696ms/step - loss: 3.4729 - categorical_accuracy: 0.1772 - val_loss: 3.5721 - val_categorical_accuracy: 0.1483\n",
      "Epoch 45/500\n",
      "100/100 [==============================] - 70s 702ms/step - loss: 3.4429 - categorical_accuracy: 0.1850 - val_loss: 3.6776 - val_categorical_accuracy: 0.1444\n",
      "Epoch 46/500\n",
      "100/100 [==============================] - 70s 702ms/step - loss: 3.4188 - categorical_accuracy: 0.1878 - val_loss: 3.5929 - val_categorical_accuracy: 0.1590\n",
      "Epoch 47/500\n"
     ]
    },
    {
     "name": "stdout",
     "output_type": "stream",
     "text": [
      "100/100 [==============================] - 70s 700ms/step - loss: 3.3646 - categorical_accuracy: 0.1953 - val_loss: 3.6283 - val_categorical_accuracy: 0.1569\n",
      "Epoch 48/500\n",
      "100/100 [==============================] - 70s 703ms/step - loss: 3.3499 - categorical_accuracy: 0.2019 - val_loss: 3.5635 - val_categorical_accuracy: 0.1647\n",
      "Epoch 49/500\n",
      "100/100 [==============================] - 70s 698ms/step - loss: 3.3652 - categorical_accuracy: 0.1884 - val_loss: 3.5718 - val_categorical_accuracy: 0.1562\n",
      "Epoch 50/500\n",
      "100/100 [==============================] - 69s 692ms/step - loss: 3.3721 - categorical_accuracy: 0.1988 - val_loss: 3.5890 - val_categorical_accuracy: 0.1697\n",
      "Epoch 51/500\n",
      "100/100 [==============================] - 71s 710ms/step - loss: 3.3099 - categorical_accuracy: 0.2006 - val_loss: 3.5771 - val_categorical_accuracy: 0.1581\n",
      "Epoch 52/500\n",
      "100/100 [==============================] - 70s 696ms/step - loss: 3.3575 - categorical_accuracy: 0.1894 - val_loss: 3.6068 - val_categorical_accuracy: 0.1615\n",
      "Epoch 53/500\n",
      "100/100 [==============================] - 70s 705ms/step - loss: 3.3050 - categorical_accuracy: 0.1934 - val_loss: 3.5547 - val_categorical_accuracy: 0.1644\n",
      "Epoch 54/500\n",
      "100/100 [==============================] - 70s 705ms/step - loss: 3.3080 - categorical_accuracy: 0.1972 - val_loss: 3.5700 - val_categorical_accuracy: 0.1539\n",
      "Epoch 55/500\n",
      "100/100 [==============================] - 70s 698ms/step - loss: 3.3365 - categorical_accuracy: 0.2056 - val_loss: 3.5793 - val_categorical_accuracy: 0.1737\n",
      "Epoch 56/500\n",
      "100/100 [==============================] - 71s 709ms/step - loss: 3.2895 - categorical_accuracy: 0.2184 - val_loss: 3.6320 - val_categorical_accuracy: 0.1615\n",
      "Epoch 57/500\n",
      "100/100 [==============================] - 70s 695ms/step - loss: 3.3373 - categorical_accuracy: 0.2013 - val_loss: 3.5419 - val_categorical_accuracy: 0.1634\n",
      "Epoch 58/500\n",
      "100/100 [==============================] - 70s 702ms/step - loss: 3.3012 - categorical_accuracy: 0.2006 - val_loss: 3.5486 - val_categorical_accuracy: 0.1669\n",
      "Epoch 59/500\n",
      "100/100 [==============================] - 69s 694ms/step - loss: 3.3721 - categorical_accuracy: 0.1916 - val_loss: 3.5968 - val_categorical_accuracy: 0.1596\n",
      "Epoch 60/500\n",
      "100/100 [==============================] - 70s 698ms/step - loss: 3.3443 - categorical_accuracy: 0.1997 - val_loss: 3.5966 - val_categorical_accuracy: 0.1638\n",
      "Epoch 61/500\n",
      "100/100 [==============================] - 70s 701ms/step - loss: 3.2936 - categorical_accuracy: 0.2034 - val_loss: 3.5846 - val_categorical_accuracy: 0.1678\n",
      "Epoch 62/500\n",
      "100/100 [==============================] - 70s 703ms/step - loss: 3.3190 - categorical_accuracy: 0.2059 - val_loss: 3.5689 - val_categorical_accuracy: 0.1650\n",
      "Epoch 63/500\n",
      "100/100 [==============================] - 70s 702ms/step - loss: 3.3647 - categorical_accuracy: 0.2072 - val_loss: 3.5957 - val_categorical_accuracy: 0.1609\n",
      "Epoch 64/500\n",
      "100/100 [==============================] - 70s 703ms/step - loss: 3.3489 - categorical_accuracy: 0.1994 - val_loss: 3.5290 - val_categorical_accuracy: 0.1675\n",
      "Epoch 65/500\n",
      "100/100 [==============================] - 70s 701ms/step - loss: 3.3322 - categorical_accuracy: 0.1978 - val_loss: 3.5799 - val_categorical_accuracy: 0.1672\n",
      "Epoch 66/500\n",
      "100/100 [==============================] - 69s 693ms/step - loss: 3.3184 - categorical_accuracy: 0.2016 - val_loss: 3.6107 - val_categorical_accuracy: 0.1531\n",
      "Epoch 67/500\n",
      "100/100 [==============================] - 70s 701ms/step - loss: 3.3369 - categorical_accuracy: 0.1981 - val_loss: 3.5548 - val_categorical_accuracy: 0.1735\n",
      "Epoch 68/500\n",
      "100/100 [==============================] - 70s 704ms/step - loss: 3.3015 - categorical_accuracy: 0.2144 - val_loss: 3.6405 - val_categorical_accuracy: 0.1613\n",
      "Epoch 69/500\n",
      "100/100 [==============================] - 70s 700ms/step - loss: 3.3023 - categorical_accuracy: 0.2059 - val_loss: 3.5431 - val_categorical_accuracy: 0.1634\n",
      "Epoch 70/500\n",
      "100/100 [==============================] - 70s 701ms/step - loss: 3.3220 - categorical_accuracy: 0.1975 - val_loss: 3.5580 - val_categorical_accuracy: 0.1713\n",
      "Epoch 71/500\n",
      "100/100 [==============================] - 70s 696ms/step - loss: 3.3238 - categorical_accuracy: 0.1947 - val_loss: 3.5510 - val_categorical_accuracy: 0.1666\n",
      "Epoch 72/500\n",
      "100/100 [==============================] - 70s 701ms/step - loss: 3.3335 - categorical_accuracy: 0.2066 - val_loss: 3.6344 - val_categorical_accuracy: 0.1562\n",
      "Epoch 73/500\n",
      "100/100 [==============================] - 70s 704ms/step - loss: 3.3504 - categorical_accuracy: 0.1956 - val_loss: 3.5560 - val_categorical_accuracy: 0.1628\n",
      "Epoch 74/500\n",
      "100/100 [==============================] - 70s 697ms/step - loss: 3.3510 - categorical_accuracy: 0.1947 - val_loss: 3.5957 - val_categorical_accuracy: 0.1613\n",
      "Epoch 75/500\n",
      "100/100 [==============================] - 70s 702ms/step - loss: 3.3307 - categorical_accuracy: 0.2050 - val_loss: 3.6026 - val_categorical_accuracy: 0.1666\n"
     ]
    }
   ],
   "source": [
    "history = parallel_model.fit_generator(train_generator,\n",
    "                                       steps_per_epoch=100,\n",
    "                                       epochs=500,\n",
    "                                       validation_data=valid_generator,\n",
    "                                       validation_steps=50,\n",
    "                                       callbacks=callbacks)"
   ]
  },
  {
   "cell_type": "code",
   "execution_count": 15,
   "metadata": {},
   "outputs": [],
   "source": [
    "import pickle\n",
    "\n",
    "# open a file, where you ant to store the data\n",
    "file = open('./models/history_{}.pkl'.format(MODELO), 'wb')\n",
    "\n",
    "# dump information to that file\n",
    "pickle.dump(history, file)\n",
    "\n",
    "# close the file\n",
    "file.close()"
   ]
  },
  {
   "cell_type": "markdown",
   "metadata": {},
   "source": [
    "# Graficos"
   ]
  },
  {
   "cell_type": "code",
   "execution_count": 17,
   "metadata": {},
   "outputs": [
    {
     "data": {
      "image/png": "[encoded data removed]",
      "text/plain": [
       "<Figure size 432x288 with 1 Axes>"
      ]
     },
     "metadata": {
      "needs_background": "light"
     },
     "output_type": "display_data"
    },
    {
     "data": {
      "image/png": "[encoded data removed]",
      "text/plain": [
       "<Figure size 432x288 with 1 Axes>"
      ]
     },
     "metadata": {
      "needs_background": "light"
     },
     "output_type": "display_data"
    }
   ],
   "source": [
    "import matplotlib.pyplot as plt\n",
    "%matplotlib inline  \n",
    "\n",
    "acc = history.history['categorical_accuracy']\n",
    "val_acc = history.history['val_categorical_accuracy']\n",
    "loss = history.history['loss']\n",
    "val_loss = history.history['val_loss']\n",
    "\n",
    "epochs = range(len(acc))\n",
    "\n",
    "plt.plot(epochs, acc, 'bo', label='Train')\n",
    "plt.plot(epochs, val_acc, 'b', label='Validation')\n",
    "plt.title('Accuracy: Train, Validation')\n",
    "plt.legend()\n",
    "\n",
    "plt.figure()\n",
    "\n",
    "plt.plot(epochs, loss, 'bo', label='Train')\n",
    "plt.plot(epochs, val_loss, 'b', label='Validation')\n",
    "plt.title('Loss: Train, Validation')\n",
    "plt.legend()\n",
    "\n",
    "plt.show()"
   ]
  },
  {
   "cell_type": "code",
   "execution_count": 18,
   "metadata": {},
   "outputs": [],
   "source": [
    "parallel_model.save('./models/model_{}_RAdam.h5'.format(MODELO))"
   ]
  },
  {
   "cell_type": "markdown",
   "metadata": {},
   "source": [
    "# Predict"
   ]
  },
  {
   "cell_type": "code",
   "execution_count": 19,
   "metadata": {},
   "outputs": [
    {
     "name": "stdout",
     "output_type": "stream",
     "text": [
      "Found 3025 images belonging to 120 classes.\n"
     ]
    }
   ],
   "source": [
    "test_datagen = ImageDataGenerator(rescale=1./255)\n",
    "\n",
    "test_generator = test_datagen.flow_from_directory(\n",
    "        test_dir,\n",
    "        target_size=(300, 300),\n",
    "        batch_size=32,\n",
    "        class_mode=None,\n",
    "        shuffle=False)"
   ]
  },
  {
   "cell_type": "code",
   "execution_count": 20,
   "metadata": {},
   "outputs": [],
   "source": [
    "probabilities = parallel_model.predict_generator(test_generator)"
   ]
  },
  {
   "cell_type": "code",
   "execution_count": 21,
   "metadata": {},
   "outputs": [],
   "source": [
    "# Get Max Index\n",
    "predicted_class_index=np.argmax(probabilities,axis=1)\n",
    "\n",
    "# Dictionary: Index to Class\n",
    "class_labels = list(test_generator.class_indices.keys())\n",
    "index_to_labels = dict((v,k) for k,v in test_generator.class_indices.items())\n",
    "\n",
    "# Get List of Predictions\n",
    "predictions = [index_to_labels[ix] for ix in predicted_class_index]\n",
    "\n",
    "# Get Dictionary of Predictions\n",
    "results=pd.DataFrame({\"Filename\":test_generator.filenames,\n",
    "                      \"Predictions\":predictions})"
   ]
  },
  {
   "cell_type": "code",
   "execution_count": 22,
   "metadata": {},
   "outputs": [
    {
     "data": {
      "text/html": [
       "<div>\n",
       "<style scoped>\n",
       "    .dataframe tbody tr th:only-of-type {\n",
       "        vertical-align: middle;\n",
       "    }\n",
       "\n",
       "    .dataframe tbody tr th {\n",
       "        vertical-align: top;\n",
       "    }\n",
       "\n",
       "    .dataframe thead th {\n",
       "        text-align: right;\n",
       "    }\n",
       "</style>\n",
       "<table border=\"1\" class=\"dataframe\">\n",
       "  <thead>\n",
       "    <tr style=\"text-align: right;\">\n",
       "      <th></th>\n",
       "      <th>Filename</th>\n",
       "      <th>Predictions</th>\n",
       "    </tr>\n",
       "  </thead>\n",
       "  <tbody>\n",
       "    <tr>\n",
       "      <th>0</th>\n",
       "      <td>n02085620-Chihuahua\\n02085620_10074.jpg</td>\n",
       "      <td>n02098413-Lhasa</td>\n",
       "    </tr>\n",
       "    <tr>\n",
       "      <th>1</th>\n",
       "      <td>n02085620-Chihuahua\\n02085620_10131.jpg</td>\n",
       "      <td>n02102480-Sussex_spaniel</td>\n",
       "    </tr>\n",
       "    <tr>\n",
       "      <th>2</th>\n",
       "      <td>n02085620-Chihuahua\\n02085620_10621.jpg</td>\n",
       "      <td>n02092339-Weimaraner</td>\n",
       "    </tr>\n",
       "    <tr>\n",
       "      <th>3</th>\n",
       "      <td>n02085620-Chihuahua\\n02085620_1073.jpg</td>\n",
       "      <td>n02105505-komondor</td>\n",
       "    </tr>\n",
       "    <tr>\n",
       "      <th>4</th>\n",
       "      <td>n02085620-Chihuahua\\n02085620_10976.jpg</td>\n",
       "      <td>n02112137-chow</td>\n",
       "    </tr>\n",
       "  </tbody>\n",
       "</table>\n",
       "</div>"
      ],
      "text/plain": [
       "                                  Filename               Predictions\n",
       "0  n02085620-Chihuahua\\n02085620_10074.jpg           n02098413-Lhasa\n",
       "1  n02085620-Chihuahua\\n02085620_10131.jpg  n02102480-Sussex_spaniel\n",
       "2  n02085620-Chihuahua\\n02085620_10621.jpg      n02092339-Weimaraner\n",
       "3   n02085620-Chihuahua\\n02085620_1073.jpg        n02105505-komondor\n",
       "4  n02085620-Chihuahua\\n02085620_10976.jpg            n02112137-chow"
      ]
     },
     "execution_count": 22,
     "metadata": {},
     "output_type": "execute_result"
    }
   ],
   "source": [
    "results.head()"
   ]
  },
  {
   "cell_type": "code",
   "execution_count": 23,
   "metadata": {},
   "outputs": [],
   "source": [
    "results.to_csv(\"./models/results_details_{}.csv\".format(MODELO), sep=\"|\", index=False)"
   ]
  },
  {
   "cell_type": "code",
   "execution_count": 24,
   "metadata": {},
   "outputs": [],
   "source": [
    "from sklearn.metrics import confusion_matrix\n",
    "cm = confusion_matrix(test_generator.labels, predicted_class_index)"
   ]
  },
  {
   "cell_type": "code",
   "execution_count": 25,
   "metadata": {},
   "outputs": [
    {
     "name": "stdout",
     "output_type": "stream",
     "text": [
      "General Accuracy:0.16\n"
     ]
    }
   ],
   "source": [
    "results_dict = {}\n",
    "tp_sum, fp_sum = 0, 0\n",
    "\n",
    "for ix, row in enumerate(cm):\n",
    "    \n",
    "    tp = row[ix]\n",
    "    fp = np.sum(row) - tp   \n",
    "    results_dict[ix] = [class_labels[ix],tp,fp,(tp/(tp+fp)*100)]\n",
    "\n",
    "    tp_sum += tp\n",
    "    fp_sum += fp\n",
    "    \n",
    "df_res = pd.DataFrame.from_dict(results_dict, orient=\"index\", columns=[\"Class\",\"True Positive\",\"False Positive\",\"Accuracy\"])\n",
    "\n",
    "print(\"General Accuracy:{:0.2f}\".format(tp_sum/(tp_sum+fp_sum)))"
   ]
  },
  {
   "cell_type": "code",
   "execution_count": 26,
   "metadata": {},
   "outputs": [
    {
     "data": {
      "text/html": [
       "<div>\n",
       "<style scoped>\n",
       "    .dataframe tbody tr th:only-of-type {\n",
       "        vertical-align: middle;\n",
       "    }\n",
       "\n",
       "    .dataframe tbody tr th {\n",
       "        vertical-align: top;\n",
       "    }\n",
       "\n",
       "    .dataframe thead th {\n",
       "        text-align: right;\n",
       "    }\n",
       "</style>\n",
       "<table border=\"1\" class=\"dataframe\">\n",
       "  <thead>\n",
       "    <tr style=\"text-align: right;\">\n",
       "      <th></th>\n",
       "      <th>Class</th>\n",
       "      <th>True Positive</th>\n",
       "      <th>False Positive</th>\n",
       "      <th>Accuracy</th>\n",
       "    </tr>\n",
       "  </thead>\n",
       "  <tbody>\n",
       "    <tr>\n",
       "      <th>0</th>\n",
       "      <td>n02085620-Chihuahua</td>\n",
       "      <td>0</td>\n",
       "      <td>22</td>\n",
       "      <td>0.000000</td>\n",
       "    </tr>\n",
       "    <tr>\n",
       "      <th>1</th>\n",
       "      <td>n02085782-Japanese_spaniel</td>\n",
       "      <td>12</td>\n",
       "      <td>15</td>\n",
       "      <td>44.444444</td>\n",
       "    </tr>\n",
       "    <tr>\n",
       "      <th>2</th>\n",
       "      <td>n02085936-Maltese_dog</td>\n",
       "      <td>14</td>\n",
       "      <td>23</td>\n",
       "      <td>37.837838</td>\n",
       "    </tr>\n",
       "    <tr>\n",
       "      <th>3</th>\n",
       "      <td>n02086079-Pekinese</td>\n",
       "      <td>0</td>\n",
       "      <td>22</td>\n",
       "      <td>0.000000</td>\n",
       "    </tr>\n",
       "    <tr>\n",
       "      <th>4</th>\n",
       "      <td>n02086240-Shih-Tzu</td>\n",
       "      <td>5</td>\n",
       "      <td>27</td>\n",
       "      <td>15.625000</td>\n",
       "    </tr>\n",
       "  </tbody>\n",
       "</table>\n",
       "</div>"
      ],
      "text/plain": [
       "                        Class  True Positive  False Positive   Accuracy\n",
       "0         n02085620-Chihuahua              0              22   0.000000\n",
       "1  n02085782-Japanese_spaniel             12              15  44.444444\n",
       "2       n02085936-Maltese_dog             14              23  37.837838\n",
       "3          n02086079-Pekinese              0              22   0.000000\n",
       "4          n02086240-Shih-Tzu              5              27  15.625000"
      ]
     },
     "execution_count": 26,
     "metadata": {},
     "output_type": "execute_result"
    }
   ],
   "source": [
    "df_res.head()"
   ]
  },
  {
   "cell_type": "code",
   "execution_count": 27,
   "metadata": {},
   "outputs": [],
   "source": [
    "df_res.to_csv(\"./models/results_{}.csv\".format(MODELO), sep=\"|\", index=False)"
   ]
  },
  {
   "cell_type": "code",
   "execution_count": null,
   "metadata": {},
   "outputs": [],
   "source": []
  }
 ],
 "metadata": {
  "kernelspec": {
   "display_name": "Python 3",
   "language": "python",
   "name": "python3"
  },
  "language_info": {
   "codemirror_mode": {
    "name": "ipython",
    "version": 3
   },
   "file_extension": ".py",
   "mimetype": "text/x-python",
   "name": "python",
   "nbconvert_exporter": "python",
   "pygments_lexer": "ipython3",
   "version": "3.7.3"
  }
 },
 "nbformat": 4,
 "nbformat_minor": 2
}
