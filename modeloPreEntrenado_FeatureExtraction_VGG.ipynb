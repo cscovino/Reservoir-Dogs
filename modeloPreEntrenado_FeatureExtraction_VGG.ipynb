{
 "cells": [
  {
   "cell_type": "code",
   "execution_count": 1,
   "metadata": {},
   "outputs": [
    {
     "name": "stderr",
     "output_type": "stream",
     "text": [
      "Using TensorFlow backend.\n"
     ]
    },
    {
     "data": {
      "text/plain": [
       "'2.2.5'"
      ]
     },
     "execution_count": 1,
     "metadata": {},
     "output_type": "execute_result"
    }
   ],
   "source": [
    "import numpy as np\n",
    "import keras\n",
    "import os, shutil\n",
    "keras.__version__"
   ]
  },
  {
   "cell_type": "markdown",
   "metadata": {},
   "source": [
    "## Feature extraction (metodo 1)\n",
    "\n",
    "* Ejecutar base convolucional sobre el dataset.\n",
    "* guardar su salida en una matriz Numpy en el disco.\n",
    "* Usar la información como entrada para un clasificador densamente conectado e independiente."
   ]
  },
  {
   "cell_type": "markdown",
   "metadata": {},
   "source": [
    "## Instanciar modelo VGG16"
   ]
  },
  {
   "cell_type": "code",
   "execution_count": 2,
   "metadata": {},
   "outputs": [
    {
     "name": "stdout",
     "output_type": "stream",
     "text": [
      "WARNING:tensorflow:From D:\\WORK\\instalacion\\anaconda3\\lib\\site-packages\\keras\\backend\\tensorflow_backend.py:66: The name tf.get_default_graph is deprecated. Please use tf.compat.v1.get_default_graph instead.\n",
      "\n",
      "WARNING:tensorflow:From D:\\WORK\\instalacion\\anaconda3\\lib\\site-packages\\keras\\backend\\tensorflow_backend.py:541: The name tf.placeholder is deprecated. Please use tf.compat.v1.placeholder instead.\n",
      "\n",
      "WARNING:tensorflow:From D:\\WORK\\instalacion\\anaconda3\\lib\\site-packages\\keras\\backend\\tensorflow_backend.py:4432: The name tf.random_uniform is deprecated. Please use tf.random.uniform instead.\n",
      "\n",
      "WARNING:tensorflow:From D:\\WORK\\instalacion\\anaconda3\\lib\\site-packages\\keras\\backend\\tensorflow_backend.py:4267: The name tf.nn.max_pool is deprecated. Please use tf.nn.max_pool2d instead.\n",
      "\n",
      "WARNING:tensorflow:From D:\\WORK\\instalacion\\anaconda3\\lib\\site-packages\\keras\\backend\\tensorflow_backend.py:190: The name tf.get_default_session is deprecated. Please use tf.compat.v1.get_default_session instead.\n",
      "\n",
      "WARNING:tensorflow:From D:\\WORK\\instalacion\\anaconda3\\lib\\site-packages\\keras\\backend\\tensorflow_backend.py:197: The name tf.ConfigProto is deprecated. Please use tf.compat.v1.ConfigProto instead.\n",
      "\n"
     ]
    }
   ],
   "source": [
    "from keras.applications import VGG16\n",
    "\n",
    "conv_base = VGG16(weights='imagenet',\n",
    "                  include_top=False,\n",
    "                  input_shape=(150, 150, 3))"
   ]
  },
  {
   "cell_type": "code",
   "execution_count": 3,
   "metadata": {},
   "outputs": [
    {
     "name": "stdout",
     "output_type": "stream",
     "text": [
      "Model: \"vgg16\"\n",
      "_________________________________________________________________\n",
      "Layer (type)                 Output Shape              Param #   \n",
      "=================================================================\n",
      "input_1 (InputLayer)         (None, 150, 150, 3)       0         \n",
      "_________________________________________________________________\n",
      "block1_conv1 (Conv2D)        (None, 150, 150, 64)      1792      \n",
      "_________________________________________________________________\n",
      "block1_conv2 (Conv2D)        (None, 150, 150, 64)      36928     \n",
      "_________________________________________________________________\n",
      "block1_pool (MaxPooling2D)   (None, 75, 75, 64)        0         \n",
      "_________________________________________________________________\n",
      "block2_conv1 (Conv2D)        (None, 75, 75, 128)       73856     \n",
      "_________________________________________________________________\n",
      "block2_conv2 (Conv2D)        (None, 75, 75, 128)       147584    \n",
      "_________________________________________________________________\n",
      "block2_pool (MaxPooling2D)   (None, 37, 37, 128)       0         \n",
      "_________________________________________________________________\n",
      "block3_conv1 (Conv2D)        (None, 37, 37, 256)       295168    \n",
      "_________________________________________________________________\n",
      "block3_conv2 (Conv2D)        (None, 37, 37, 256)       590080    \n",
      "_________________________________________________________________\n",
      "block3_conv3 (Conv2D)        (None, 37, 37, 256)       590080    \n",
      "_________________________________________________________________\n",
      "block3_pool (MaxPooling2D)   (None, 18, 18, 256)       0         \n",
      "_________________________________________________________________\n",
      "block4_conv1 (Conv2D)        (None, 18, 18, 512)       1180160   \n",
      "_________________________________________________________________\n",
      "block4_conv2 (Conv2D)        (None, 18, 18, 512)       2359808   \n",
      "_________________________________________________________________\n",
      "block4_conv3 (Conv2D)        (None, 18, 18, 512)       2359808   \n",
      "_________________________________________________________________\n",
      "block4_pool (MaxPooling2D)   (None, 9, 9, 512)         0         \n",
      "_________________________________________________________________\n",
      "block5_conv1 (Conv2D)        (None, 9, 9, 512)         2359808   \n",
      "_________________________________________________________________\n",
      "block5_conv2 (Conv2D)        (None, 9, 9, 512)         2359808   \n",
      "_________________________________________________________________\n",
      "block5_conv3 (Conv2D)        (None, 9, 9, 512)         2359808   \n",
      "_________________________________________________________________\n",
      "block5_pool (MaxPooling2D)   (None, 4, 4, 512)         0         \n",
      "=================================================================\n",
      "Total params: 14,714,688\n",
      "Trainable params: 14,714,688\n",
      "Non-trainable params: 0\n",
      "_________________________________________________________________\n"
     ]
    }
   ],
   "source": [
    "conv_base.summary()"
   ]
  },
  {
   "cell_type": "markdown",
   "metadata": {},
   "source": [
    "## Procesar datos\n",
    "* Ejecutar base convolucional sobre dataset."
   ]
  },
  {
   "cell_type": "code",
   "execution_count": 39,
   "metadata": {},
   "outputs": [
    {
     "name": "stdout",
     "output_type": "stream",
     "text": [
      "Found 14530 images belonging to 120 classes.\n",
      "Found 3025 images belonging to 120 classes.\n",
      "Found 3025 images belonging to 120 classes.\n"
     ]
    }
   ],
   "source": [
    "import os\n",
    "import numpy as np\n",
    "from keras.preprocessing.image import ImageDataGenerator\n",
    "\n",
    "base_dir = './process'\n",
    "\n",
    "train_dir = os.path.join(base_dir, 'train')\n",
    "validation_dir = os.path.join(base_dir, 'validation')\n",
    "test_dir = os.path.join(base_dir, 'test')\n",
    "\n",
    "batch_size = 20\n",
    "\n",
    "datagen = ImageDataGenerator(\n",
    "    rescale=1./255,\n",
    "    rotation_range=40,\n",
    "    width_shift_range=0.2,\n",
    "    height_shift_range=0.2,\n",
    "    shear_range=0.2,\n",
    "    zoom_range=0.2,\n",
    "    horizontal_flip=True,)\n",
    "\n",
    "def extract_features(directory, sample_count):\n",
    "  \n",
    "    features = np.zeros(shape=(sample_count, 4, 4, 512))\n",
    "    labels = np.zeros(shape=(sample_count, 120))\n",
    "    \n",
    "    generator = datagen.flow_from_directory(\n",
    "            directory,\n",
    "            target_size=(150, 150),\n",
    "            batch_size=20,\n",
    "            class_mode='categorical')\n",
    "    \n",
    "    i = 0\n",
    "    for inputs_batch, labels_batch in generator:\n",
    "        features_batch = conv_base.predict(inputs_batch)\n",
    "        features[i * batch_size : (i + 1) * batch_size] = features_batch\n",
    "        labels[i * batch_size : (i + 1) * batch_size] = labels_batch\n",
    "        i += 1\n",
    "        \n",
    "        if i * batch_size >= sample_count:\n",
    "            # Notar que este generador devuelve data indefinidamente en un loop,\n",
    "            # debemos cortarlo con un \"break\" despues de que cada imagen haya sido vista una vez\n",
    "            break\n",
    "    \n",
    "    return features, labels\n",
    "\n",
    "train_features, train_labels = extract_features(train_dir, 2000)\n",
    "validation_features, validation_labels = extract_features(validation_dir, 1000)\n",
    "test_features, test_labels = extract_features(test_dir, 1000)"
   ]
  },
  {
   "cell_type": "markdown",
   "metadata": {},
   "source": [
    "## Aplanar los datos de `(samples, 4, 4, 512)` a la forma `(samples, 8192)`"
   ]
  },
  {
   "cell_type": "code",
   "execution_count": 40,
   "metadata": {},
   "outputs": [],
   "source": [
    "train_features = np.reshape(train_features, (2000, 4 * 4 * 512))\n",
    "validation_features = np.reshape(validation_features, (1000, 4 * 4 * 512))\n",
    "test_features = np.reshape(test_features, (1000, 4 * 4 * 512))"
   ]
  },
  {
   "cell_type": "markdown",
   "metadata": {},
   "source": [
    "## Modelo clasificador"
   ]
  },
  {
   "cell_type": "code",
   "execution_count": 41,
   "metadata": {},
   "outputs": [
    {
     "name": "stdout",
     "output_type": "stream",
     "text": [
      "Train on 2000 samples, validate on 1000 samples\n",
      "Epoch 1/150\n",
      "2000/2000 [==============================] - 12s 6ms/step - loss: 5.1100 - acc: 0.0070 - val_loss: 4.7991 - val_acc: 0.0130\n",
      "Epoch 2/150\n",
      "2000/2000 [==============================] - 11s 6ms/step - loss: 4.8822 - acc: 0.0110 - val_loss: 4.7887 - val_acc: 0.0060\n",
      "Epoch 3/150\n",
      "2000/2000 [==============================] - 11s 6ms/step - loss: 4.8341 - acc: 0.0100 - val_loss: 4.7859 - val_acc: 0.0100\n",
      "Epoch 4/150\n",
      "2000/2000 [==============================] - 11s 6ms/step - loss: 4.8076 - acc: 0.0085 - val_loss: 4.7822 - val_acc: 0.0150\n",
      "Epoch 5/150\n",
      "2000/2000 [==============================] - 11s 6ms/step - loss: 4.7851 - acc: 0.0130 - val_loss: 4.7828 - val_acc: 0.0120\n",
      "Epoch 6/150\n",
      "2000/2000 [==============================] - 11s 6ms/step - loss: 4.7618 - acc: 0.0140 - val_loss: 4.7810 - val_acc: 0.0150\n",
      "Epoch 7/150\n",
      "2000/2000 [==============================] - 11s 6ms/step - loss: 4.7432 - acc: 0.0190 - val_loss: 4.7803 - val_acc: 0.0120\n",
      "Epoch 8/150\n",
      "2000/2000 [==============================] - 11s 6ms/step - loss: 4.7425 - acc: 0.0210 - val_loss: 4.7770 - val_acc: 0.0200\n",
      "Epoch 9/150\n",
      "2000/2000 [==============================] - 11s 6ms/step - loss: 4.7183 - acc: 0.0185 - val_loss: 4.7744 - val_acc: 0.0220\n",
      "Epoch 10/150\n",
      "2000/2000 [==============================] - 11s 6ms/step - loss: 4.6887 - acc: 0.0280 - val_loss: 4.7768 - val_acc: 0.0160\n",
      "Epoch 11/150\n",
      "2000/2000 [==============================] - 11s 6ms/step - loss: 4.6697 - acc: 0.0285 - val_loss: 4.7753 - val_acc: 0.0120\n",
      "Epoch 12/150\n",
      "2000/2000 [==============================] - 11s 6ms/step - loss: 4.6690 - acc: 0.0205 - val_loss: 4.7703 - val_acc: 0.0160\n",
      "Epoch 13/150\n",
      "2000/2000 [==============================] - 11s 6ms/step - loss: 4.6478 - acc: 0.0305 - val_loss: 4.7670 - val_acc: 0.0160\n",
      "Epoch 14/150\n",
      "2000/2000 [==============================] - 11s 6ms/step - loss: 4.6173 - acc: 0.0370 - val_loss: 4.7623 - val_acc: 0.0160\n",
      "Epoch 15/150\n",
      "2000/2000 [==============================] - 11s 6ms/step - loss: 4.6009 - acc: 0.0330 - val_loss: 4.7618 - val_acc: 0.0150\n",
      "Epoch 16/150\n",
      "2000/2000 [==============================] - 11s 6ms/step - loss: 4.5773 - acc: 0.0435 - val_loss: 4.7596 - val_acc: 0.0190\n",
      "Epoch 17/150\n",
      "2000/2000 [==============================] - 11s 6ms/step - loss: 4.5489 - acc: 0.0435 - val_loss: 4.7582 - val_acc: 0.0160\n",
      "Epoch 18/150\n",
      "2000/2000 [==============================] - 11s 6ms/step - loss: 4.5349 - acc: 0.0470 - val_loss: 4.7521 - val_acc: 0.0190\n",
      "Epoch 19/150\n",
      "2000/2000 [==============================] - 11s 6ms/step - loss: 4.4976 - acc: 0.0540 - val_loss: 4.7529 - val_acc: 0.0180\n",
      "Epoch 20/150\n",
      "2000/2000 [==============================] - 11s 6ms/step - loss: 4.4755 - acc: 0.0650 - val_loss: 4.7495 - val_acc: 0.0170\n",
      "Epoch 21/150\n",
      "2000/2000 [==============================] - 11s 6ms/step - loss: 4.4603 - acc: 0.0620 - val_loss: 4.7423 - val_acc: 0.0200\n",
      "Epoch 22/150\n",
      "2000/2000 [==============================] - 11s 6ms/step - loss: 4.4177 - acc: 0.0670 - val_loss: 4.7409 - val_acc: 0.0250\n",
      "Epoch 23/150\n",
      "2000/2000 [==============================] - 11s 6ms/step - loss: 4.3915 - acc: 0.0730 - val_loss: 4.7332 - val_acc: 0.0250\n",
      "Epoch 24/150\n",
      "2000/2000 [==============================] - 11s 6ms/step - loss: 4.3650 - acc: 0.0725 - val_loss: 4.7339 - val_acc: 0.0270\n",
      "Epoch 25/150\n",
      "2000/2000 [==============================] - 11s 6ms/step - loss: 4.3387 - acc: 0.0835 - val_loss: 4.7262 - val_acc: 0.0230\n",
      "Epoch 26/150\n",
      "2000/2000 [==============================] - 11s 6ms/step - loss: 4.2831 - acc: 0.0940 - val_loss: 4.7219 - val_acc: 0.0280\n",
      "Epoch 27/150\n",
      "2000/2000 [==============================] - 11s 6ms/step - loss: 4.2720 - acc: 0.0915 - val_loss: 4.7154 - val_acc: 0.0260\n",
      "Epoch 28/150\n",
      "2000/2000 [==============================] - 11s 6ms/step - loss: 4.2377 - acc: 0.1040 - val_loss: 4.7124 - val_acc: 0.0230\n",
      "Epoch 29/150\n",
      "2000/2000 [==============================] - 11s 6ms/step - loss: 4.1750 - acc: 0.1140 - val_loss: 4.7072 - val_acc: 0.0270\n",
      "Epoch 30/150\n",
      "2000/2000 [==============================] - 11s 6ms/step - loss: 4.1870 - acc: 0.1145 - val_loss: 4.7012 - val_acc: 0.0360\n",
      "Epoch 31/150\n",
      "2000/2000 [==============================] - 11s 6ms/step - loss: 4.1442 - acc: 0.1165 - val_loss: 4.6987 - val_acc: 0.0280\n",
      "Epoch 32/150\n",
      "2000/2000 [==============================] - 11s 6ms/step - loss: 4.0807 - acc: 0.1360 - val_loss: 4.6904 - val_acc: 0.0350\n",
      "Epoch 33/150\n",
      "2000/2000 [==============================] - 11s 6ms/step - loss: 4.0347 - acc: 0.1410 - val_loss: 4.6827 - val_acc: 0.0270\n",
      "Epoch 34/150\n",
      "2000/2000 [==============================] - 11s 6ms/step - loss: 4.0173 - acc: 0.1300 - val_loss: 4.6829 - val_acc: 0.0290\n",
      "Epoch 35/150\n",
      "2000/2000 [==============================] - 11s 6ms/step - loss: 3.9872 - acc: 0.1515 - val_loss: 4.6750 - val_acc: 0.0290\n",
      "Epoch 36/150\n",
      "2000/2000 [==============================] - 11s 6ms/step - loss: 3.9427 - acc: 0.1525 - val_loss: 4.6676 - val_acc: 0.0300\n",
      "Epoch 37/150\n",
      "2000/2000 [==============================] - 11s 6ms/step - loss: 3.8921 - acc: 0.1650 - val_loss: 4.6659 - val_acc: 0.0290\n",
      "Epoch 38/150\n",
      "2000/2000 [==============================] - 11s 6ms/step - loss: 3.8509 - acc: 0.1685 - val_loss: 4.6631 - val_acc: 0.0320\n",
      "Epoch 39/150\n",
      "2000/2000 [==============================] - 11s 6ms/step - loss: 3.8407 - acc: 0.1840 - val_loss: 4.6492 - val_acc: 0.0390\n",
      "Epoch 40/150\n",
      "2000/2000 [==============================] - 11s 6ms/step - loss: 3.8052 - acc: 0.1880 - val_loss: 4.6526 - val_acc: 0.0360\n",
      "Epoch 41/150\n",
      "2000/2000 [==============================] - 11s 6ms/step - loss: 3.7634 - acc: 0.1885 - val_loss: 4.6472 - val_acc: 0.0340\n",
      "Epoch 42/150\n",
      "2000/2000 [==============================] - 11s 6ms/step - loss: 3.7486 - acc: 0.1935 - val_loss: 4.6404 - val_acc: 0.0360\n",
      "Epoch 43/150\n",
      "2000/2000 [==============================] - 11s 6ms/step - loss: 3.6725 - acc: 0.2020 - val_loss: 4.6356 - val_acc: 0.0360\n",
      "Epoch 44/150\n",
      "2000/2000 [==============================] - 11s 6ms/step - loss: 3.6326 - acc: 0.2135 - val_loss: 4.6227 - val_acc: 0.0380\n",
      "Epoch 45/150\n",
      "2000/2000 [==============================] - 11s 6ms/step - loss: 3.6349 - acc: 0.2245 - val_loss: 4.6230 - val_acc: 0.0360\n",
      "Epoch 46/150\n",
      "2000/2000 [==============================] - 11s 6ms/step - loss: 3.5728 - acc: 0.2365 - val_loss: 4.6215 - val_acc: 0.0410\n",
      "Epoch 47/150\n",
      "2000/2000 [==============================] - 11s 6ms/step - loss: 3.5339 - acc: 0.2310 - val_loss: 4.6151 - val_acc: 0.0420\n",
      "Epoch 48/150\n",
      "2000/2000 [==============================] - 11s 6ms/step - loss: 3.5313 - acc: 0.2330 - val_loss: 4.6142 - val_acc: 0.0440\n",
      "Epoch 49/150\n",
      "2000/2000 [==============================] - 11s 6ms/step - loss: 3.4753 - acc: 0.2605 - val_loss: 4.6061 - val_acc: 0.0380\n",
      "Epoch 50/150\n",
      "2000/2000 [==============================] - 11s 6ms/step - loss: 3.4543 - acc: 0.2580 - val_loss: 4.6071 - val_acc: 0.0360\n",
      "Epoch 51/150\n",
      "2000/2000 [==============================] - 11s 6ms/step - loss: 3.4215 - acc: 0.2765 - val_loss: 4.5990 - val_acc: 0.0470\n",
      "Epoch 52/150\n",
      "2000/2000 [==============================] - 11s 6ms/step - loss: 3.3540 - acc: 0.2780 - val_loss: 4.5926 - val_acc: 0.0480\n",
      "Epoch 53/150\n",
      "2000/2000 [==============================] - 11s 6ms/step - loss: 3.3125 - acc: 0.2930 - val_loss: 4.5888 - val_acc: 0.0430\n",
      "Epoch 54/150\n",
      "2000/2000 [==============================] - 11s 6ms/step - loss: 3.2848 - acc: 0.2940 - val_loss: 4.5833 - val_acc: 0.0430\n",
      "Epoch 55/150\n",
      "2000/2000 [==============================] - 11s 6ms/step - loss: 3.2611 - acc: 0.3030 - val_loss: 4.5811 - val_acc: 0.0490\n",
      "Epoch 56/150\n",
      "2000/2000 [==============================] - 11s 6ms/step - loss: 3.2399 - acc: 0.3020 - val_loss: 4.5732 - val_acc: 0.0450\n",
      "Epoch 57/150\n",
      "2000/2000 [==============================] - 11s 6ms/step - loss: 3.1672 - acc: 0.3075 - val_loss: 4.5660 - val_acc: 0.0470\n",
      "Epoch 58/150\n",
      "2000/2000 [==============================] - 11s 6ms/step - loss: 3.1517 - acc: 0.3210 - val_loss: 4.5671 - val_acc: 0.0530\n",
      "Epoch 59/150\n",
      "2000/2000 [==============================] - 11s 6ms/step - loss: 3.0551 - acc: 0.3425 - val_loss: 4.5601 - val_acc: 0.0530\n",
      "Epoch 60/150\n"
     ]
    },
    {
     "name": "stdout",
     "output_type": "stream",
     "text": [
      "2000/2000 [==============================] - 11s 6ms/step - loss: 3.0379 - acc: 0.3490 - val_loss: 4.5579 - val_acc: 0.0460\n",
      "Epoch 61/150\n",
      "2000/2000 [==============================] - 11s 6ms/step - loss: 3.0354 - acc: 0.3335 - val_loss: 4.5499 - val_acc: 0.0520\n",
      "Epoch 62/150\n",
      "2000/2000 [==============================] - 12s 6ms/step - loss: 3.0063 - acc: 0.3490 - val_loss: 4.5530 - val_acc: 0.0500\n",
      "Epoch 63/150\n",
      "2000/2000 [==============================] - 11s 6ms/step - loss: 2.9642 - acc: 0.3530 - val_loss: 4.5460 - val_acc: 0.0520\n",
      "Epoch 64/150\n",
      "2000/2000 [==============================] - 11s 6ms/step - loss: 2.9275 - acc: 0.3660 - val_loss: 4.5424 - val_acc: 0.0540\n",
      "Epoch 65/150\n",
      "2000/2000 [==============================] - 11s 6ms/step - loss: 2.9019 - acc: 0.3755 - val_loss: 4.5372 - val_acc: 0.0520\n",
      "Epoch 66/150\n",
      "2000/2000 [==============================] - 11s 6ms/step - loss: 2.8520 - acc: 0.3905 - val_loss: 4.5429 - val_acc: 0.0520\n",
      "Epoch 67/150\n",
      "2000/2000 [==============================] - 11s 6ms/step - loss: 2.8375 - acc: 0.3795 - val_loss: 4.5293 - val_acc: 0.0500\n",
      "Epoch 68/150\n",
      "2000/2000 [==============================] - 11s 6ms/step - loss: 2.7575 - acc: 0.4285 - val_loss: 4.5287 - val_acc: 0.0520\n",
      "Epoch 69/150\n",
      "2000/2000 [==============================] - 11s 6ms/step - loss: 2.7519 - acc: 0.4005 - val_loss: 4.5222 - val_acc: 0.0500\n",
      "Epoch 70/150\n",
      "2000/2000 [==============================] - 11s 6ms/step - loss: 2.7116 - acc: 0.4180 - val_loss: 4.5205 - val_acc: 0.0550\n",
      "Epoch 71/150\n",
      "2000/2000 [==============================] - 11s 6ms/step - loss: 2.7285 - acc: 0.4085 - val_loss: 4.5181 - val_acc: 0.0510\n",
      "Epoch 72/150\n",
      "2000/2000 [==============================] - 11s 6ms/step - loss: 2.6622 - acc: 0.4300 - val_loss: 4.5164 - val_acc: 0.0530\n",
      "Epoch 73/150\n",
      "2000/2000 [==============================] - 11s 6ms/step - loss: 2.6131 - acc: 0.4465 - val_loss: 4.5098 - val_acc: 0.0510\n",
      "Epoch 74/150\n",
      "2000/2000 [==============================] - 11s 6ms/step - loss: 2.5985 - acc: 0.4480 - val_loss: 4.5122 - val_acc: 0.0580\n",
      "Epoch 75/150\n",
      "2000/2000 [==============================] - 11s 6ms/step - loss: 2.5832 - acc: 0.4450 - val_loss: 4.5113 - val_acc: 0.0540\n",
      "Epoch 76/150\n",
      "2000/2000 [==============================] - 11s 6ms/step - loss: 2.4921 - acc: 0.4800 - val_loss: 4.5035 - val_acc: 0.0560\n",
      "Epoch 77/150\n",
      "2000/2000 [==============================] - 11s 6ms/step - loss: 2.4556 - acc: 0.4695 - val_loss: 4.4986 - val_acc: 0.0530\n",
      "Epoch 78/150\n",
      "2000/2000 [==============================] - 11s 6ms/step - loss: 2.4697 - acc: 0.4805 - val_loss: 4.4958 - val_acc: 0.0550\n",
      "Epoch 79/150\n",
      "2000/2000 [==============================] - 11s 6ms/step - loss: 2.4286 - acc: 0.4855 - val_loss: 4.4962 - val_acc: 0.0540\n",
      "Epoch 80/150\n",
      "2000/2000 [==============================] - 11s 6ms/step - loss: 2.3422 - acc: 0.5140 - val_loss: 4.4938 - val_acc: 0.0550\n",
      "Epoch 81/150\n",
      "2000/2000 [==============================] - 11s 6ms/step - loss: 2.3883 - acc: 0.4895 - val_loss: 4.4883 - val_acc: 0.0510\n",
      "Epoch 82/150\n",
      "2000/2000 [==============================] - 11s 6ms/step - loss: 2.3272 - acc: 0.5135 - val_loss: 4.4871 - val_acc: 0.0520\n",
      "Epoch 83/150\n",
      "2000/2000 [==============================] - 11s 6ms/step - loss: 2.2915 - acc: 0.5085 - val_loss: 4.4884 - val_acc: 0.0530\n",
      "Epoch 84/150\n",
      "2000/2000 [==============================] - 11s 6ms/step - loss: 2.2513 - acc: 0.5285 - val_loss: 4.4895 - val_acc: 0.0520\n",
      "Epoch 85/150\n",
      "2000/2000 [==============================] - 11s 6ms/step - loss: 2.2220 - acc: 0.5315 - val_loss: 4.4887 - val_acc: 0.0490\n",
      "Epoch 86/150\n",
      "2000/2000 [==============================] - 11s 6ms/step - loss: 2.1694 - acc: 0.5460 - val_loss: 4.4821 - val_acc: 0.0500\n",
      "Epoch 87/150\n",
      "2000/2000 [==============================] - 11s 6ms/step - loss: 2.1736 - acc: 0.5375 - val_loss: 4.4777 - val_acc: 0.0510\n",
      "Epoch 88/150\n",
      "2000/2000 [==============================] - 11s 6ms/step - loss: 2.1562 - acc: 0.5525 - val_loss: 4.4790 - val_acc: 0.0550\n",
      "Epoch 89/150\n",
      "2000/2000 [==============================] - 11s 6ms/step - loss: 2.1169 - acc: 0.5490 - val_loss: 4.4788 - val_acc: 0.0490\n",
      "Epoch 90/150\n",
      "2000/2000 [==============================] - 11s 6ms/step - loss: 2.0803 - acc: 0.5700 - val_loss: 4.4752 - val_acc: 0.0550\n",
      "Epoch 91/150\n",
      "2000/2000 [==============================] - 11s 6ms/step - loss: 2.0635 - acc: 0.5710 - val_loss: 4.4788 - val_acc: 0.0540\n",
      "Epoch 92/150\n",
      "2000/2000 [==============================] - 11s 6ms/step - loss: 2.0569 - acc: 0.5760 - val_loss: 4.4784 - val_acc: 0.0570\n",
      "Epoch 93/150\n",
      "2000/2000 [==============================] - 11s 6ms/step - loss: 1.9353 - acc: 0.6010 - val_loss: 4.4769 - val_acc: 0.0550\n",
      "Epoch 94/150\n",
      "2000/2000 [==============================] - 11s 6ms/step - loss: 1.9674 - acc: 0.5940 - val_loss: 4.4703 - val_acc: 0.0580\n",
      "Epoch 95/150\n",
      "2000/2000 [==============================] - 11s 6ms/step - loss: 1.9949 - acc: 0.5955 - val_loss: 4.4707 - val_acc: 0.0500\n",
      "Epoch 96/150\n",
      "2000/2000 [==============================] - 11s 6ms/step - loss: 1.9459 - acc: 0.5970 - val_loss: 4.4731 - val_acc: 0.0560\n",
      "Epoch 97/150\n",
      "2000/2000 [==============================] - 11s 6ms/step - loss: 1.8678 - acc: 0.6205 - val_loss: 4.4680 - val_acc: 0.0480\n",
      "Epoch 98/150\n",
      "2000/2000 [==============================] - 11s 6ms/step - loss: 1.8488 - acc: 0.6240 - val_loss: 4.4638 - val_acc: 0.0530\n",
      "Epoch 99/150\n",
      "2000/2000 [==============================] - 11s 6ms/step - loss: 1.8515 - acc: 0.6275 - val_loss: 4.4672 - val_acc: 0.0540\n",
      "Epoch 100/150\n",
      "2000/2000 [==============================] - 11s 6ms/step - loss: 1.8260 - acc: 0.6370 - val_loss: 4.4677 - val_acc: 0.0510\n",
      "Epoch 101/150\n",
      "2000/2000 [==============================] - 11s 6ms/step - loss: 1.7813 - acc: 0.6445 - val_loss: 4.4609 - val_acc: 0.0530\n",
      "Epoch 102/150\n",
      "2000/2000 [==============================] - 11s 6ms/step - loss: 1.7408 - acc: 0.6440 - val_loss: 4.4621 - val_acc: 0.0490\n",
      "Epoch 103/150\n",
      "2000/2000 [==============================] - 11s 6ms/step - loss: 1.7311 - acc: 0.6480 - val_loss: 4.4598 - val_acc: 0.0530\n",
      "Epoch 104/150\n",
      "2000/2000 [==============================] - 11s 6ms/step - loss: 1.7021 - acc: 0.6500 - val_loss: 4.4654 - val_acc: 0.0530\n",
      "Epoch 105/150\n",
      "2000/2000 [==============================] - 11s 6ms/step - loss: 1.6622 - acc: 0.6710 - val_loss: 4.4630 - val_acc: 0.0570\n",
      "Epoch 106/150\n",
      "2000/2000 [==============================] - 11s 6ms/step - loss: 1.6647 - acc: 0.6805 - val_loss: 4.4539 - val_acc: 0.0570\n",
      "Epoch 107/150\n",
      "2000/2000 [==============================] - 11s 6ms/step - loss: 1.6520 - acc: 0.6735 - val_loss: 4.4600 - val_acc: 0.0510\n",
      "Epoch 108/150\n",
      "2000/2000 [==============================] - 11s 6ms/step - loss: 1.6165 - acc: 0.6775 - val_loss: 4.4546 - val_acc: 0.0530\n",
      "Epoch 109/150\n",
      "2000/2000 [==============================] - 11s 6ms/step - loss: 1.5990 - acc: 0.6880 - val_loss: 4.4621 - val_acc: 0.0490\n",
      "Epoch 110/150\n",
      "2000/2000 [==============================] - 11s 6ms/step - loss: 1.5671 - acc: 0.6990 - val_loss: 4.4568 - val_acc: 0.0590\n",
      "Epoch 111/150\n",
      "2000/2000 [==============================] - 11s 6ms/step - loss: 1.5144 - acc: 0.6980 - val_loss: 4.4645 - val_acc: 0.0550\n",
      "Epoch 112/150\n",
      "2000/2000 [==============================] - 11s 6ms/step - loss: 1.5012 - acc: 0.6950 - val_loss: 4.4594 - val_acc: 0.0520\n",
      "Epoch 113/150\n",
      "2000/2000 [==============================] - 11s 6ms/step - loss: 1.5332 - acc: 0.6820 - val_loss: 4.4654 - val_acc: 0.0560\n",
      "Epoch 114/150\n",
      "2000/2000 [==============================] - 11s 6ms/step - loss: 1.4825 - acc: 0.7120 - val_loss: 4.4641 - val_acc: 0.0590\n",
      "Epoch 115/150\n",
      "2000/2000 [==============================] - 11s 6ms/step - loss: 1.4405 - acc: 0.7140 - val_loss: 4.4740 - val_acc: 0.0570\n",
      "Epoch 116/150\n",
      "2000/2000 [==============================] - 11s 6ms/step - loss: 1.4039 - acc: 0.7185 - val_loss: 4.4621 - val_acc: 0.0610\n",
      "Epoch 117/150\n",
      "2000/2000 [==============================] - 11s 6ms/step - loss: 1.4022 - acc: 0.7385 - val_loss: 4.4570 - val_acc: 0.0590\n",
      "Epoch 118/150\n",
      "2000/2000 [==============================] - 11s 6ms/step - loss: 1.4224 - acc: 0.7185 - val_loss: 4.4649 - val_acc: 0.0570\n",
      "Epoch 119/150\n",
      "2000/2000 [==============================] - 11s 6ms/step - loss: 1.3533 - acc: 0.7610 - val_loss: 4.4680 - val_acc: 0.0590\n"
     ]
    },
    {
     "name": "stdout",
     "output_type": "stream",
     "text": [
      "Epoch 120/150\n",
      "2000/2000 [==============================] - 11s 6ms/step - loss: 1.3784 - acc: 0.7265 - val_loss: 4.4663 - val_acc: 0.0610\n",
      "Epoch 121/150\n",
      "2000/2000 [==============================] - 11s 6ms/step - loss: 1.3593 - acc: 0.7340 - val_loss: 4.4666 - val_acc: 0.0590\n",
      "Epoch 122/150\n",
      "2000/2000 [==============================] - 11s 6ms/step - loss: 1.3367 - acc: 0.7530 - val_loss: 4.4691 - val_acc: 0.0610\n",
      "Epoch 123/150\n",
      "2000/2000 [==============================] - 11s 6ms/step - loss: 1.3063 - acc: 0.7525 - val_loss: 4.4643 - val_acc: 0.0550\n",
      "Epoch 124/150\n",
      "2000/2000 [==============================] - 11s 6ms/step - loss: 1.2584 - acc: 0.7640 - val_loss: 4.4671 - val_acc: 0.0540\n",
      "Epoch 125/150\n",
      "2000/2000 [==============================] - 11s 6ms/step - loss: 1.2503 - acc: 0.7640 - val_loss: 4.4679 - val_acc: 0.0590\n",
      "Epoch 126/150\n",
      "2000/2000 [==============================] - 11s 6ms/step - loss: 1.2310 - acc: 0.7750 - val_loss: 4.4701 - val_acc: 0.0620\n",
      "Epoch 127/150\n",
      "2000/2000 [==============================] - 11s 6ms/step - loss: 1.2373 - acc: 0.7685 - val_loss: 4.4677 - val_acc: 0.0580\n",
      "Epoch 128/150\n",
      "2000/2000 [==============================] - 11s 6ms/step - loss: 1.1998 - acc: 0.7795 - val_loss: 4.4699 - val_acc: 0.0570\n",
      "Epoch 129/150\n",
      "2000/2000 [==============================] - 11s 6ms/step - loss: 1.2018 - acc: 0.7770 - val_loss: 4.4654 - val_acc: 0.0600\n",
      "Epoch 130/150\n",
      "2000/2000 [==============================] - 11s 6ms/step - loss: 1.1641 - acc: 0.7800 - val_loss: 4.4689 - val_acc: 0.0600\n",
      "Epoch 131/150\n",
      "2000/2000 [==============================] - 11s 6ms/step - loss: 1.1463 - acc: 0.7890 - val_loss: 4.4619 - val_acc: 0.0630\n",
      "Epoch 132/150\n",
      "2000/2000 [==============================] - 11s 6ms/step - loss: 1.1139 - acc: 0.7990 - val_loss: 4.4711 - val_acc: 0.0560\n",
      "Epoch 133/150\n",
      "2000/2000 [==============================] - 11s 6ms/step - loss: 1.1072 - acc: 0.8000 - val_loss: 4.4729 - val_acc: 0.0630\n",
      "Epoch 134/150\n",
      "2000/2000 [==============================] - 11s 6ms/step - loss: 1.1025 - acc: 0.7950 - val_loss: 4.4836 - val_acc: 0.0530\n",
      "Epoch 135/150\n",
      "2000/2000 [==============================] - 11s 6ms/step - loss: 1.0544 - acc: 0.8065 - val_loss: 4.4743 - val_acc: 0.0550\n",
      "Epoch 136/150\n",
      "2000/2000 [==============================] - 11s 6ms/step - loss: 1.0462 - acc: 0.8055 - val_loss: 4.4754 - val_acc: 0.0570\n",
      "Epoch 137/150\n",
      "2000/2000 [==============================] - 11s 6ms/step - loss: 1.0388 - acc: 0.8080 - val_loss: 4.4731 - val_acc: 0.0590\n",
      "Epoch 138/150\n",
      "2000/2000 [==============================] - 11s 6ms/step - loss: 1.0393 - acc: 0.8145 - val_loss: 4.4782 - val_acc: 0.0610\n",
      "Epoch 139/150\n",
      "2000/2000 [==============================] - 11s 6ms/step - loss: 0.9999 - acc: 0.8290 - val_loss: 4.4819 - val_acc: 0.0570\n",
      "Epoch 140/150\n",
      "2000/2000 [==============================] - 11s 6ms/step - loss: 1.0104 - acc: 0.8215 - val_loss: 4.4807 - val_acc: 0.0600\n",
      "Epoch 141/150\n",
      "2000/2000 [==============================] - 11s 6ms/step - loss: 0.9937 - acc: 0.8235 - val_loss: 4.4812 - val_acc: 0.0580\n",
      "Epoch 142/150\n",
      "2000/2000 [==============================] - 11s 6ms/step - loss: 0.9541 - acc: 0.8310 - val_loss: 4.4837 - val_acc: 0.0640\n",
      "Epoch 143/150\n",
      "2000/2000 [==============================] - 11s 6ms/step - loss: 0.9229 - acc: 0.8330 - val_loss: 4.4879 - val_acc: 0.0610\n",
      "Epoch 144/150\n",
      "2000/2000 [==============================] - 11s 6ms/step - loss: 0.9210 - acc: 0.8355 - val_loss: 4.4918 - val_acc: 0.0540\n",
      "Epoch 145/150\n",
      "2000/2000 [==============================] - 11s 6ms/step - loss: 0.9163 - acc: 0.8410 - val_loss: 4.4861 - val_acc: 0.0620\n",
      "Epoch 146/150\n",
      "2000/2000 [==============================] - 11s 6ms/step - loss: 0.9242 - acc: 0.8360 - val_loss: 4.4853 - val_acc: 0.0540\n",
      "Epoch 147/150\n",
      "2000/2000 [==============================] - 11s 6ms/step - loss: 0.9061 - acc: 0.8490 - val_loss: 4.4915 - val_acc: 0.0590\n",
      "Epoch 148/150\n",
      "2000/2000 [==============================] - 11s 6ms/step - loss: 0.8670 - acc: 0.8475 - val_loss: 4.4955 - val_acc: 0.0610\n",
      "Epoch 149/150\n",
      "2000/2000 [==============================] - 11s 6ms/step - loss: 0.8683 - acc: 0.8515 - val_loss: 4.4950 - val_acc: 0.0620\n",
      "Epoch 150/150\n",
      "2000/2000 [==============================] - 11s 6ms/step - loss: 0.8524 - acc: 0.8520 - val_loss: 4.4915 - val_acc: 0.0630\n"
     ]
    }
   ],
   "source": [
    "from keras import models\n",
    "from keras import layers\n",
    "from keras import optimizers\n",
    "\n",
    "model = models.Sequential()\n",
    "model.add(layers.Dense(512, activation='relu', input_dim=4 * 4 * 512))\n",
    "model.add(layers.Dropout(0.5))\n",
    "model.add(layers.Dense(256, activation='relu'))\n",
    "model.add(layers.Dropout(0.5))\n",
    "model.add(layers.Dense(120, activation='softmax'))\n",
    "\n",
    "model.compile(optimizer=optimizers.Adam(lr=2e-5),\n",
    "              loss='categorical_crossentropy',\n",
    "              metrics=['acc'])\n",
    "\n",
    "history = model.fit(\n",
    "        train_features, \n",
    "        train_labels,\n",
    "        epochs=150,\n",
    "        batch_size=20,\n",
    "        validation_data=(validation_features, validation_labels))"
   ]
  },
  {
   "cell_type": "markdown",
   "metadata": {},
   "source": [
    "## Graficos"
   ]
  },
  {
   "cell_type": "code",
   "execution_count": 42,
   "metadata": {},
   "outputs": [
    {
     "data": {
      "image/png": "[encoded data removed]",
      "text/plain": [
       "<Figure size 432x288 with 1 Axes>"
      ]
     },
     "metadata": {
      "needs_background": "light"
     },
     "output_type": "display_data"
    },
    {
     "data": {
      "image/png": "[encoded data removed]",
      "text/plain": [
       "<Figure size 432x288 with 1 Axes>"
      ]
     },
     "metadata": {
      "needs_background": "light"
     },
     "output_type": "display_data"
    }
   ],
   "source": [
    "import matplotlib.pyplot as plt\n",
    "\n",
    "acc = history.history['acc']\n",
    "val_acc = history.history['val_acc']\n",
    "loss = history.history['loss']\n",
    "val_loss = history.history['val_loss']\n",
    "\n",
    "epochs = range(len(acc))\n",
    "\n",
    "plt.plot(epochs, acc, 'bo', label='Training acc')\n",
    "plt.plot(epochs, val_acc, 'b', label='Validation acc')\n",
    "plt.title('Training and validation accuracy')\n",
    "plt.legend()\n",
    "\n",
    "plt.figure()\n",
    "\n",
    "plt.plot(epochs, loss, 'bo', label='Training loss')\n",
    "plt.plot(epochs, val_loss, 'b', label='Validation loss')\n",
    "plt.title('Training and validation loss')\n",
    "plt.legend()\n",
    "\n",
    "plt.show()"
   ]
  },
  {
   "cell_type": "markdown",
   "metadata": {},
   "source": [
    "## Feature extraction (metodo 2)\n",
    "* Extender el modelo agregando capas densas en la parte superior\n",
    "* Entrenar toda la red."
   ]
  },
  {
   "cell_type": "markdown",
   "metadata": {},
   "source": [
    "## Modelo"
   ]
  },
  {
   "cell_type": "code",
   "execution_count": 43,
   "metadata": {},
   "outputs": [],
   "source": [
    "from keras import models\n",
    "from keras import layers\n",
    "\n",
    "model = models.Sequential()\n",
    "model.add(conv_base)\n",
    "model.add(layers.Flatten())\n",
    "model.add(layers.Dense(256, activation='relu'))\n",
    "model.add(layers.Dense(120, activation='softmax'))"
   ]
  },
  {
   "cell_type": "code",
   "execution_count": 45,
   "metadata": {},
   "outputs": [
    {
     "name": "stdout",
     "output_type": "stream",
     "text": [
      "Model: \"sequential_7\"\n",
      "_________________________________________________________________\n",
      "Layer (type)                 Output Shape              Param #   \n",
      "=================================================================\n",
      "vgg16 (Model)                (None, 4, 4, 512)         14714688  \n",
      "_________________________________________________________________\n",
      "flatten_2 (Flatten)          (None, 8192)              0         \n",
      "_________________________________________________________________\n",
      "dense_16 (Dense)             (None, 256)               2097408   \n",
      "_________________________________________________________________\n",
      "dense_17 (Dense)             (None, 120)               30840     \n",
      "=================================================================\n",
      "Total params: 16,842,936\n",
      "Trainable params: 2,128,248\n",
      "Non-trainable params: 14,714,688\n",
      "_________________________________________________________________\n"
     ]
    }
   ],
   "source": [
    "model.summary()"
   ]
  },
  {
   "cell_type": "markdown",
   "metadata": {},
   "source": [
    "## Definir como no entrenable la base convolucional"
   ]
  },
  {
   "cell_type": "code",
   "execution_count": 44,
   "metadata": {},
   "outputs": [],
   "source": [
    "conv_base.trainable = False"
   ]
  },
  {
   "cell_type": "markdown",
   "metadata": {},
   "source": [
    "## Generadores"
   ]
  },
  {
   "cell_type": "code",
   "execution_count": 46,
   "metadata": {},
   "outputs": [
    {
     "name": "stdout",
     "output_type": "stream",
     "text": [
      "Found 14530 images belonging to 120 classes.\n",
      "Found 3025 images belonging to 120 classes.\n"
     ]
    }
   ],
   "source": [
    "train_datagen = ImageDataGenerator(\n",
    "      rescale=1./255,\n",
    "      rotation_range=40,\n",
    "      width_shift_range=0.2,\n",
    "      height_shift_range=0.2,\n",
    "      shear_range=0.2,\n",
    "      zoom_range=0.2,\n",
    "      horizontal_flip=True,\n",
    "      fill_mode='nearest')\n",
    "\n",
    "test_datagen = ImageDataGenerator(rescale=1./255)\n",
    "\n",
    "train_generator = train_datagen.flow_from_directory(\n",
    "        train_dir,\n",
    "        target_size=(150, 150),\n",
    "        batch_size=20,\n",
    "        class_mode='categorical')\n",
    "\n",
    "validation_generator = test_datagen.flow_from_directory(\n",
    "        test_dir,\n",
    "        target_size=(150, 150),\n",
    "        batch_size=20,\n",
    "        class_mode='categorical')"
   ]
  },
  {
   "cell_type": "markdown",
   "metadata": {},
   "source": [
    "## Compila modelo"
   ]
  },
  {
   "cell_type": "code",
   "execution_count": 49,
   "metadata": {},
   "outputs": [],
   "source": [
    "model.compile(loss='categorical_crossentropy',\n",
    "              optimizer=optimizers.RMSprop(lr=2e-5),\n",
    "              metrics=['acc'])"
   ]
  },
  {
   "cell_type": "markdown",
   "metadata": {},
   "source": [
    "## Entrenamiento"
   ]
  },
  {
   "cell_type": "code",
   "execution_count": 50,
   "metadata": {},
   "outputs": [
    {
     "name": "stdout",
     "output_type": "stream",
     "text": [
      "Epoch 1/30\n"
     ]
    },
    {
     "ename": "KeyboardInterrupt",
     "evalue": "",
     "output_type": "error",
     "traceback": [
      "\u001b[1;31m---------------------------------------------------------------------------\u001b[0m",
      "\u001b[1;31mKeyboardInterrupt\u001b[0m                         Traceback (most recent call last)",
      "\u001b[1;32m<ipython-input-50-8c1a8a6f98a4>\u001b[0m in \u001b[0;36m<module>\u001b[1;34m\u001b[0m\n\u001b[0;32m      5\u001b[0m       \u001b[0mvalidation_data\u001b[0m\u001b[1;33m=\u001b[0m\u001b[0mvalidation_generator\u001b[0m\u001b[1;33m,\u001b[0m\u001b[1;33m\u001b[0m\u001b[1;33m\u001b[0m\u001b[0m\n\u001b[0;32m      6\u001b[0m       \u001b[0mvalidation_steps\u001b[0m\u001b[1;33m=\u001b[0m\u001b[1;36m50\u001b[0m\u001b[1;33m,\u001b[0m\u001b[1;33m\u001b[0m\u001b[1;33m\u001b[0m\u001b[0m\n\u001b[1;32m----> 7\u001b[1;33m       verbose=2)\n\u001b[0m",
      "\u001b[1;32mD:\\WORK\\instalacion\\anaconda3\\lib\\site-packages\\keras\\legacy\\interfaces.py\u001b[0m in \u001b[0;36mwrapper\u001b[1;34m(*args, **kwargs)\u001b[0m\n\u001b[0;32m     89\u001b[0m                 warnings.warn('Update your `' + object_name + '` call to the ' +\n\u001b[0;32m     90\u001b[0m                               'Keras 2 API: ' + signature, stacklevel=2)\n\u001b[1;32m---> 91\u001b[1;33m             \u001b[1;32mreturn\u001b[0m \u001b[0mfunc\u001b[0m\u001b[1;33m(\u001b[0m\u001b[1;33m*\u001b[0m\u001b[0margs\u001b[0m\u001b[1;33m,\u001b[0m \u001b[1;33m**\u001b[0m\u001b[0mkwargs\u001b[0m\u001b[1;33m)\u001b[0m\u001b[1;33m\u001b[0m\u001b[1;33m\u001b[0m\u001b[0m\n\u001b[0m\u001b[0;32m     92\u001b[0m         \u001b[0mwrapper\u001b[0m\u001b[1;33m.\u001b[0m\u001b[0m_original_function\u001b[0m \u001b[1;33m=\u001b[0m \u001b[0mfunc\u001b[0m\u001b[1;33m\u001b[0m\u001b[1;33m\u001b[0m\u001b[0m\n\u001b[0;32m     93\u001b[0m         \u001b[1;32mreturn\u001b[0m \u001b[0mwrapper\u001b[0m\u001b[1;33m\u001b[0m\u001b[1;33m\u001b[0m\u001b[0m\n",
      "\u001b[1;32mD:\\WORK\\instalacion\\anaconda3\\lib\\site-packages\\keras\\engine\\training.py\u001b[0m in \u001b[0;36mfit_generator\u001b[1;34m(self, generator, steps_per_epoch, epochs, verbose, callbacks, validation_data, validation_steps, validation_freq, class_weight, max_queue_size, workers, use_multiprocessing, shuffle, initial_epoch)\u001b[0m\n\u001b[0;32m   1656\u001b[0m             \u001b[0muse_multiprocessing\u001b[0m\u001b[1;33m=\u001b[0m\u001b[0muse_multiprocessing\u001b[0m\u001b[1;33m,\u001b[0m\u001b[1;33m\u001b[0m\u001b[1;33m\u001b[0m\u001b[0m\n\u001b[0;32m   1657\u001b[0m             \u001b[0mshuffle\u001b[0m\u001b[1;33m=\u001b[0m\u001b[0mshuffle\u001b[0m\u001b[1;33m,\u001b[0m\u001b[1;33m\u001b[0m\u001b[1;33m\u001b[0m\u001b[0m\n\u001b[1;32m-> 1658\u001b[1;33m             initial_epoch=initial_epoch)\n\u001b[0m\u001b[0;32m   1659\u001b[0m \u001b[1;33m\u001b[0m\u001b[0m\n\u001b[0;32m   1660\u001b[0m     \u001b[1;33m@\u001b[0m\u001b[0minterfaces\u001b[0m\u001b[1;33m.\u001b[0m\u001b[0mlegacy_generator_methods_support\u001b[0m\u001b[1;33m\u001b[0m\u001b[1;33m\u001b[0m\u001b[0m\n",
      "\u001b[1;32mD:\\WORK\\instalacion\\anaconda3\\lib\\site-packages\\keras\\engine\\training_generator.py\u001b[0m in \u001b[0;36mfit_generator\u001b[1;34m(model, generator, steps_per_epoch, epochs, verbose, callbacks, validation_data, validation_steps, validation_freq, class_weight, max_queue_size, workers, use_multiprocessing, shuffle, initial_epoch)\u001b[0m\n\u001b[0;32m    213\u001b[0m                 outs = model.train_on_batch(x, y,\n\u001b[0;32m    214\u001b[0m                                             \u001b[0msample_weight\u001b[0m\u001b[1;33m=\u001b[0m\u001b[0msample_weight\u001b[0m\u001b[1;33m,\u001b[0m\u001b[1;33m\u001b[0m\u001b[1;33m\u001b[0m\u001b[0m\n\u001b[1;32m--> 215\u001b[1;33m                                             class_weight=class_weight)\n\u001b[0m\u001b[0;32m    216\u001b[0m \u001b[1;33m\u001b[0m\u001b[0m\n\u001b[0;32m    217\u001b[0m                 \u001b[0mouts\u001b[0m \u001b[1;33m=\u001b[0m \u001b[0mto_list\u001b[0m\u001b[1;33m(\u001b[0m\u001b[0mouts\u001b[0m\u001b[1;33m)\u001b[0m\u001b[1;33m\u001b[0m\u001b[1;33m\u001b[0m\u001b[0m\n",
      "\u001b[1;32mD:\\WORK\\instalacion\\anaconda3\\lib\\site-packages\\keras\\engine\\training.py\u001b[0m in \u001b[0;36mtrain_on_batch\u001b[1;34m(self, x, y, sample_weight, class_weight)\u001b[0m\n\u001b[0;32m   1447\u001b[0m             \u001b[0mins\u001b[0m \u001b[1;33m=\u001b[0m \u001b[0mx\u001b[0m \u001b[1;33m+\u001b[0m \u001b[0my\u001b[0m \u001b[1;33m+\u001b[0m \u001b[0msample_weights\u001b[0m\u001b[1;33m\u001b[0m\u001b[1;33m\u001b[0m\u001b[0m\n\u001b[0;32m   1448\u001b[0m         \u001b[0mself\u001b[0m\u001b[1;33m.\u001b[0m\u001b[0m_make_train_function\u001b[0m\u001b[1;33m(\u001b[0m\u001b[1;33m)\u001b[0m\u001b[1;33m\u001b[0m\u001b[1;33m\u001b[0m\u001b[0m\n\u001b[1;32m-> 1449\u001b[1;33m         \u001b[0moutputs\u001b[0m \u001b[1;33m=\u001b[0m \u001b[0mself\u001b[0m\u001b[1;33m.\u001b[0m\u001b[0mtrain_function\u001b[0m\u001b[1;33m(\u001b[0m\u001b[0mins\u001b[0m\u001b[1;33m)\u001b[0m\u001b[1;33m\u001b[0m\u001b[1;33m\u001b[0m\u001b[0m\n\u001b[0m\u001b[0;32m   1450\u001b[0m         \u001b[1;32mreturn\u001b[0m \u001b[0munpack_singleton\u001b[0m\u001b[1;33m(\u001b[0m\u001b[0moutputs\u001b[0m\u001b[1;33m)\u001b[0m\u001b[1;33m\u001b[0m\u001b[1;33m\u001b[0m\u001b[0m\n\u001b[0;32m   1451\u001b[0m \u001b[1;33m\u001b[0m\u001b[0m\n",
      "\u001b[1;32mD:\\WORK\\instalacion\\anaconda3\\lib\\site-packages\\keras\\backend\\tensorflow_backend.py\u001b[0m in \u001b[0;36m__call__\u001b[1;34m(self, inputs)\u001b[0m\n\u001b[0;32m   2977\u001b[0m                     \u001b[1;32mreturn\u001b[0m \u001b[0mself\u001b[0m\u001b[1;33m.\u001b[0m\u001b[0m_legacy_call\u001b[0m\u001b[1;33m(\u001b[0m\u001b[0minputs\u001b[0m\u001b[1;33m)\u001b[0m\u001b[1;33m\u001b[0m\u001b[1;33m\u001b[0m\u001b[0m\n\u001b[0;32m   2978\u001b[0m \u001b[1;33m\u001b[0m\u001b[0m\n\u001b[1;32m-> 2979\u001b[1;33m             \u001b[1;32mreturn\u001b[0m \u001b[0mself\u001b[0m\u001b[1;33m.\u001b[0m\u001b[0m_call\u001b[0m\u001b[1;33m(\u001b[0m\u001b[0minputs\u001b[0m\u001b[1;33m)\u001b[0m\u001b[1;33m\u001b[0m\u001b[1;33m\u001b[0m\u001b[0m\n\u001b[0m\u001b[0;32m   2980\u001b[0m         \u001b[1;32melse\u001b[0m\u001b[1;33m:\u001b[0m\u001b[1;33m\u001b[0m\u001b[1;33m\u001b[0m\u001b[0m\n\u001b[0;32m   2981\u001b[0m             \u001b[1;32mif\u001b[0m \u001b[0mpy_any\u001b[0m\u001b[1;33m(\u001b[0m\u001b[0mis_tensor\u001b[0m\u001b[1;33m(\u001b[0m\u001b[0mx\u001b[0m\u001b[1;33m)\u001b[0m \u001b[1;32mfor\u001b[0m \u001b[0mx\u001b[0m \u001b[1;32min\u001b[0m \u001b[0minputs\u001b[0m\u001b[1;33m)\u001b[0m\u001b[1;33m:\u001b[0m\u001b[1;33m\u001b[0m\u001b[1;33m\u001b[0m\u001b[0m\n",
      "\u001b[1;32mD:\\WORK\\instalacion\\anaconda3\\lib\\site-packages\\keras\\backend\\tensorflow_backend.py\u001b[0m in \u001b[0;36m_call\u001b[1;34m(self, inputs)\u001b[0m\n\u001b[0;32m   2935\u001b[0m             \u001b[0mfetched\u001b[0m \u001b[1;33m=\u001b[0m \u001b[0mself\u001b[0m\u001b[1;33m.\u001b[0m\u001b[0m_callable_fn\u001b[0m\u001b[1;33m(\u001b[0m\u001b[1;33m*\u001b[0m\u001b[0marray_vals\u001b[0m\u001b[1;33m,\u001b[0m \u001b[0mrun_metadata\u001b[0m\u001b[1;33m=\u001b[0m\u001b[0mself\u001b[0m\u001b[1;33m.\u001b[0m\u001b[0mrun_metadata\u001b[0m\u001b[1;33m)\u001b[0m\u001b[1;33m\u001b[0m\u001b[1;33m\u001b[0m\u001b[0m\n\u001b[0;32m   2936\u001b[0m         \u001b[1;32melse\u001b[0m\u001b[1;33m:\u001b[0m\u001b[1;33m\u001b[0m\u001b[1;33m\u001b[0m\u001b[0m\n\u001b[1;32m-> 2937\u001b[1;33m             \u001b[0mfetched\u001b[0m \u001b[1;33m=\u001b[0m \u001b[0mself\u001b[0m\u001b[1;33m.\u001b[0m\u001b[0m_callable_fn\u001b[0m\u001b[1;33m(\u001b[0m\u001b[1;33m*\u001b[0m\u001b[0marray_vals\u001b[0m\u001b[1;33m)\u001b[0m\u001b[1;33m\u001b[0m\u001b[1;33m\u001b[0m\u001b[0m\n\u001b[0m\u001b[0;32m   2938\u001b[0m         \u001b[1;32mreturn\u001b[0m \u001b[0mfetched\u001b[0m\u001b[1;33m[\u001b[0m\u001b[1;33m:\u001b[0m\u001b[0mlen\u001b[0m\u001b[1;33m(\u001b[0m\u001b[0mself\u001b[0m\u001b[1;33m.\u001b[0m\u001b[0moutputs\u001b[0m\u001b[1;33m)\u001b[0m\u001b[1;33m]\u001b[0m\u001b[1;33m\u001b[0m\u001b[1;33m\u001b[0m\u001b[0m\n\u001b[0;32m   2939\u001b[0m \u001b[1;33m\u001b[0m\u001b[0m\n",
      "\u001b[1;32mD:\\WORK\\instalacion\\anaconda3\\lib\\site-packages\\tensorflow\\python\\client\\session.py\u001b[0m in \u001b[0;36m__call__\u001b[1;34m(self, *args, **kwargs)\u001b[0m\n\u001b[0;32m   1456\u001b[0m         ret = tf_session.TF_SessionRunCallable(self._session._session,\n\u001b[0;32m   1457\u001b[0m                                                \u001b[0mself\u001b[0m\u001b[1;33m.\u001b[0m\u001b[0m_handle\u001b[0m\u001b[1;33m,\u001b[0m \u001b[0margs\u001b[0m\u001b[1;33m,\u001b[0m\u001b[1;33m\u001b[0m\u001b[1;33m\u001b[0m\u001b[0m\n\u001b[1;32m-> 1458\u001b[1;33m                                                run_metadata_ptr)\n\u001b[0m\u001b[0;32m   1459\u001b[0m         \u001b[1;32mif\u001b[0m \u001b[0mrun_metadata\u001b[0m\u001b[1;33m:\u001b[0m\u001b[1;33m\u001b[0m\u001b[1;33m\u001b[0m\u001b[0m\n\u001b[0;32m   1460\u001b[0m           \u001b[0mproto_data\u001b[0m \u001b[1;33m=\u001b[0m \u001b[0mtf_session\u001b[0m\u001b[1;33m.\u001b[0m\u001b[0mTF_GetBuffer\u001b[0m\u001b[1;33m(\u001b[0m\u001b[0mrun_metadata_ptr\u001b[0m\u001b[1;33m)\u001b[0m\u001b[1;33m\u001b[0m\u001b[1;33m\u001b[0m\u001b[0m\n",
      "\u001b[1;31mKeyboardInterrupt\u001b[0m: "
     ]
    }
   ],
   "source": [
    "history = model.fit_generator(\n",
    "      train_generator,\n",
    "      steps_per_epoch=100,\n",
    "      epochs=30,\n",
    "      validation_data=validation_generator,\n",
    "      validation_steps=50,\n",
    "      verbose=2)"
   ]
  },
  {
   "cell_type": "markdown",
   "metadata": {},
   "source": [
    "## Graficos"
   ]
  },
  {
   "cell_type": "code",
   "execution_count": null,
   "metadata": {},
   "outputs": [],
   "source": [
    "import matplotlib.pyplot as plt\n",
    "\n",
    "acc = history.history['acc']\n",
    "val_acc = history.history['val_acc']\n",
    "loss = history.history['loss']\n",
    "val_loss = history.history['val_loss']\n",
    "\n",
    "epochs = range(len(acc))\n",
    "\n",
    "plt.plot(epochs, acc, 'bo', label='Training acc')\n",
    "plt.plot(epochs, val_acc, 'b', label='Validation acc')\n",
    "plt.title('Training and validation accuracy')\n",
    "plt.legend()\n",
    "\n",
    "plt.figure()\n",
    "\n",
    "plt.plot(epochs, loss, 'bo', label='Training loss')\n",
    "plt.plot(epochs, val_loss, 'b', label='Validation loss')\n",
    "plt.title('Training and validation loss')\n",
    "plt.legend()\n",
    "\n",
    "plt.show()"
   ]
  },
  {
   "cell_type": "markdown",
   "metadata": {},
   "source": [
    "## Fine-tuning"
   ]
  },
  {
   "cell_type": "markdown",
   "metadata": {},
   "source": [
    "* Agregar la red personalizada sobre una red base ya entrenada.\n",
    "* Congelar la red base.\n",
    "* Entrenar la parte que nueva.\n",
    "* Descongelar algunas capas en la red base.\n",
    "* Entrenar conjuntamente estas capas y la parte que nueva.\n",
    "\n",
    "Hemos completado los primeros 3 pasos cuando realizamos feature extraction.\n",
    "Avancemos con el 4º paso: descongelaremos nuestra conv_base y luego congelaremos capas individuales dentro de ella."
   ]
  },
  {
   "cell_type": "markdown",
   "metadata": {},
   "source": [
    "## Configurar capas\n",
    "\n",
    "* Se marca como entrenables de la capa `block5_conv1`en adelante."
   ]
  },
  {
   "cell_type": "code",
   "execution_count": 51,
   "metadata": {},
   "outputs": [],
   "source": [
    "conv_base.trainable = True\n",
    "\n",
    "set_trainable = False\n",
    "for layer in conv_base.layers:\n",
    "    if layer.name == 'block5_conv1':\n",
    "        set_trainable = True\n",
    "    layer.trainable = set_trainable"
   ]
  },
  {
   "cell_type": "code",
   "execution_count": 52,
   "metadata": {
    "scrolled": true
   },
   "outputs": [
    {
     "name": "stdout",
     "output_type": "stream",
     "text": [
      "input_1 False\n",
      "block1_conv1 False\n",
      "block1_conv2 False\n",
      "block1_pool False\n",
      "block2_conv1 False\n",
      "block2_conv2 False\n",
      "block2_pool False\n",
      "block3_conv1 False\n",
      "block3_conv2 False\n",
      "block3_conv3 False\n",
      "block3_pool False\n",
      "block4_conv1 False\n",
      "block4_conv2 False\n",
      "block4_conv3 False\n",
      "block4_pool False\n",
      "block5_conv1 True\n",
      "block5_conv2 True\n",
      "block5_conv3 True\n",
      "block5_pool True\n"
     ]
    }
   ],
   "source": [
    "# Después de modificar el atributo trainable\n",
    "for layer in conv_base.layers:\n",
    "  print(layer.name, layer.trainable)"
   ]
  },
  {
   "cell_type": "markdown",
   "metadata": {},
   "source": [
    "## Compilar modelo"
   ]
  },
  {
   "cell_type": "code",
   "execution_count": 53,
   "metadata": {},
   "outputs": [],
   "source": [
    "model.compile(loss='categorical_crossentropy',\n",
    "              optimizer=optimizers.RMSprop(lr=2e-5),\n",
    "              metrics=['acc'])"
   ]
  },
  {
   "cell_type": "markdown",
   "metadata": {},
   "source": [
    "## Entrenamiento"
   ]
  },
  {
   "cell_type": "code",
   "execution_count": null,
   "metadata": {},
   "outputs": [
    {
     "name": "stdout",
     "output_type": "stream",
     "text": [
      "Epoch 1/30\n"
     ]
    }
   ],
   "source": [
    "history = model.fit_generator(\n",
    "      train_generator,\n",
    "      steps_per_epoch=100,\n",
    "      epochs=30,\n",
    "      validation_data=validation_generator,\n",
    "      validation_steps=50,\n",
    "      verbose=2)"
   ]
  },
  {
   "cell_type": "markdown",
   "metadata": {},
   "source": [
    "## Graficos"
   ]
  },
  {
   "cell_type": "code",
   "execution_count": null,
   "metadata": {},
   "outputs": [],
   "source": [
    "import matplotlib.pyplot as plt\n",
    "\n",
    "acc = history.history['acc']\n",
    "val_acc = history.history['val_acc']\n",
    "loss = history.history['loss']\n",
    "val_loss = history.history['val_loss']\n",
    "\n",
    "epochs = range(len(acc))\n",
    "\n",
    "plt.plot(epochs, acc, 'bo', label='Training acc')\n",
    "plt.plot(epochs, val_acc, 'b', label='Validation acc')\n",
    "plt.title('Training and validation accuracy')\n",
    "plt.legend()\n",
    "\n",
    "plt.figure()\n",
    "\n",
    "plt.plot(epochs, loss, 'bo', label='Training loss')\n",
    "plt.plot(epochs, val_loss, 'b', label='Validation loss')\n",
    "plt.title('Training and validation loss')\n",
    "plt.legend()\n",
    "\n",
    "plt.show()"
   ]
  }
 ],
 "metadata": {
  "kernelspec": {
   "display_name": "Python 3",
   "language": "python",
   "name": "python3"
  },
  "language_info": {
   "codemirror_mode": {
    "name": "ipython",
    "version": 3
   },
   "file_extension": ".py",
   "mimetype": "text/x-python",
   "name": "python",
   "nbconvert_exporter": "python",
   "pygments_lexer": "ipython3",
   "version": "3.7.3"
  }
 },
 "nbformat": 4,
 "nbformat_minor": 2
}
