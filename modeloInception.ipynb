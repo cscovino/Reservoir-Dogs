{
 "cells": [
  {
   "cell_type": "markdown",
   "metadata": {},
   "source": [
    "# Modelo conv2d"
   ]
  },
  {
   "cell_type": "code",
   "execution_count": 1,
   "metadata": {
    "scrolled": true
   },
   "outputs": [
    {
     "name": "stderr",
     "output_type": "stream",
     "text": [
      "Using TensorFlow backend.\n"
     ]
    },
    {
     "data": {
      "text/plain": [
       "'2.2.5'"
      ]
     },
     "execution_count": 1,
     "metadata": {},
     "output_type": "execute_result"
    }
   ],
   "source": [
    "import keras\n",
    "keras.__version__"
   ]
  },
  {
   "cell_type": "code",
   "execution_count": 2,
   "metadata": {},
   "outputs": [],
   "source": [
    "import os, PIL\n",
    "\n",
    "# El directorio de trabajo\n",
    "processDir = './process'\n",
    "\n",
    "# Directorio para entrenamiento, validacion y test\n",
    "train_dir = os.path.join(processDir, 'train')\n",
    "validation_dir = os.path.join(processDir, 'validation')\n",
    "test_dir = os.path.join(processDir, 'test')\n"
   ]
  },
  {
   "cell_type": "markdown",
   "metadata": {},
   "source": [
    "# Modelo"
   ]
  },
  {
   "cell_type": "code",
   "execution_count": 3,
   "metadata": {},
   "outputs": [],
   "source": [
    "from keras import layers\n",
    "from keras import models\n",
    "from keras.applications import InceptionV3\n",
    "from keras_radam import RAdam\n",
    "\n",
    "model = models.Sequential()\n",
    "model.add(InceptionV3(include_top=False, weights='imagenet', input_shape=(200,200,3)))\n",
    "model.add(layers.Flatten())\n",
    "model.add(layers.Dense(512, activation='relu'))\n",
    "model.add(layers.Dense(128, activation='relu'))\n",
    "model.add(layers.Dense(120, activation='softmax'))"
   ]
  },
  {
   "cell_type": "code",
   "execution_count": 4,
   "metadata": {},
   "outputs": [
    {
     "name": "stdout",
     "output_type": "stream",
     "text": [
      "Model: \"sequential_1\"\n",
      "_________________________________________________________________\n",
      "Layer (type)                 Output Shape              Param #   \n",
      "=================================================================\n",
      "inception_v3 (Model)         (None, 4, 4, 2048)        21802784  \n",
      "_________________________________________________________________\n",
      "flatten_1 (Flatten)          (None, 32768)             0         \n",
      "_________________________________________________________________\n",
      "dense_1 (Dense)              (None, 512)               16777728  \n",
      "_________________________________________________________________\n",
      "dense_2 (Dense)              (None, 128)               65664     \n",
      "_________________________________________________________________\n",
      "dense_3 (Dense)              (None, 120)               15480     \n",
      "=================================================================\n",
      "Total params: 38,661,656\n",
      "Trainable params: 38,627,224\n",
      "Non-trainable params: 34,432\n",
      "_________________________________________________________________\n"
     ]
    }
   ],
   "source": [
    "model.summary()"
   ]
  },
  {
   "cell_type": "markdown",
   "metadata": {},
   "source": [
    "# Optimizador"
   ]
  },
  {
   "cell_type": "code",
   "execution_count": 5,
   "metadata": {},
   "outputs": [],
   "source": [
    "from keras import optimizers\n",
    "\n",
    "model.compile(loss='categorical_crossentropy',\n",
    "              optimizer=RAdam(total_steps=5000, warmup_proportion=0.1, min_lr=1e-7),\n",
    "              metrics=['categorical_accuracy'])"
   ]
  },
  {
   "cell_type": "markdown",
   "metadata": {},
   "source": [
    "# Generador de datos"
   ]
  },
  {
   "cell_type": "code",
   "execution_count": 6,
   "metadata": {},
   "outputs": [
    {
     "name": "stdout",
     "output_type": "stream",
     "text": [
      "Found 14530 images belonging to 120 classes.\n",
      "Found 3025 images belonging to 120 classes.\n"
     ]
    }
   ],
   "source": [
    "from keras.preprocessing.image import ImageDataGenerator\n",
    "\n",
    "train_datagen = ImageDataGenerator(\n",
    "    rescale=1./255,\n",
    "    rotation_range=40,\n",
    "    width_shift_range=0.2,\n",
    "    height_shift_range=0.2,\n",
    "    shear_range=0.2,\n",
    "    zoom_range=0.2,\n",
    "    horizontal_flip=True)\n",
    "\n",
    "test_datagen = ImageDataGenerator(rescale=1./255)\n",
    "\n",
    "train_generator = train_datagen.flow_from_directory(\n",
    "        train_dir,\n",
    "        target_size=(200, 200),\n",
    "        batch_size=32,\n",
    "        class_mode='categorical')\n",
    "\n",
    "validation_generator = test_datagen.flow_from_directory(\n",
    "        validation_dir,\n",
    "        target_size=(200, 200),\n",
    "        batch_size=32,\n",
    "        class_mode='categorical')"
   ]
  },
  {
   "cell_type": "code",
   "execution_count": 7,
   "metadata": {},
   "outputs": [
    {
     "name": "stdout",
     "output_type": "stream",
     "text": [
      "data batch shape: (32, 200, 200, 3)\n",
      "labels batch shape: (32, 120)\n"
     ]
    }
   ],
   "source": [
    "for data_batch, labels_batch in train_generator:\n",
    "    print('data batch shape:', data_batch.shape)\n",
    "    print('labels batch shape:', labels_batch.shape)\n",
    "    break"
   ]
  },
  {
   "cell_type": "markdown",
   "metadata": {},
   "source": [
    "# Entrenamiento"
   ]
  },
  {
   "cell_type": "code",
   "execution_count": 8,
   "metadata": {
    "scrolled": true
   },
   "outputs": [
    {
     "name": "stdout",
     "output_type": "stream",
     "text": [
      "Epoch 1/1000\n",
      "128/128 [==============================] - 104s 814ms/step - loss: 4.8082 - categorical_accuracy: 0.0166 - val_loss: 4.3093 - val_categorical_accuracy: 0.1218\n",
      "Epoch 2/1000\n",
      "128/128 [==============================] - 82s 641ms/step - loss: 3.6863 - categorical_accuracy: 0.2061 - val_loss: 2.8817 - val_categorical_accuracy: 0.3556\n",
      "Epoch 3/1000\n",
      "128/128 [==============================] - 82s 640ms/step - loss: 3.0993 - categorical_accuracy: 0.2927 - val_loss: 3.6681 - val_categorical_accuracy: 0.2213\n",
      "Epoch 4/1000\n",
      "128/128 [==============================] - 82s 641ms/step - loss: 3.0309 - categorical_accuracy: 0.2998 - val_loss: 4.1323 - val_categorical_accuracy: 0.1644\n",
      "Epoch 5/1000\n",
      "128/128 [==============================] - 82s 641ms/step - loss: 2.9519 - categorical_accuracy: 0.2900 - val_loss: 3.5182 - val_categorical_accuracy: 0.2318\n",
      "Epoch 6/1000\n",
      "128/128 [==============================] - 82s 638ms/step - loss: 2.8083 - categorical_accuracy: 0.3081 - val_loss: 3.2947 - val_categorical_accuracy: 0.2627\n",
      "Epoch 7/1000\n",
      "128/128 [==============================] - 82s 641ms/step - loss: 2.6851 - categorical_accuracy: 0.3330 - val_loss: 2.7520 - val_categorical_accuracy: 0.3129\n",
      "Epoch 8/1000\n",
      "128/128 [==============================] - 82s 642ms/step - loss: 2.4786 - categorical_accuracy: 0.3577 - val_loss: 2.5299 - val_categorical_accuracy: 0.3683\n",
      "Epoch 9/1000\n",
      "128/128 [==============================] - 82s 640ms/step - loss: 2.3956 - categorical_accuracy: 0.3745 - val_loss: 2.5337 - val_categorical_accuracy: 0.3763\n",
      "Epoch 10/1000\n",
      "128/128 [==============================] - 82s 640ms/step - loss: 2.3669 - categorical_accuracy: 0.3855 - val_loss: 2.7901 - val_categorical_accuracy: 0.3134\n",
      "Epoch 11/1000\n",
      "128/128 [==============================] - 82s 637ms/step - loss: 2.3410 - categorical_accuracy: 0.3887 - val_loss: 2.9806 - val_categorical_accuracy: 0.2872\n",
      "Epoch 12/1000\n",
      "128/128 [==============================] - 82s 640ms/step - loss: 2.1714 - categorical_accuracy: 0.4216 - val_loss: 2.4035 - val_categorical_accuracy: 0.3795\n",
      "Epoch 13/1000\n",
      "128/128 [==============================] - 82s 637ms/step - loss: 2.1730 - categorical_accuracy: 0.4187 - val_loss: 3.6170 - val_categorical_accuracy: 0.2526\n",
      "Epoch 14/1000\n",
      "128/128 [==============================] - 82s 640ms/step - loss: 2.1323 - categorical_accuracy: 0.4324 - val_loss: 2.7588 - val_categorical_accuracy: 0.3347\n",
      "Epoch 15/1000\n",
      "128/128 [==============================] - 82s 640ms/step - loss: 1.9575 - categorical_accuracy: 0.4604 - val_loss: 2.0905 - val_categorical_accuracy: 0.4424\n",
      "Epoch 16/1000\n",
      "128/128 [==============================] - 82s 640ms/step - loss: 1.9085 - categorical_accuracy: 0.4841 - val_loss: 2.2743 - val_categorical_accuracy: 0.4090\n",
      "Epoch 17/1000\n",
      "128/128 [==============================] - 82s 637ms/step - loss: 1.9843 - categorical_accuracy: 0.4580 - val_loss: 2.9828 - val_categorical_accuracy: 0.2906\n",
      "Epoch 18/1000\n",
      "128/128 [==============================] - 82s 640ms/step - loss: 2.0333 - categorical_accuracy: 0.4583 - val_loss: 2.0222 - val_categorical_accuracy: 0.4597\n",
      "Epoch 19/1000\n",
      "128/128 [==============================] - 82s 637ms/step - loss: 1.9851 - categorical_accuracy: 0.4607 - val_loss: 9.4160 - val_categorical_accuracy: 0.0245\n",
      "Epoch 20/1000\n",
      "128/128 [==============================] - 82s 640ms/step - loss: 2.1063 - categorical_accuracy: 0.4363 - val_loss: 2.2209 - val_categorical_accuracy: 0.4516\n",
      "Epoch 21/1000\n",
      "128/128 [==============================] - 82s 639ms/step - loss: 1.8864 - categorical_accuracy: 0.4768 - val_loss: 1.8594 - val_categorical_accuracy: 0.4867\n",
      "Epoch 22/1000\n",
      "128/128 [==============================] - 82s 640ms/step - loss: 1.6850 - categorical_accuracy: 0.5276 - val_loss: 1.7388 - val_categorical_accuracy: 0.5303\n",
      "Epoch 23/1000\n",
      "128/128 [==============================] - 82s 637ms/step - loss: 1.6569 - categorical_accuracy: 0.5262 - val_loss: 1.8910 - val_categorical_accuracy: 0.5085\n",
      "Epoch 24/1000\n",
      "128/128 [==============================] - 82s 640ms/step - loss: 1.6012 - categorical_accuracy: 0.5518 - val_loss: 1.7178 - val_categorical_accuracy: 0.5384\n",
      "Epoch 25/1000\n",
      "128/128 [==============================] - 82s 640ms/step - loss: 1.5035 - categorical_accuracy: 0.5696 - val_loss: 1.6371 - val_categorical_accuracy: 0.5678\n",
      "Epoch 26/1000\n",
      "128/128 [==============================] - 82s 640ms/step - loss: 1.4270 - categorical_accuracy: 0.5808 - val_loss: 1.6592 - val_categorical_accuracy: 0.5558\n",
      "Epoch 27/1000\n",
      "128/128 [==============================] - 82s 637ms/step - loss: 1.3394 - categorical_accuracy: 0.6167 - val_loss: 1.5515 - val_categorical_accuracy: 0.5832\n",
      "Epoch 28/1000\n",
      "128/128 [==============================] - 82s 640ms/step - loss: 1.3484 - categorical_accuracy: 0.6130 - val_loss: 1.4758 - val_categorical_accuracy: 0.5908\n",
      "Epoch 29/1000\n",
      "128/128 [==============================] - 82s 640ms/step - loss: 1.2172 - categorical_accuracy: 0.6416 - val_loss: 1.3604 - val_categorical_accuracy: 0.6171\n",
      "Epoch 30/1000\n",
      "128/128 [==============================] - 82s 640ms/step - loss: 1.1851 - categorical_accuracy: 0.6592 - val_loss: 1.4664 - val_categorical_accuracy: 0.6097\n",
      "Epoch 31/1000\n",
      "128/128 [==============================] - 82s 640ms/step - loss: 1.1124 - categorical_accuracy: 0.6816 - val_loss: 1.3203 - val_categorical_accuracy: 0.6295\n",
      "Epoch 32/1000\n",
      "128/128 [==============================] - 82s 637ms/step - loss: 1.1975 - categorical_accuracy: 0.6365 - val_loss: 1.3014 - val_categorical_accuracy: 0.6326\n",
      "Epoch 33/1000\n",
      "128/128 [==============================] - 82s 638ms/step - loss: 0.9961 - categorical_accuracy: 0.6993 - val_loss: 1.2813 - val_categorical_accuracy: 0.6408\n",
      "Epoch 34/1000\n",
      "128/128 [==============================] - 82s 640ms/step - loss: 1.0004 - categorical_accuracy: 0.6968 - val_loss: 1.2641 - val_categorical_accuracy: 0.6555\n",
      "Epoch 35/1000\n",
      "128/128 [==============================] - 82s 640ms/step - loss: 0.9340 - categorical_accuracy: 0.7207 - val_loss: 1.1530 - val_categorical_accuracy: 0.6854\n",
      "Epoch 36/1000\n",
      "128/128 [==============================] - 82s 640ms/step - loss: 0.8530 - categorical_accuracy: 0.7400 - val_loss: 1.1887 - val_categorical_accuracy: 0.6716\n",
      "Epoch 37/1000\n",
      "128/128 [==============================] - 82s 640ms/step - loss: 0.8038 - categorical_accuracy: 0.7502 - val_loss: 1.1124 - val_categorical_accuracy: 0.6988\n",
      "Epoch 38/1000\n",
      "128/128 [==============================] - 82s 640ms/step - loss: 0.7742 - categorical_accuracy: 0.7617 - val_loss: 1.0894 - val_categorical_accuracy: 0.6995\n",
      "Epoch 39/1000\n",
      "128/128 [==============================] - 82s 637ms/step - loss: 0.7804 - categorical_accuracy: 0.7520 - val_loss: 1.1099 - val_categorical_accuracy: 0.6988\n",
      "Epoch 40/1000\n",
      "128/128 [==============================] - 82s 640ms/step - loss: 0.6912 - categorical_accuracy: 0.7957 - val_loss: 1.0566 - val_categorical_accuracy: 0.7025\n",
      "Epoch 41/1000\n",
      "128/128 [==============================] - 82s 637ms/step - loss: 0.7120 - categorical_accuracy: 0.7769 - val_loss: 1.1151 - val_categorical_accuracy: 0.6923\n",
      "Epoch 42/1000\n",
      "128/128 [==============================] - 82s 640ms/step - loss: 0.6934 - categorical_accuracy: 0.7876 - val_loss: 1.0709 - val_categorical_accuracy: 0.7060\n",
      "Epoch 43/1000\n",
      "128/128 [==============================] - 82s 640ms/step - loss: 0.7157 - categorical_accuracy: 0.7720 - val_loss: 1.0941 - val_categorical_accuracy: 0.7015\n",
      "Epoch 44/1000\n",
      "128/128 [==============================] - 82s 640ms/step - loss: 0.7006 - categorical_accuracy: 0.7842 - val_loss: 1.0839 - val_categorical_accuracy: 0.6992\n",
      "Epoch 45/1000\n",
      "128/128 [==============================] - 82s 637ms/step - loss: 0.7361 - categorical_accuracy: 0.7674 - val_loss: 1.1175 - val_categorical_accuracy: 0.6915\n",
      "Epoch 46/1000\n",
      "128/128 [==============================] - 82s 640ms/step - loss: 0.6840 - categorical_accuracy: 0.7927 - val_loss: 1.0735 - val_categorical_accuracy: 0.7077\n",
      "Epoch 47/1000\n",
      "128/128 [==============================] - 82s 637ms/step - loss: 0.7022 - categorical_accuracy: 0.7825 - val_loss: 1.0880 - val_categorical_accuracy: 0.7017\n",
      "Epoch 48/1000\n",
      "128/128 [==============================] - 82s 640ms/step - loss: 0.7015 - categorical_accuracy: 0.7817 - val_loss: 1.1087 - val_categorical_accuracy: 0.6930\n"
     ]
    },
    {
     "name": "stdout",
     "output_type": "stream",
     "text": [
      "Epoch 49/1000\n",
      "128/128 [==============================] - 82s 640ms/step - loss: 0.7075 - categorical_accuracy: 0.7820 - val_loss: 1.0732 - val_categorical_accuracy: 0.7034\n",
      "Epoch 50/1000\n",
      "128/128 [==============================] - 82s 640ms/step - loss: 0.7150 - categorical_accuracy: 0.7788 - val_loss: 1.1003 - val_categorical_accuracy: 0.6986\n",
      "Epoch 51/1000\n",
      "128/128 [==============================] - 82s 640ms/step - loss: 0.6817 - categorical_accuracy: 0.7917 - val_loss: 1.0699 - val_categorical_accuracy: 0.7020\n",
      "Epoch 52/1000\n",
      "128/128 [==============================] - 82s 637ms/step - loss: 0.7498 - categorical_accuracy: 0.7693 - val_loss: 1.0933 - val_categorical_accuracy: 0.6982\n",
      "Epoch 53/1000\n",
      "128/128 [==============================] - 82s 640ms/step - loss: 0.7076 - categorical_accuracy: 0.7788 - val_loss: 1.0954 - val_categorical_accuracy: 0.6993\n",
      "Epoch 54/1000\n",
      "128/128 [==============================] - 82s 640ms/step - loss: 0.7004 - categorical_accuracy: 0.7859 - val_loss: 1.0759 - val_categorical_accuracy: 0.7057\n",
      "Epoch 55/1000\n",
      "128/128 [==============================] - 82s 640ms/step - loss: 0.6957 - categorical_accuracy: 0.7812 - val_loss: 1.0731 - val_categorical_accuracy: 0.6982\n",
      "Epoch 56/1000\n",
      "128/128 [==============================] - 82s 637ms/step - loss: 0.7213 - categorical_accuracy: 0.7742 - val_loss: 1.0967 - val_categorical_accuracy: 0.6998\n",
      "Epoch 57/1000\n",
      "128/128 [==============================] - 82s 640ms/step - loss: 0.6875 - categorical_accuracy: 0.7927 - val_loss: 1.0807 - val_categorical_accuracy: 0.6974\n",
      "Epoch 58/1000\n",
      "128/128 [==============================] - 82s 640ms/step - loss: 0.6936 - categorical_accuracy: 0.7854 - val_loss: 1.1108 - val_categorical_accuracy: 0.6970\n",
      "Epoch 59/1000\n",
      "128/128 [==============================] - 82s 640ms/step - loss: 0.6990 - categorical_accuracy: 0.7832 - val_loss: 1.0793 - val_categorical_accuracy: 0.7018\n",
      "Epoch 60/1000\n",
      "128/128 [==============================] - 82s 637ms/step - loss: 0.7340 - categorical_accuracy: 0.7764 - val_loss: 1.0856 - val_categorical_accuracy: 0.6993\n",
      "Epoch 61/1000\n",
      "128/128 [==============================] - 82s 640ms/step - loss: 0.6723 - categorical_accuracy: 0.7905 - val_loss: 1.0738 - val_categorical_accuracy: 0.7034\n",
      "Epoch 62/1000\n",
      "128/128 [==============================] - 82s 637ms/step - loss: 0.7418 - categorical_accuracy: 0.7769 - val_loss: 1.0965 - val_categorical_accuracy: 0.7015\n",
      "Epoch 63/1000\n",
      "128/128 [==============================] - 82s 640ms/step - loss: 0.7119 - categorical_accuracy: 0.7800 - val_loss: 1.0837 - val_categorical_accuracy: 0.7023\n",
      "Epoch 64/1000\n",
      "128/128 [==============================] - 82s 640ms/step - loss: 0.6937 - categorical_accuracy: 0.7788 - val_loss: 1.0931 - val_categorical_accuracy: 0.6987\n",
      "Epoch 65/1000\n",
      "128/128 [==============================] - 82s 640ms/step - loss: 0.6924 - categorical_accuracy: 0.7883 - val_loss: 1.0663 - val_categorical_accuracy: 0.7030\n",
      "Epoch 66/1000\n",
      "128/128 [==============================] - 82s 640ms/step - loss: 0.6963 - categorical_accuracy: 0.7766 - val_loss: 1.1093 - val_categorical_accuracy: 0.6993\n"
     ]
    }
   ],
   "source": [
    "from keras import callbacks\n",
    "\n",
    "callbacks = [callbacks.EarlyStopping(monitor='val_categorical_accuracy', min_delta=0.001, patience=20, restore_best_weights=True, mode='max')]\n",
    "\n",
    "history = model.fit_generator(\n",
    "      train_generator,\n",
    "      steps_per_epoch=128,\n",
    "      epochs=1000,\n",
    "      validation_data=validation_generator,\n",
    "      validation_steps=128, callbacks=callbacks)"
   ]
  },
  {
   "cell_type": "markdown",
   "metadata": {},
   "source": [
    "# Graficos"
   ]
  },
  {
   "cell_type": "code",
   "execution_count": 11,
   "metadata": {},
   "outputs": [
    {
     "data": {
      "image/png": "[encoded data removed]",
      "text/plain": [
       "<Figure size 432x288 with 1 Axes>"
      ]
     },
     "metadata": {
      "needs_background": "light"
     },
     "output_type": "display_data"
    },
    {
     "data": {
      "image/png": "[encoded data removed]",
      "text/plain": [
       "<Figure size 432x288 with 1 Axes>"
      ]
     },
     "metadata": {
      "needs_background": "light"
     },
     "output_type": "display_data"
    }
   ],
   "source": [
    "import matplotlib.pyplot as plt\n",
    "\n",
    "acc = history.history['categorical_accuracy']\n",
    "val_acc = history.history['val_categorical_accuracy']\n",
    "loss = history.history['loss']\n",
    "val_loss = history.history['val_loss']\n",
    "\n",
    "epochs = range(len(acc))\n",
    "\n",
    "plt.plot(epochs, acc, 'bo', label='Training acc')\n",
    "plt.plot(epochs, val_acc, 'b', label='Validation acc')\n",
    "plt.title('Training and validation accuracy')\n",
    "plt.legend()\n",
    "\n",
    "plt.figure()\n",
    "\n",
    "plt.plot(epochs, loss, 'bo', label='Training loss')\n",
    "plt.plot(epochs, val_loss, 'b', label='Validation loss')\n",
    "plt.title('Training and validation loss')\n",
    "plt.legend()\n",
    "\n",
    "plt.show()"
   ]
  },
  {
   "cell_type": "code",
   "execution_count": 10,
   "metadata": {},
   "outputs": [],
   "source": [
    "model.save('transfer-learning-inception-model.h5')"
   ]
  },
  {
   "cell_type": "code",
   "execution_count": null,
   "metadata": {},
   "outputs": [],
   "source": []
  }
 ],
 "metadata": {
  "kernelspec": {
   "display_name": "tflow-gpu",
   "language": "python",
   "name": "tflow-gpu"
  },
  "language_info": {
   "codemirror_mode": {
    "name": "ipython",
    "version": 3
   },
   "file_extension": ".py",
   "mimetype": "text/x-python",
   "name": "python",
   "nbconvert_exporter": "python",
   "pygments_lexer": "ipython3",
   "version": "3.6.9"
  }
 },
 "nbformat": 4,
 "nbformat_minor": 2
}
