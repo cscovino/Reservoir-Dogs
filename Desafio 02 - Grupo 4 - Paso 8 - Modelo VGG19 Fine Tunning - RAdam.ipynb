{
 "cells": [
  {
   "cell_type": "code",
   "execution_count": 1,
   "metadata": {
    "colab": {},
    "colab_type": "code",
    "id": "ajvWFWq2aq-x"
   },
   "outputs": [],
   "source": [
    "MODELO = \"VGG19-FineTune\""
   ]
  },
  {
   "cell_type": "code",
   "execution_count": 2,
   "metadata": {
    "colab": {
     "base_uri": "https://localhost:8080/",
     "height": 35
    },
    "colab_type": "code",
    "executionInfo": {
     "elapsed": 2441,
     "status": "ok",
     "timestamp": 1571094078509,
     "user": {
      "displayName": "Carlos Enrique Scovino Molina",
      "photoUrl": "https://lh3.googleusercontent.com/a-/AAuE7mDi2nGFxv7ry2hppGO-eromx5KAuhqwOMpWZJv7dQ=s64",
      "userId": "12331113434792881111"
     },
     "user_tz": 180
    },
    "id": "U4uaYrrWqEeY",
    "outputId": "0d62bd0e-26d4-4e0f-ebe2-497f0e93e617"
   },
   "outputs": [
    {
     "name": "stderr",
     "output_type": "stream",
     "text": [
      "Using TensorFlow backend.\n"
     ]
    }
   ],
   "source": [
    "import os\n",
    "import keras\n",
    "keras.__version__\n",
    "import numpy as np\n",
    "import pandas as pd\n",
    "import tensorflow as tf\n",
    "\n",
    "from keras import optimizers\n",
    "from keras.utils import multi_gpu_model\n",
    "from tensorflow.python.client import device_lib"
   ]
  },
  {
   "cell_type": "markdown",
   "metadata": {
    "colab_type": "text",
    "id": "0HUj6wdjMQWI"
   },
   "source": [
    "### Multi - GPU"
   ]
  },
  {
   "cell_type": "code",
   "execution_count": 3,
   "metadata": {
    "colab": {},
    "colab_type": "code",
    "id": "kqJdf7MuqEg3"
   },
   "outputs": [],
   "source": [
    "os.environ['CUDA_VISIBLE_DEVICES'] = \"0,1,2,3\"\n",
    "multi_gpu = len(\"0,1,2,3\".split(','))"
   ]
  },
  {
   "cell_type": "code",
   "execution_count": 4,
   "metadata": {
    "colab": {},
    "colab_type": "code",
    "id": "asNWUa-rqEha"
   },
   "outputs": [],
   "source": [
    "def get_session():\n",
    "    config = tf.ConfigProto(device_count = {'CPU' :24, 'GPU':4})\n",
    "    config.gpu_options.allow_growth = True\n",
    "    return tf.Session(config=config)"
   ]
  },
  {
   "cell_type": "code",
   "execution_count": 5,
   "metadata": {
    "colab": {},
    "colab_type": "code",
    "id": "4FE-vteQqEjB"
   },
   "outputs": [],
   "source": [
    "keras.backend.tensorflow_backend.set_session(get_session())"
   ]
  },
  {
   "cell_type": "markdown",
   "metadata": {
    "colab_type": "text",
    "id": "X1qzSJQeqEl4"
   },
   "source": [
    "# Directorios"
   ]
  },
  {
   "cell_type": "code",
   "execution_count": 6,
   "metadata": {
    "colab": {},
    "colab_type": "code",
    "id": "BYNHLjErqEnB"
   },
   "outputs": [],
   "source": [
    "# El directorio de trabajo\n",
    "processDir = './process'\n",
    "\n",
    "# Directorio para entrenamiento, validacion y test\n",
    "train_dir = os.path.join(processDir, 'train')\n",
    "validation_dir = os.path.join(processDir, 'validation')\n",
    "test_dir = os.path.join(processDir, 'test')\n"
   ]
  },
  {
   "cell_type": "markdown",
   "metadata": {
    "colab_type": "text",
    "id": "07hML1pbqEnT"
   },
   "source": [
    "# Generador de datos"
   ]
  },
  {
   "cell_type": "code",
   "execution_count": 7,
   "metadata": {
    "colab": {},
    "colab_type": "code",
    "id": "edJT8GJAqEnZ"
   },
   "outputs": [
    {
     "name": "stdout",
     "output_type": "stream",
     "text": [
      "Found 14530 images belonging to 120 classes.\n",
      "Found 3025 images belonging to 120 classes.\n"
     ]
    }
   ],
   "source": [
    "from keras.preprocessing.image import ImageDataGenerator\n",
    "\n",
    "train_datagen = ImageDataGenerator(\n",
    "    rescale=1./255,\n",
    "    rotation_range=40,\n",
    "    width_shift_range=0.2,\n",
    "    height_shift_range=0.2,\n",
    "    shear_range=0.2,\n",
    "    zoom_range=0.2,\n",
    "    horizontal_flip=True,)\n",
    "\n",
    "valid_datagen = ImageDataGenerator(rescale=1./255)\n",
    "\n",
    "train_generator = train_datagen.flow_from_directory(\n",
    "        train_dir,\n",
    "        target_size=(224, 224),\n",
    "        batch_size=32,\n",
    "        class_mode='categorical')\n",
    "\n",
    "valid_generator = valid_datagen.flow_from_directory(\n",
    "        validation_dir,\n",
    "        target_size=(224, 224),\n",
    "        batch_size=32,\n",
    "        class_mode='categorical')"
   ]
  },
  {
   "cell_type": "markdown",
   "metadata": {
    "colab_type": "text",
    "id": "yc5jV2dOqEoL"
   },
   "source": [
    "# Modelo VGG19"
   ]
  },
  {
   "cell_type": "code",
   "execution_count": 8,
   "metadata": {
    "colab": {
     "base_uri": "https://localhost:8080/",
     "height": 368
    },
    "colab_type": "code",
    "executionInfo": {
     "elapsed": 3097,
     "status": "ok",
     "timestamp": 1571094081525,
     "user": {
      "displayName": "Carlos Enrique Scovino Molina",
      "photoUrl": "https://lh3.googleusercontent.com/a-/AAuE7mDi2nGFxv7ry2hppGO-eromx5KAuhqwOMpWZJv7dQ=s64",
      "userId": "12331113434792881111"
     },
     "user_tz": 180
    },
    "id": "cRK4kVj_qEon",
    "outputId": "70932be4-68de-41ae-bc1a-c6b220b55811"
   },
   "outputs": [
    {
     "name": "stdout",
     "output_type": "stream",
     "text": [
      "WARNING:tensorflow:From C:\\ProgramData\\Anaconda3\\envs\\tensorflow_gpu\\lib\\site-packages\\tensorflow\\python\\framework\\op_def_library.py:263: colocate_with (from tensorflow.python.framework.ops) is deprecated and will be removed in a future version.\n",
      "Instructions for updating:\n",
      "Colocations handled automatically by placer.\n"
     ]
    }
   ],
   "source": [
    "from keras.applications.vgg19 import VGG19\n",
    "\n",
    "if multi_gpu > 1:  \n",
    "    with tf.device('/cpu:0'):\n",
    "        conv_base = VGG19(weights='imagenet',\n",
    "                          include_top=False,\n",
    "                          input_shape=(224, 224, 3))"
   ]
  },
  {
   "cell_type": "code",
   "execution_count": 9,
   "metadata": {
    "colab": {
     "base_uri": "https://localhost:8080/",
     "height": 972
    },
    "colab_type": "code",
    "executionInfo": {
     "elapsed": 613,
     "status": "ok",
     "timestamp": 1571090388609,
     "user": {
      "displayName": "Carlos Enrique Scovino Molina",
      "photoUrl": "https://lh3.googleusercontent.com/a-/AAuE7mDi2nGFxv7ry2hppGO-eromx5KAuhqwOMpWZJv7dQ=s64",
      "userId": "12331113434792881111"
     },
     "user_tz": 180
    },
    "id": "C1COJo3yqEoy",
    "outputId": "c60cfc1b-d9a7-4d70-822b-7ab09d5837a9"
   },
   "outputs": [
    {
     "name": "stdout",
     "output_type": "stream",
     "text": [
      "Model: \"vgg19\"\n",
      "_________________________________________________________________\n",
      "Layer (type)                 Output Shape              Param #   \n",
      "=================================================================\n",
      "input_1 (InputLayer)         (None, 224, 224, 3)       0         \n",
      "_________________________________________________________________\n",
      "block1_conv1 (Conv2D)        (None, 224, 224, 64)      1792      \n",
      "_________________________________________________________________\n",
      "block1_conv2 (Conv2D)        (None, 224, 224, 64)      36928     \n",
      "_________________________________________________________________\n",
      "block1_pool (MaxPooling2D)   (None, 112, 112, 64)      0         \n",
      "_________________________________________________________________\n",
      "block2_conv1 (Conv2D)        (None, 112, 112, 128)     73856     \n",
      "_________________________________________________________________\n",
      "block2_conv2 (Conv2D)        (None, 112, 112, 128)     147584    \n",
      "_________________________________________________________________\n",
      "block2_pool (MaxPooling2D)   (None, 56, 56, 128)       0         \n",
      "_________________________________________________________________\n",
      "block3_conv1 (Conv2D)        (None, 56, 56, 256)       295168    \n",
      "_________________________________________________________________\n",
      "block3_conv2 (Conv2D)        (None, 56, 56, 256)       590080    \n",
      "_________________________________________________________________\n",
      "block3_conv3 (Conv2D)        (None, 56, 56, 256)       590080    \n",
      "_________________________________________________________________\n",
      "block3_conv4 (Conv2D)        (None, 56, 56, 256)       590080    \n",
      "_________________________________________________________________\n",
      "block3_pool (MaxPooling2D)   (None, 28, 28, 256)       0         \n",
      "_________________________________________________________________\n",
      "block4_conv1 (Conv2D)        (None, 28, 28, 512)       1180160   \n",
      "_________________________________________________________________\n",
      "block4_conv2 (Conv2D)        (None, 28, 28, 512)       2359808   \n",
      "_________________________________________________________________\n",
      "block4_conv3 (Conv2D)        (None, 28, 28, 512)       2359808   \n",
      "_________________________________________________________________\n",
      "block4_conv4 (Conv2D)        (None, 28, 28, 512)       2359808   \n",
      "_________________________________________________________________\n",
      "block4_pool (MaxPooling2D)   (None, 14, 14, 512)       0         \n",
      "_________________________________________________________________\n",
      "block5_conv1 (Conv2D)        (None, 14, 14, 512)       2359808   \n",
      "_________________________________________________________________\n",
      "block5_conv2 (Conv2D)        (None, 14, 14, 512)       2359808   \n",
      "_________________________________________________________________\n",
      "block5_conv3 (Conv2D)        (None, 14, 14, 512)       2359808   \n",
      "_________________________________________________________________\n",
      "block5_conv4 (Conv2D)        (None, 14, 14, 512)       2359808   \n",
      "_________________________________________________________________\n",
      "block5_pool (MaxPooling2D)   (None, 7, 7, 512)         0         \n",
      "=================================================================\n",
      "Total params: 20,024,384\n",
      "Trainable params: 20,024,384\n",
      "Non-trainable params: 0\n",
      "_________________________________________________________________\n"
     ]
    }
   ],
   "source": [
    "conv_base.summary()"
   ]
  },
  {
   "cell_type": "markdown",
   "metadata": {
    "colab_type": "text",
    "id": "IdXLVeT9UB95"
   },
   "source": [
    "# Trainable Layers"
   ]
  },
  {
   "cell_type": "code",
   "execution_count": 10,
   "metadata": {
    "colab": {},
    "colab_type": "code",
    "id": "xWJ_j1BDUFYC"
   },
   "outputs": [],
   "source": [
    "conv_base.trainable = True\n",
    "\n",
    "set_trainable = False\n",
    "for layer in conv_base.layers:\n",
    "    if layer.name == 'block5_conv1':\n",
    "        set_trainable = True\n",
    "    layer.trainable = set_trainable"
   ]
  },
  {
   "cell_type": "code",
   "execution_count": 11,
   "metadata": {
    "colab": {
     "base_uri": "https://localhost:8080/",
     "height": 421
    },
    "colab_type": "code",
    "executionInfo": {
     "elapsed": 595,
     "status": "ok",
     "timestamp": 1571091439240,
     "user": {
      "displayName": "Carlos Enrique Scovino Molina",
      "photoUrl": "https://lh3.googleusercontent.com/a-/AAuE7mDi2nGFxv7ry2hppGO-eromx5KAuhqwOMpWZJv7dQ=s64",
      "userId": "12331113434792881111"
     },
     "user_tz": 180
    },
    "id": "9K42tf6sWNN2",
    "outputId": "cc78f67e-198a-4df8-f0f3-15f3106515b3"
   },
   "outputs": [
    {
     "name": "stdout",
     "output_type": "stream",
     "text": [
      "input_1 False\n",
      "block1_conv1 False\n",
      "block1_conv2 False\n",
      "block1_pool False\n",
      "block2_conv1 False\n",
      "block2_conv2 False\n",
      "block2_pool False\n",
      "block3_conv1 False\n",
      "block3_conv2 False\n",
      "block3_conv3 False\n",
      "block3_conv4 False\n",
      "block3_pool False\n",
      "block4_conv1 False\n",
      "block4_conv2 False\n",
      "block4_conv3 False\n",
      "block4_conv4 False\n",
      "block4_pool False\n",
      "block5_conv1 True\n",
      "block5_conv2 True\n",
      "block5_conv3 True\n",
      "block5_conv4 True\n",
      "block5_pool True\n"
     ]
    }
   ],
   "source": [
    "# Después de modificar el atributo trainable\n",
    "for layer in conv_base.layers:\n",
    "  print(layer.name, layer.trainable)"
   ]
  },
  {
   "cell_type": "markdown",
   "metadata": {
    "colab_type": "text",
    "id": "l6nR25qAUtO_"
   },
   "source": [
    "# Model"
   ]
  },
  {
   "cell_type": "code",
   "execution_count": 12,
   "metadata": {
    "colab": {
     "base_uri": "https://localhost:8080/",
     "height": 533
    },
    "colab_type": "code",
    "executionInfo": {
     "elapsed": 589,
     "status": "ok",
     "timestamp": 1571091146020,
     "user": {
      "displayName": "Carlos Enrique Scovino Molina",
      "photoUrl": "https://lh3.googleusercontent.com/a-/AAuE7mDi2nGFxv7ry2hppGO-eromx5KAuhqwOMpWZJv7dQ=s64",
      "userId": "12331113434792881111"
     },
     "user_tz": 180
    },
    "id": "u2IF4-CWUvF9",
    "outputId": "4ec1e3a1-cf2b-4918-b1a9-2e1998917a1c"
   },
   "outputs": [
    {
     "name": "stdout",
     "output_type": "stream",
     "text": [
      "Model: \"sequential_1\"\n",
      "_________________________________________________________________\n",
      "Layer (type)                 Output Shape              Param #   \n",
      "=================================================================\n",
      "vgg19 (Model)                (None, 7, 7, 512)         20024384  \n",
      "_________________________________________________________________\n",
      "flatten_1 (Flatten)          (None, 25088)             0         \n",
      "_________________________________________________________________\n",
      "dense_1 (Dense)              (None, 256)               6422784   \n",
      "_________________________________________________________________\n",
      "dense_2 (Dense)              (None, 120)               30840     \n",
      "=================================================================\n",
      "Total params: 26,478,008\n",
      "Trainable params: 15,892,856\n",
      "Non-trainable params: 10,585,152\n",
      "_________________________________________________________________\n"
     ]
    }
   ],
   "source": [
    "from keras import models\n",
    "from keras import layers\n",
    "\n",
    "model = models.Sequential()\n",
    "model.add(conv_base)\n",
    "model.add(layers.Flatten())\n",
    "model.add(layers.Dense(256, activation='relu'))\n",
    "model.add(layers.Dense(120, activation='softmax'))\n",
    "\n",
    "model.summary()"
   ]
  },
  {
   "cell_type": "markdown",
   "metadata": {
    "colab_type": "text",
    "id": "1rgQykIiqEqr"
   },
   "source": [
    "# Optimizador"
   ]
  },
  {
   "cell_type": "code",
   "execution_count": 13,
   "metadata": {
    "colab": {
     "base_uri": "https://localhost:8080/",
     "height": 110
    },
    "colab_type": "code",
    "executionInfo": {
     "elapsed": 564,
     "status": "ok",
     "timestamp": 1571092699191,
     "user": {
      "displayName": "Carlos Enrique Scovino Molina",
      "photoUrl": "https://lh3.googleusercontent.com/a-/AAuE7mDi2nGFxv7ry2hppGO-eromx5KAuhqwOMpWZJv7dQ=s64",
      "userId": "12331113434792881111"
     },
     "user_tz": 180
    },
    "id": "KidTfmZnqEqy",
    "outputId": "0dc25ff5-f5eb-492c-e062-d7a801167642"
   },
   "outputs": [],
   "source": [
    "from keras_radam import RAdam\n",
    "\n",
    "model.compile(loss='categorical_crossentropy',\n",
    "                       optimizer=RAdam(total_steps=5000, warmup_proportion=0.1, min_lr=1e-7),\n",
    "                       metrics=['categorical_accuracy'])"
   ]
  },
  {
   "cell_type": "markdown",
   "metadata": {
    "colab_type": "text",
    "id": "umk45WB-qErW"
   },
   "source": [
    "# Callbacks"
   ]
  },
  {
   "cell_type": "code",
   "execution_count": 14,
   "metadata": {
    "colab": {},
    "colab_type": "code",
    "id": "2T9rOSd2qErZ"
   },
   "outputs": [],
   "source": [
    "from keras.callbacks import EarlyStopping\n",
    "\n",
    "callbacks = [EarlyStopping(monitor='val_categorical_accuracy', min_delta=0.001, patience=20, restore_best_weights=True, mode='max')]"
   ]
  },
  {
   "cell_type": "markdown",
   "metadata": {
    "colab_type": "text",
    "id": "ug142Qj1qErn"
   },
   "source": [
    "# Entrenamiento"
   ]
  },
  {
   "cell_type": "code",
   "execution_count": 15,
   "metadata": {
    "colab": {},
    "colab_type": "code",
    "id": "kSCKA9YhqEru",
    "scrolled": true
   },
   "outputs": [
    {
     "name": "stdout",
     "output_type": "stream",
     "text": [
      "WARNING:tensorflow:From C:\\ProgramData\\Anaconda3\\envs\\tensorflow_gpu\\lib\\site-packages\\tensorflow\\python\\ops\\math_ops.py:3066: to_int32 (from tensorflow.python.ops.math_ops) is deprecated and will be removed in a future version.\n",
      "Instructions for updating:\n",
      "Use tf.cast instead.\n",
      "Epoch 1/2000\n",
      "100/100 [==============================] - 79s 793ms/step - loss: 4.9275 - categorical_accuracy: 0.0078 - val_loss: 4.7925 - val_categorical_accuracy: 0.0125\n",
      "Epoch 2/2000\n",
      "100/100 [==============================] - 61s 613ms/step - loss: 4.7659 - categorical_accuracy: 0.0178 - val_loss: 4.6900 - val_categorical_accuracy: 0.0208\n",
      "Epoch 3/2000\n",
      "100/100 [==============================] - 54s 537ms/step - loss: 4.6859 - categorical_accuracy: 0.0247 - val_loss: 4.5791 - val_categorical_accuracy: 0.0225\n",
      "Epoch 4/2000\n",
      "100/100 [==============================] - 60s 600ms/step - loss: 4.5851 - categorical_accuracy: 0.0231 - val_loss: 4.4296 - val_categorical_accuracy: 0.0404\n",
      "Epoch 5/2000\n",
      "100/100 [==============================] - 48s 480ms/step - loss: 4.6931 - categorical_accuracy: 0.0184 - val_loss: 4.7082 - val_categorical_accuracy: 0.0163\n",
      "Epoch 6/2000\n",
      "100/100 [==============================] - 40s 397ms/step - loss: 4.5088 - categorical_accuracy: 0.0319 - val_loss: 4.3274 - val_categorical_accuracy: 0.0467\n",
      "Epoch 7/2000\n",
      "100/100 [==============================] - 39s 394ms/step - loss: 4.3655 - categorical_accuracy: 0.0459 - val_loss: 4.1338 - val_categorical_accuracy: 0.0675\n",
      "Epoch 8/2000\n",
      "100/100 [==============================] - 39s 393ms/step - loss: 4.2128 - categorical_accuracy: 0.0572 - val_loss: 3.9997 - val_categorical_accuracy: 0.0612\n",
      "Epoch 9/2000\n",
      "100/100 [==============================] - 39s 393ms/step - loss: 4.0455 - categorical_accuracy: 0.0681 - val_loss: 4.0630 - val_categorical_accuracy: 0.0806\n",
      "Epoch 10/2000\n",
      "100/100 [==============================] - 40s 398ms/step - loss: 3.8268 - categorical_accuracy: 0.0919 - val_loss: 3.7766 - val_categorical_accuracy: 0.0978\n",
      "Epoch 11/2000\n",
      "100/100 [==============================] - 39s 391ms/step - loss: 3.7650 - categorical_accuracy: 0.1059 - val_loss: 3.5327 - val_categorical_accuracy: 0.1206\n",
      "Epoch 12/2000\n",
      "100/100 [==============================] - 40s 396ms/step - loss: 3.6494 - categorical_accuracy: 0.1119 - val_loss: 3.4069 - val_categorical_accuracy: 0.1451\n",
      "Epoch 13/2000\n",
      "100/100 [==============================] - 39s 386ms/step - loss: 3.6267 - categorical_accuracy: 0.1194 - val_loss: 3.4516 - val_categorical_accuracy: 0.1500\n",
      "Epoch 14/2000\n",
      "100/100 [==============================] - 40s 397ms/step - loss: 3.4964 - categorical_accuracy: 0.1372 - val_loss: 3.1813 - val_categorical_accuracy: 0.1785\n",
      "Epoch 15/2000\n",
      "100/100 [==============================] - 39s 389ms/step - loss: 3.3429 - categorical_accuracy: 0.1553 - val_loss: 3.2884 - val_categorical_accuracy: 0.1737\n",
      "Epoch 16/2000\n",
      "100/100 [==============================] - 39s 395ms/step - loss: 3.3448 - categorical_accuracy: 0.1541 - val_loss: 3.2673 - val_categorical_accuracy: 0.1716\n",
      "Epoch 17/2000\n",
      "100/100 [==============================] - 39s 391ms/step - loss: 3.2722 - categorical_accuracy: 0.1788 - val_loss: 3.1691 - val_categorical_accuracy: 0.1900\n",
      "Epoch 18/2000\n",
      "100/100 [==============================] - 39s 391ms/step - loss: 3.2953 - categorical_accuracy: 0.1688 - val_loss: 3.1817 - val_categorical_accuracy: 0.2088\n",
      "Epoch 19/2000\n",
      "100/100 [==============================] - 39s 389ms/step - loss: 3.1372 - categorical_accuracy: 0.1897 - val_loss: 3.0649 - val_categorical_accuracy: 0.2044\n",
      "Epoch 20/2000\n",
      "100/100 [==============================] - 39s 387ms/step - loss: 3.1392 - categorical_accuracy: 0.1919 - val_loss: 2.9478 - val_categorical_accuracy: 0.2169\n",
      "Epoch 21/2000\n",
      "100/100 [==============================] - 39s 393ms/step - loss: 3.0684 - categorical_accuracy: 0.2138 - val_loss: 3.0165 - val_categorical_accuracy: 0.2196\n",
      "Epoch 22/2000\n",
      "100/100 [==============================] - 40s 396ms/step - loss: 2.9975 - categorical_accuracy: 0.2125 - val_loss: 2.8106 - val_categorical_accuracy: 0.2569\n",
      "Epoch 23/2000\n",
      "100/100 [==============================] - 39s 395ms/step - loss: 2.9640 - categorical_accuracy: 0.2162 - val_loss: 2.8144 - val_categorical_accuracy: 0.2587\n",
      "Epoch 24/2000\n",
      "100/100 [==============================] - 39s 392ms/step - loss: 2.8749 - categorical_accuracy: 0.2425 - val_loss: 2.8362 - val_categorical_accuracy: 0.2562\n",
      "Epoch 25/2000\n",
      "100/100 [==============================] - 40s 395ms/step - loss: 2.8472 - categorical_accuracy: 0.2516 - val_loss: 2.6916 - val_categorical_accuracy: 0.2650\n",
      "Epoch 26/2000\n",
      "100/100 [==============================] - 39s 389ms/step - loss: 2.8702 - categorical_accuracy: 0.2525 - val_loss: 2.7630 - val_categorical_accuracy: 0.2662\n",
      "Epoch 27/2000\n",
      "100/100 [==============================] - 39s 394ms/step - loss: 2.8323 - categorical_accuracy: 0.2584 - val_loss: 2.7791 - val_categorical_accuracy: 0.2593\n",
      "Epoch 28/2000\n",
      "100/100 [==============================] - 39s 390ms/step - loss: 2.7187 - categorical_accuracy: 0.2672 - val_loss: 2.6889 - val_categorical_accuracy: 0.2856\n",
      "Epoch 29/2000\n",
      "100/100 [==============================] - 39s 390ms/step - loss: 2.6945 - categorical_accuracy: 0.2791 - val_loss: 2.7166 - val_categorical_accuracy: 0.2934\n",
      "Epoch 30/2000\n",
      "100/100 [==============================] - 39s 388ms/step - loss: 2.6724 - categorical_accuracy: 0.2762 - val_loss: 2.5863 - val_categorical_accuracy: 0.3194\n",
      "Epoch 31/2000\n",
      "100/100 [==============================] - 39s 393ms/step - loss: 2.6266 - categorical_accuracy: 0.2941 - val_loss: 2.5877 - val_categorical_accuracy: 0.2984\n",
      "Epoch 32/2000\n",
      "100/100 [==============================] - 39s 392ms/step - loss: 2.5831 - categorical_accuracy: 0.3047 - val_loss: 2.5902 - val_categorical_accuracy: 0.3231\n",
      "Epoch 33/2000\n",
      "100/100 [==============================] - 39s 390ms/step - loss: 2.5297 - categorical_accuracy: 0.3082 - val_loss: 2.6409 - val_categorical_accuracy: 0.3003\n",
      "Epoch 34/2000\n",
      "100/100 [==============================] - 39s 389ms/step - loss: 2.4483 - categorical_accuracy: 0.3369 - val_loss: 2.5461 - val_categorical_accuracy: 0.3269\n",
      "Epoch 35/2000\n",
      "100/100 [==============================] - 39s 392ms/step - loss: 2.4477 - categorical_accuracy: 0.3334 - val_loss: 2.4202 - val_categorical_accuracy: 0.3382\n",
      "Epoch 36/2000\n",
      "100/100 [==============================] - 39s 390ms/step - loss: 2.4374 - categorical_accuracy: 0.3381 - val_loss: 2.3945 - val_categorical_accuracy: 0.3700\n",
      "Epoch 37/2000\n",
      "100/100 [==============================] - 39s 395ms/step - loss: 2.2847 - categorical_accuracy: 0.3694 - val_loss: 2.4257 - val_categorical_accuracy: 0.3508\n",
      "Epoch 38/2000\n",
      "100/100 [==============================] - 39s 388ms/step - loss: 2.2747 - categorical_accuracy: 0.3753 - val_loss: 2.4255 - val_categorical_accuracy: 0.3634\n",
      "Epoch 39/2000\n",
      "100/100 [==============================] - 39s 387ms/step - loss: 2.3007 - categorical_accuracy: 0.3635 - val_loss: 2.4376 - val_categorical_accuracy: 0.3406\n",
      "Epoch 40/2000\n",
      "100/100 [==============================] - 39s 393ms/step - loss: 2.2679 - categorical_accuracy: 0.3656 - val_loss: 2.3652 - val_categorical_accuracy: 0.3558\n",
      "Epoch 41/2000\n",
      "100/100 [==============================] - 39s 392ms/step - loss: 2.2707 - categorical_accuracy: 0.3706 - val_loss: 2.3155 - val_categorical_accuracy: 0.3613\n",
      "Epoch 42/2000\n",
      "100/100 [==============================] - 39s 390ms/step - loss: 2.1066 - categorical_accuracy: 0.4143 - val_loss: 2.2320 - val_categorical_accuracy: 0.3779\n",
      "Epoch 43/2000\n",
      "100/100 [==============================] - 39s 391ms/step - loss: 2.1238 - categorical_accuracy: 0.4012 - val_loss: 2.2529 - val_categorical_accuracy: 0.3837\n",
      "Epoch 44/2000\n",
      "100/100 [==============================] - 39s 393ms/step - loss: 2.1014 - categorical_accuracy: 0.4131 - val_loss: 2.3477 - val_categorical_accuracy: 0.3748\n",
      "Epoch 45/2000\n",
      "100/100 [==============================] - 39s 390ms/step - loss: 2.0396 - categorical_accuracy: 0.4219 - val_loss: 2.2262 - val_categorical_accuracy: 0.4075\n",
      "Epoch 46/2000\n",
      "100/100 [==============================] - 40s 395ms/step - loss: 2.0287 - categorical_accuracy: 0.4181 - val_loss: 2.3095 - val_categorical_accuracy: 0.3710\n",
      "Epoch 47/2000\n"
     ]
    },
    {
     "name": "stdout",
     "output_type": "stream",
     "text": [
      "100/100 [==============================] - 39s 391ms/step - loss: 1.9590 - categorical_accuracy: 0.4509 - val_loss: 2.1457 - val_categorical_accuracy: 0.4219\n",
      "Epoch 48/2000\n",
      "100/100 [==============================] - 39s 393ms/step - loss: 1.9457 - categorical_accuracy: 0.4441 - val_loss: 2.1215 - val_categorical_accuracy: 0.4315\n",
      "Epoch 49/2000\n",
      "100/100 [==============================] - 39s 385ms/step - loss: 1.9118 - categorical_accuracy: 0.4612 - val_loss: 2.1656 - val_categorical_accuracy: 0.4050\n",
      "Epoch 50/2000\n",
      "100/100 [==============================] - 40s 395ms/step - loss: 1.9654 - categorical_accuracy: 0.4441 - val_loss: 2.1913 - val_categorical_accuracy: 0.4120\n",
      "Epoch 51/2000\n",
      "100/100 [==============================] - 41s 411ms/step - loss: 1.8859 - categorical_accuracy: 0.4453 - val_loss: 2.1716 - val_categorical_accuracy: 0.4062\n",
      "Epoch 52/2000\n",
      "100/100 [==============================] - 39s 395ms/step - loss: 1.8619 - categorical_accuracy: 0.4688 - val_loss: 2.1138 - val_categorical_accuracy: 0.4139\n",
      "Epoch 53/2000\n",
      "100/100 [==============================] - 38s 385ms/step - loss: 1.8922 - categorical_accuracy: 0.4587 - val_loss: 2.2040 - val_categorical_accuracy: 0.4125\n",
      "Epoch 54/2000\n",
      "100/100 [==============================] - 39s 395ms/step - loss: 1.8762 - categorical_accuracy: 0.4744 - val_loss: 2.1626 - val_categorical_accuracy: 0.4183\n",
      "Epoch 55/2000\n",
      "100/100 [==============================] - 39s 388ms/step - loss: 1.8811 - categorical_accuracy: 0.4734 - val_loss: 2.1767 - val_categorical_accuracy: 0.4100\n",
      "Epoch 56/2000\n",
      "100/100 [==============================] - 39s 394ms/step - loss: 1.8819 - categorical_accuracy: 0.4669 - val_loss: 2.1267 - val_categorical_accuracy: 0.4177\n",
      "Epoch 57/2000\n",
      "100/100 [==============================] - 39s 389ms/step - loss: 1.8481 - categorical_accuracy: 0.4650 - val_loss: 2.1901 - val_categorical_accuracy: 0.4120\n",
      "Epoch 58/2000\n",
      "100/100 [==============================] - 39s 391ms/step - loss: 1.9049 - categorical_accuracy: 0.4537 - val_loss: 2.1586 - val_categorical_accuracy: 0.4169\n",
      "Epoch 59/2000\n",
      "100/100 [==============================] - 39s 389ms/step - loss: 1.8832 - categorical_accuracy: 0.4625 - val_loss: 2.1764 - val_categorical_accuracy: 0.4069\n",
      "Epoch 60/2000\n",
      "100/100 [==============================] - 39s 392ms/step - loss: 1.8698 - categorical_accuracy: 0.4706 - val_loss: 2.1641 - val_categorical_accuracy: 0.4088\n",
      "Epoch 61/2000\n",
      "100/100 [==============================] - 39s 394ms/step - loss: 1.8826 - categorical_accuracy: 0.4578 - val_loss: 2.1569 - val_categorical_accuracy: 0.4202\n",
      "Epoch 62/2000\n",
      "100/100 [==============================] - 39s 389ms/step - loss: 1.8904 - categorical_accuracy: 0.4675 - val_loss: 2.1192 - val_categorical_accuracy: 0.4244\n",
      "Epoch 63/2000\n",
      "100/100 [==============================] - 39s 389ms/step - loss: 1.8912 - categorical_accuracy: 0.4491 - val_loss: 2.2193 - val_categorical_accuracy: 0.3975\n",
      "Epoch 64/2000\n",
      "100/100 [==============================] - 39s 392ms/step - loss: 1.8426 - categorical_accuracy: 0.4769 - val_loss: 2.1603 - val_categorical_accuracy: 0.4206\n",
      "Epoch 65/2000\n",
      "100/100 [==============================] - 39s 391ms/step - loss: 1.8086 - categorical_accuracy: 0.4809 - val_loss: 2.1240 - val_categorical_accuracy: 0.4132\n",
      "Epoch 66/2000\n",
      "100/100 [==============================] - 39s 390ms/step - loss: 1.8907 - categorical_accuracy: 0.4716 - val_loss: 2.1934 - val_categorical_accuracy: 0.3944\n",
      "Epoch 67/2000\n",
      "100/100 [==============================] - 39s 394ms/step - loss: 1.8588 - categorical_accuracy: 0.4666 - val_loss: 2.1619 - val_categorical_accuracy: 0.4202\n",
      "Epoch 68/2000\n",
      "100/100 [==============================] - 39s 390ms/step - loss: 1.9022 - categorical_accuracy: 0.4709 - val_loss: 2.1750 - val_categorical_accuracy: 0.4088\n"
     ]
    }
   ],
   "source": [
    "history = model.fit_generator(train_generator,\n",
    "                                       steps_per_epoch=100,\n",
    "                                       epochs=2000,\n",
    "                                       validation_data=valid_generator,\n",
    "                                       validation_steps=50,\n",
    "                                       callbacks=callbacks)"
   ]
  },
  {
   "cell_type": "code",
   "execution_count": 16,
   "metadata": {
    "colab": {},
    "colab_type": "code",
    "id": "78t0tCgQqEsf"
   },
   "outputs": [],
   "source": [
    "import pickle\n",
    "\n",
    "# open a file, where you ant to store the data\n",
    "file = open('./models/history_{}.pkl'.format(MODELO), 'wb')\n",
    "\n",
    "# dump information to that file\n",
    "pickle.dump(history.history, file)\n",
    "\n",
    "# close the file\n",
    "file.close()"
   ]
  },
  {
   "cell_type": "markdown",
   "metadata": {
    "colab_type": "text",
    "id": "BD1-1UgGqEs1"
   },
   "source": [
    "# Graficos"
   ]
  },
  {
   "cell_type": "code",
   "execution_count": 17,
   "metadata": {
    "colab": {},
    "colab_type": "code",
    "id": "FzYMwXuHqEs6"
   },
   "outputs": [
    {
     "data": {
      "image/png": "[encoded data removed]",
      "text/plain": [
       "<Figure size 432x288 with 1 Axes>"
      ]
     },
     "metadata": {
      "needs_background": "light"
     },
     "output_type": "display_data"
    },
    {
     "data": {
      "image/png": "[encoded data removed]",
      "text/plain": [
       "<Figure size 432x288 with 1 Axes>"
      ]
     },
     "metadata": {
      "needs_background": "light"
     },
     "output_type": "display_data"
    }
   ],
   "source": [
    "import matplotlib.pyplot as plt\n",
    "%matplotlib inline\n",
    "\n",
    "acc = history.history['categorical_accuracy']\n",
    "val_acc = history.history['val_categorical_accuracy']\n",
    "loss = history.history['loss']\n",
    "val_loss = history.history['val_loss']\n",
    "\n",
    "epochs = range(len(acc))\n",
    "\n",
    "plt.plot(epochs, acc, 'bo', label='Train')\n",
    "plt.plot(epochs, val_acc, 'b', label='Validation')\n",
    "plt.title('Accuracy: Train, Validation')\n",
    "plt.legend()\n",
    "\n",
    "plt.figure()\n",
    "\n",
    "plt.plot(epochs, loss, 'bo', label='Train')\n",
    "plt.plot(epochs, val_loss, 'b', label='Validation')\n",
    "plt.title('Loss: Train, Validation')\n",
    "plt.legend()\n",
    "\n",
    "plt.show()"
   ]
  },
  {
   "cell_type": "code",
   "execution_count": 18,
   "metadata": {
    "colab": {},
    "colab_type": "code",
    "id": "hBpORUW-qEtJ"
   },
   "outputs": [],
   "source": [
    "model.save('./models/model_{}_RAdam.h5'.format(MODELO))"
   ]
  },
  {
   "cell_type": "markdown",
   "metadata": {
    "colab_type": "text",
    "id": "r5gFIIp7qEtk"
   },
   "source": [
    "# Predict"
   ]
  },
  {
   "cell_type": "code",
   "execution_count": 19,
   "metadata": {
    "colab": {},
    "colab_type": "code",
    "id": "utHmTlSMqEtp"
   },
   "outputs": [
    {
     "name": "stdout",
     "output_type": "stream",
     "text": [
      "Found 3025 images belonging to 120 classes.\n"
     ]
    }
   ],
   "source": [
    "test_datagen = ImageDataGenerator(rescale=1./255)\n",
    "\n",
    "test_generator = test_datagen.flow_from_directory(\n",
    "        test_dir,\n",
    "        target_size=(224, 224),\n",
    "        batch_size=32,\n",
    "        class_mode=None,\n",
    "        shuffle=False)"
   ]
  },
  {
   "cell_type": "code",
   "execution_count": 21,
   "metadata": {
    "colab": {},
    "colab_type": "code",
    "id": "LCwPP6rFqEuD"
   },
   "outputs": [],
   "source": [
    "probabilities = model.predict_generator(test_generator)"
   ]
  },
  {
   "cell_type": "code",
   "execution_count": 22,
   "metadata": {
    "colab": {},
    "colab_type": "code",
    "id": "pbChdhELqEuK"
   },
   "outputs": [],
   "source": [
    "# Get Max Index\n",
    "predicted_class_index=np.argmax(probabilities,axis=1)\n",
    "\n",
    "# Dictionary: Index to Class\n",
    "class_labels = list(test_generator.class_indices.keys())\n",
    "index_to_labels = dict((v,k) for k,v in test_generator.class_indices.items())\n",
    "\n",
    "# Get List of Predictions\n",
    "predictions = [index_to_labels[ix] for ix in predicted_class_index]\n",
    "\n",
    "# Get Dictionary of Predictions\n",
    "results=pd.DataFrame({\"Filename\":test_generator.filenames,\n",
    "                      \"Predictions\":predictions})"
   ]
  },
  {
   "cell_type": "code",
   "execution_count": 23,
   "metadata": {
    "colab": {},
    "colab_type": "code",
    "id": "qQmUc7-HqEu9"
   },
   "outputs": [
    {
     "data": {
      "text/html": [
       "<div>\n",
       "<style scoped>\n",
       "    .dataframe tbody tr th:only-of-type {\n",
       "        vertical-align: middle;\n",
       "    }\n",
       "\n",
       "    .dataframe tbody tr th {\n",
       "        vertical-align: top;\n",
       "    }\n",
       "\n",
       "    .dataframe thead th {\n",
       "        text-align: right;\n",
       "    }\n",
       "</style>\n",
       "<table border=\"1\" class=\"dataframe\">\n",
       "  <thead>\n",
       "    <tr style=\"text-align: right;\">\n",
       "      <th></th>\n",
       "      <th>Filename</th>\n",
       "      <th>Predictions</th>\n",
       "    </tr>\n",
       "  </thead>\n",
       "  <tbody>\n",
       "    <tr>\n",
       "      <th>0</th>\n",
       "      <td>n02085620-Chihuahua\\n02085620_10074.jpg</td>\n",
       "      <td>n02113023-Pembroke</td>\n",
       "    </tr>\n",
       "    <tr>\n",
       "      <th>1</th>\n",
       "      <td>n02085620-Chihuahua\\n02085620_10131.jpg</td>\n",
       "      <td>n02085620-Chihuahua</td>\n",
       "    </tr>\n",
       "    <tr>\n",
       "      <th>2</th>\n",
       "      <td>n02085620-Chihuahua\\n02085620_10621.jpg</td>\n",
       "      <td>n02091032-Italian_greyhound</td>\n",
       "    </tr>\n",
       "    <tr>\n",
       "      <th>3</th>\n",
       "      <td>n02085620-Chihuahua\\n02085620_1073.jpg</td>\n",
       "      <td>n02093428-American_Staffordshire_terrier</td>\n",
       "    </tr>\n",
       "    <tr>\n",
       "      <th>4</th>\n",
       "      <td>n02085620-Chihuahua\\n02085620_10976.jpg</td>\n",
       "      <td>n02113023-Pembroke</td>\n",
       "    </tr>\n",
       "  </tbody>\n",
       "</table>\n",
       "</div>"
      ],
      "text/plain": [
       "                                  Filename  \\\n",
       "0  n02085620-Chihuahua\\n02085620_10074.jpg   \n",
       "1  n02085620-Chihuahua\\n02085620_10131.jpg   \n",
       "2  n02085620-Chihuahua\\n02085620_10621.jpg   \n",
       "3   n02085620-Chihuahua\\n02085620_1073.jpg   \n",
       "4  n02085620-Chihuahua\\n02085620_10976.jpg   \n",
       "\n",
       "                                Predictions  \n",
       "0                        n02113023-Pembroke  \n",
       "1                       n02085620-Chihuahua  \n",
       "2               n02091032-Italian_greyhound  \n",
       "3  n02093428-American_Staffordshire_terrier  \n",
       "4                        n02113023-Pembroke  "
      ]
     },
     "execution_count": 23,
     "metadata": {},
     "output_type": "execute_result"
    }
   ],
   "source": [
    "results.head()"
   ]
  },
  {
   "cell_type": "code",
   "execution_count": 24,
   "metadata": {
    "colab": {},
    "colab_type": "code",
    "id": "_uM99rbiqEvK"
   },
   "outputs": [],
   "source": [
    "results.to_csv(\"./models/results_details_{}.csv\".format(MODELO), sep=\"|\", index=False)"
   ]
  },
  {
   "cell_type": "code",
   "execution_count": 25,
   "metadata": {
    "colab": {},
    "colab_type": "code",
    "id": "DUURLDZnqEvX"
   },
   "outputs": [],
   "source": [
    "from sklearn.metrics import confusion_matrix\n",
    "cm = confusion_matrix(test_generator.labels, predicted_class_index)"
   ]
  },
  {
   "cell_type": "code",
   "execution_count": 26,
   "metadata": {
    "colab": {},
    "colab_type": "code",
    "id": "eUk5AZSIqEvm"
   },
   "outputs": [
    {
     "name": "stdout",
     "output_type": "stream",
     "text": [
      "General Accuracy:0.40\n"
     ]
    }
   ],
   "source": [
    "results_dict = {}\n",
    "tp_sum, fp_sum = 0, 0\n",
    "\n",
    "for ix, row in enumerate(cm):\n",
    "    \n",
    "    tp = row[ix]\n",
    "    fp = np.sum(row) - tp   \n",
    "    results_dict[ix] = [class_labels[ix],tp,fp,(tp/(tp+fp)*100)]\n",
    "\n",
    "    tp_sum += tp\n",
    "    fp_sum += fp\n",
    "    \n",
    "df_res = pd.DataFrame.from_dict(results_dict, orient=\"index\", columns=[\"Class\",\"True Positive\",\"False Positive\",\"Accuracy\"])\n",
    "\n",
    "print(\"General Accuracy:{:0.2f}\".format(tp_sum/(tp_sum+fp_sum)))"
   ]
  },
  {
   "cell_type": "code",
   "execution_count": 27,
   "metadata": {
    "colab": {},
    "colab_type": "code",
    "id": "bWn-KpFuqEwA"
   },
   "outputs": [
    {
     "data": {
      "text/html": [
       "<div>\n",
       "<style scoped>\n",
       "    .dataframe tbody tr th:only-of-type {\n",
       "        vertical-align: middle;\n",
       "    }\n",
       "\n",
       "    .dataframe tbody tr th {\n",
       "        vertical-align: top;\n",
       "    }\n",
       "\n",
       "    .dataframe thead th {\n",
       "        text-align: right;\n",
       "    }\n",
       "</style>\n",
       "<table border=\"1\" class=\"dataframe\">\n",
       "  <thead>\n",
       "    <tr style=\"text-align: right;\">\n",
       "      <th></th>\n",
       "      <th>Class</th>\n",
       "      <th>True Positive</th>\n",
       "      <th>False Positive</th>\n",
       "      <th>Accuracy</th>\n",
       "    </tr>\n",
       "  </thead>\n",
       "  <tbody>\n",
       "    <tr>\n",
       "      <th>0</th>\n",
       "      <td>n02085620-Chihuahua</td>\n",
       "      <td>3</td>\n",
       "      <td>19</td>\n",
       "      <td>13.636364</td>\n",
       "    </tr>\n",
       "    <tr>\n",
       "      <th>1</th>\n",
       "      <td>n02085782-Japanese_spaniel</td>\n",
       "      <td>23</td>\n",
       "      <td>4</td>\n",
       "      <td>85.185185</td>\n",
       "    </tr>\n",
       "    <tr>\n",
       "      <th>2</th>\n",
       "      <td>n02085936-Maltese_dog</td>\n",
       "      <td>27</td>\n",
       "      <td>10</td>\n",
       "      <td>72.972973</td>\n",
       "    </tr>\n",
       "    <tr>\n",
       "      <th>3</th>\n",
       "      <td>n02086079-Pekinese</td>\n",
       "      <td>8</td>\n",
       "      <td>14</td>\n",
       "      <td>36.363636</td>\n",
       "    </tr>\n",
       "    <tr>\n",
       "      <th>4</th>\n",
       "      <td>n02086240-Shih-Tzu</td>\n",
       "      <td>5</td>\n",
       "      <td>27</td>\n",
       "      <td>15.625000</td>\n",
       "    </tr>\n",
       "  </tbody>\n",
       "</table>\n",
       "</div>"
      ],
      "text/plain": [
       "                        Class  True Positive  False Positive   Accuracy\n",
       "0         n02085620-Chihuahua              3              19  13.636364\n",
       "1  n02085782-Japanese_spaniel             23               4  85.185185\n",
       "2       n02085936-Maltese_dog             27              10  72.972973\n",
       "3          n02086079-Pekinese              8              14  36.363636\n",
       "4          n02086240-Shih-Tzu              5              27  15.625000"
      ]
     },
     "execution_count": 27,
     "metadata": {},
     "output_type": "execute_result"
    }
   ],
   "source": [
    "df_res.head()"
   ]
  },
  {
   "cell_type": "code",
   "execution_count": 28,
   "metadata": {
    "colab": {},
    "colab_type": "code",
    "id": "Jm-N0ADaqEwL"
   },
   "outputs": [],
   "source": [
    "df_res.to_csv(\"./models/results_{}.csv\".format(MODELO), sep=\"|\", index=False)"
   ]
  },
  {
   "cell_type": "code",
   "execution_count": null,
   "metadata": {
    "colab": {},
    "colab_type": "code",
    "id": "7qTET55_qEwq"
   },
   "outputs": [],
   "source": []
  }
 ],
 "metadata": {
  "accelerator": "TPU",
  "colab": {
   "name": "Desafio 02 - Grupo 4 - Paso 8 - Modelo VGG19 Fine Tunning - RAdam.ipynb",
   "provenance": [
    {
     "file_id": "1nR7LSvSg2jLV_HAy7cNmpsT6VX7HKmWZ",
     "timestamp": 1571087596055
    }
   ]
  },
  "kernelspec": {
   "display_name": "Python 3",
   "language": "python",
   "name": "python3"
  },
  "language_info": {
   "codemirror_mode": {
    "name": "ipython",
    "version": 3
   },
   "file_extension": ".py",
   "mimetype": "text/x-python",
   "name": "python",
   "nbconvert_exporter": "python",
   "pygments_lexer": "ipython3",
   "version": "3.7.3"
  }
 },
 "nbformat": 4,
 "nbformat_minor": 1
}
