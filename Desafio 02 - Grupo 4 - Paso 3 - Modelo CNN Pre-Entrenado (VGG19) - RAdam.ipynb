{
 "cells": [
  {
   "cell_type": "code",
   "execution_count": 1,
   "metadata": {},
   "outputs": [],
   "source": [
    "MODELO = \"VGG19\""
   ]
  },
  {
   "cell_type": "code",
   "execution_count": 2,
   "metadata": {},
   "outputs": [
    {
     "name": "stderr",
     "output_type": "stream",
     "text": [
      "Using TensorFlow backend.\n"
     ]
    }
   ],
   "source": [
    "import os\n",
    "import keras\n",
    "keras.__version__\n",
    "import numpy as np\n",
    "import pandas as pd\n",
    "import tensorflow as tf\n",
    "\n",
    "from keras import optimizers\n",
    "from keras.utils import multi_gpu_model\n",
    "from tensorflow.python.client import device_lib"
   ]
  },
  {
   "cell_type": "code",
   "execution_count": 3,
   "metadata": {},
   "outputs": [],
   "source": [
    "os.environ['CUDA_VISIBLE_DEVICES'] = \"0,1,2,3\"\n",
    "multi_gpu = len(\"0,1,2,3\".split(','))"
   ]
  },
  {
   "cell_type": "code",
   "execution_count": 4,
   "metadata": {},
   "outputs": [],
   "source": [
    "def get_session():\n",
    "    config = tf.ConfigProto(device_count = {'CPU' :24, 'GPU':4})\n",
    "    config.gpu_options.allow_growth = True\n",
    "    return tf.Session(config=config)"
   ]
  },
  {
   "cell_type": "code",
   "execution_count": 5,
   "metadata": {},
   "outputs": [],
   "source": [
    "keras.backend.tensorflow_backend.set_session(get_session())"
   ]
  },
  {
   "cell_type": "markdown",
   "metadata": {},
   "source": [
    "# Directorios"
   ]
  },
  {
   "cell_type": "code",
   "execution_count": 6,
   "metadata": {},
   "outputs": [],
   "source": [
    "# El directorio de trabajo\n",
    "processDir = './process'\n",
    "\n",
    "# Directorio para entrenamiento, validacion y test\n",
    "train_dir = os.path.join(processDir, 'train')\n",
    "validation_dir = os.path.join(processDir, 'validation')\n",
    "test_dir = os.path.join(processDir, 'test')\n"
   ]
  },
  {
   "cell_type": "markdown",
   "metadata": {},
   "source": [
    "# Generador de datos"
   ]
  },
  {
   "cell_type": "code",
   "execution_count": 30,
   "metadata": {},
   "outputs": [
    {
     "name": "stdout",
     "output_type": "stream",
     "text": [
      "Found 14530 images belonging to 120 classes.\n",
      "Found 3025 images belonging to 120 classes.\n"
     ]
    }
   ],
   "source": [
    "from keras.preprocessing.image import ImageDataGenerator\n",
    "\n",
    "train_datagen = ImageDataGenerator(\n",
    "    rescale=1./255,\n",
    "    rotation_range=40,\n",
    "    width_shift_range=0.2,\n",
    "    height_shift_range=0.2,\n",
    "    shear_range=0.2,\n",
    "    zoom_range=0.2,\n",
    "    horizontal_flip=True,)\n",
    "\n",
    "valid_datagen = ImageDataGenerator(rescale=1./255)\n",
    "\n",
    "train_generator = train_datagen.flow_from_directory(\n",
    "        train_dir,\n",
    "        target_size=(224, 224),\n",
    "        batch_size=32,\n",
    "        class_mode='categorical')\n",
    "\n",
    "valid_generator = valid_datagen.flow_from_directory(\n",
    "        validation_dir,\n",
    "        target_size=(224, 224),\n",
    "        batch_size=32,\n",
    "        class_mode='categorical')"
   ]
  },
  {
   "cell_type": "markdown",
   "metadata": {},
   "source": [
    "# Modelo VGG19"
   ]
  },
  {
   "cell_type": "code",
   "execution_count": 31,
   "metadata": {},
   "outputs": [],
   "source": [
    "from keras.applications.vgg19 import VGG19\n",
    "\n",
    "if multi_gpu > 1:  \n",
    "    with tf.device('/cpu:0'):\n",
    "        conv_base = VGG19(weights='imagenet',\n",
    "                          include_top=False,\n",
    "                          input_shape=(224, 224, 3))"
   ]
  },
  {
   "cell_type": "code",
   "execution_count": 32,
   "metadata": {},
   "outputs": [
    {
     "name": "stdout",
     "output_type": "stream",
     "text": [
      "Model: \"vgg19\"\n",
      "_________________________________________________________________\n",
      "Layer (type)                 Output Shape              Param #   \n",
      "=================================================================\n",
      "input_2 (InputLayer)         (None, 224, 224, 3)       0         \n",
      "_________________________________________________________________\n",
      "block1_conv1 (Conv2D)        (None, 224, 224, 64)      1792      \n",
      "_________________________________________________________________\n",
      "block1_conv2 (Conv2D)        (None, 224, 224, 64)      36928     \n",
      "_________________________________________________________________\n",
      "block1_pool (MaxPooling2D)   (None, 112, 112, 64)      0         \n",
      "_________________________________________________________________\n",
      "block2_conv1 (Conv2D)        (None, 112, 112, 128)     73856     \n",
      "_________________________________________________________________\n",
      "block2_conv2 (Conv2D)        (None, 112, 112, 128)     147584    \n",
      "_________________________________________________________________\n",
      "block2_pool (MaxPooling2D)   (None, 56, 56, 128)       0         \n",
      "_________________________________________________________________\n",
      "block3_conv1 (Conv2D)        (None, 56, 56, 256)       295168    \n",
      "_________________________________________________________________\n",
      "block3_conv2 (Conv2D)        (None, 56, 56, 256)       590080    \n",
      "_________________________________________________________________\n",
      "block3_conv3 (Conv2D)        (None, 56, 56, 256)       590080    \n",
      "_________________________________________________________________\n",
      "block3_conv4 (Conv2D)        (None, 56, 56, 256)       590080    \n",
      "_________________________________________________________________\n",
      "block3_pool (MaxPooling2D)   (None, 28, 28, 256)       0         \n",
      "_________________________________________________________________\n",
      "block4_conv1 (Conv2D)        (None, 28, 28, 512)       1180160   \n",
      "_________________________________________________________________\n",
      "block4_conv2 (Conv2D)        (None, 28, 28, 512)       2359808   \n",
      "_________________________________________________________________\n",
      "block4_conv3 (Conv2D)        (None, 28, 28, 512)       2359808   \n",
      "_________________________________________________________________\n",
      "block4_conv4 (Conv2D)        (None, 28, 28, 512)       2359808   \n",
      "_________________________________________________________________\n",
      "block4_pool (MaxPooling2D)   (None, 14, 14, 512)       0         \n",
      "_________________________________________________________________\n",
      "block5_conv1 (Conv2D)        (None, 14, 14, 512)       2359808   \n",
      "_________________________________________________________________\n",
      "block5_conv2 (Conv2D)        (None, 14, 14, 512)       2359808   \n",
      "_________________________________________________________________\n",
      "block5_conv3 (Conv2D)        (None, 14, 14, 512)       2359808   \n",
      "_________________________________________________________________\n",
      "block5_conv4 (Conv2D)        (None, 14, 14, 512)       2359808   \n",
      "_________________________________________________________________\n",
      "block5_pool (MaxPooling2D)   (None, 7, 7, 512)         0         \n",
      "=================================================================\n",
      "Total params: 20,024,384\n",
      "Trainable params: 20,024,384\n",
      "Non-trainable params: 0\n",
      "_________________________________________________________________\n"
     ]
    }
   ],
   "source": [
    "conv_base.summary()"
   ]
  },
  {
   "cell_type": "code",
   "execution_count": 33,
   "metadata": {},
   "outputs": [],
   "source": [
    "from keras import models\n",
    "from keras import layers\n",
    "\n",
    "model = models.Sequential()\n",
    "model.add(conv_base)\n",
    "model.add(layers.Flatten())\n",
    "model.add(layers.Dense(256, activation='relu'))\n",
    "model.add(layers.Dense(120, activation='softmax'))"
   ]
  },
  {
   "cell_type": "code",
   "execution_count": 34,
   "metadata": {},
   "outputs": [
    {
     "name": "stdout",
     "output_type": "stream",
     "text": [
      "Model: \"sequential_2\"\n",
      "_________________________________________________________________\n",
      "Layer (type)                 Output Shape              Param #   \n",
      "=================================================================\n",
      "vgg19 (Model)                (None, 7, 7, 512)         20024384  \n",
      "_________________________________________________________________\n",
      "flatten_2 (Flatten)          (None, 25088)             0         \n",
      "_________________________________________________________________\n",
      "dense_3 (Dense)              (None, 256)               6422784   \n",
      "_________________________________________________________________\n",
      "dense_4 (Dense)              (None, 120)               30840     \n",
      "=================================================================\n",
      "Total params: 26,478,008\n",
      "Trainable params: 26,478,008\n",
      "Non-trainable params: 0\n",
      "_________________________________________________________________\n"
     ]
    }
   ],
   "source": [
    "model.summary()"
   ]
  },
  {
   "cell_type": "code",
   "execution_count": 35,
   "metadata": {},
   "outputs": [],
   "source": [
    "conv_base.trainable = False"
   ]
  },
  {
   "cell_type": "code",
   "execution_count": 36,
   "metadata": {},
   "outputs": [
    {
     "name": "stdout",
     "output_type": "stream",
     "text": [
      "Model: \"sequential_2\"\n",
      "_________________________________________________________________\n",
      "Layer (type)                 Output Shape              Param #   \n",
      "=================================================================\n",
      "vgg19 (Model)                (None, 7, 7, 512)         20024384  \n",
      "_________________________________________________________________\n",
      "flatten_2 (Flatten)          (None, 25088)             0         \n",
      "_________________________________________________________________\n",
      "dense_3 (Dense)              (None, 256)               6422784   \n",
      "_________________________________________________________________\n",
      "dense_4 (Dense)              (None, 120)               30840     \n",
      "=================================================================\n",
      "Total params: 26,478,008\n",
      "Trainable params: 6,453,624\n",
      "Non-trainable params: 20,024,384\n",
      "_________________________________________________________________\n"
     ]
    }
   ],
   "source": [
    "model.summary()"
   ]
  },
  {
   "cell_type": "code",
   "execution_count": 37,
   "metadata": {},
   "outputs": [],
   "source": [
    "if multi_gpu > 1:\n",
    "    parallel_model = multi_gpu_model(model, gpus=multi_gpu)"
   ]
  },
  {
   "cell_type": "markdown",
   "metadata": {},
   "source": [
    "# Optimizador"
   ]
  },
  {
   "cell_type": "markdown",
   "metadata": {},
   "source": [
    "from keras_radam import RAdam\n",
    "\n",
    "parallel_model.compile(loss='categorical_crossentropy',\n",
    "                       optimizer=RAdam(total_steps=5000, warmup_proportion=0.1, min_lr=1e-7),\n",
    "                       metrics=['categorical_accuracy'])"
   ]
  },
  {
   "cell_type": "code",
   "execution_count": 39,
   "metadata": {},
   "outputs": [],
   "source": [
    "from keras import optimizers\n",
    "\n",
    "parallel_model.compile(loss='categorical_crossentropy',\n",
    "                       optimizer=optimizers.RMSprop(lr=1e-4),\n",
    "                       metrics=['categorical_accuracy'])"
   ]
  },
  {
   "cell_type": "markdown",
   "metadata": {},
   "source": [
    "# Callbacks"
   ]
  },
  {
   "cell_type": "code",
   "execution_count": 41,
   "metadata": {},
   "outputs": [],
   "source": [
    "from keras import callbacks\n",
    "\n",
    "callbacks = [callbacks.EarlyStopping(monitor='val_categorical_accuracy', min_delta=0.001, patience=20, restore_best_weights=True, mode='max')]"
   ]
  },
  {
   "cell_type": "markdown",
   "metadata": {},
   "source": [
    "# Entrenamiento"
   ]
  },
  {
   "cell_type": "code",
   "execution_count": 42,
   "metadata": {
    "scrolled": true
   },
   "outputs": [
    {
     "name": "stdout",
     "output_type": "stream",
     "text": [
      "Epoch 1/500\n",
      "100/100 [==============================] - 43s 430ms/step - loss: 4.8397 - categorical_accuracy: 0.0084 - val_loss: 4.8059 - val_categorical_accuracy: 0.0106\n",
      "Epoch 2/500\n",
      "100/100 [==============================] - 40s 400ms/step - loss: 4.7824 - categorical_accuracy: 0.0131 - val_loss: 4.7955 - val_categorical_accuracy: 0.0101\n",
      "Epoch 3/500\n",
      "100/100 [==============================] - 40s 400ms/step - loss: 4.7693 - categorical_accuracy: 0.0128 - val_loss: 4.7373 - val_categorical_accuracy: 0.0200\n",
      "Epoch 4/500\n",
      "100/100 [==============================] - 40s 402ms/step - loss: 4.7479 - categorical_accuracy: 0.0184 - val_loss: 4.7180 - val_categorical_accuracy: 0.0215\n",
      "Epoch 5/500\n",
      "100/100 [==============================] - 40s 398ms/step - loss: 4.7338 - categorical_accuracy: 0.0163 - val_loss: 4.7112 - val_categorical_accuracy: 0.0250\n",
      "Epoch 6/500\n",
      "100/100 [==============================] - 40s 401ms/step - loss: 4.6960 - categorical_accuracy: 0.0238 - val_loss: 4.6980 - val_categorical_accuracy: 0.0240\n",
      "Epoch 7/500\n",
      "100/100 [==============================] - 40s 402ms/step - loss: 4.6946 - categorical_accuracy: 0.0203 - val_loss: 4.6548 - val_categorical_accuracy: 0.0250\n",
      "Epoch 8/500\n",
      "100/100 [==============================] - 40s 400ms/step - loss: 4.6799 - categorical_accuracy: 0.0259 - val_loss: 4.6111 - val_categorical_accuracy: 0.0271\n",
      "Epoch 9/500\n",
      "100/100 [==============================] - 40s 402ms/step - loss: 4.6620 - categorical_accuracy: 0.0269 - val_loss: 4.5871 - val_categorical_accuracy: 0.0262\n",
      "Epoch 10/500\n",
      "100/100 [==============================] - 40s 401ms/step - loss: 4.6116 - categorical_accuracy: 0.0341 - val_loss: 4.5570 - val_categorical_accuracy: 0.0328\n",
      "Epoch 11/500\n",
      "100/100 [==============================] - 40s 399ms/step - loss: 4.6018 - categorical_accuracy: 0.0322 - val_loss: 4.5350 - val_categorical_accuracy: 0.0350\n",
      "Epoch 12/500\n",
      "100/100 [==============================] - 40s 403ms/step - loss: 4.5834 - categorical_accuracy: 0.0338 - val_loss: 4.5184 - val_categorical_accuracy: 0.0341\n",
      "Epoch 13/500\n",
      "100/100 [==============================] - 40s 399ms/step - loss: 4.5414 - categorical_accuracy: 0.0347 - val_loss: 4.4770 - val_categorical_accuracy: 0.0431\n",
      "Epoch 14/500\n",
      "100/100 [==============================] - 41s 407ms/step - loss: 4.5260 - categorical_accuracy: 0.0438 - val_loss: 4.4637 - val_categorical_accuracy: 0.0442\n",
      "Epoch 15/500\n",
      "100/100 [==============================] - 40s 396ms/step - loss: 4.4754 - categorical_accuracy: 0.0472 - val_loss: 4.3958 - val_categorical_accuracy: 0.0469\n",
      "Epoch 16/500\n",
      "100/100 [==============================] - 41s 408ms/step - loss: 4.4498 - categorical_accuracy: 0.0481 - val_loss: 4.3567 - val_categorical_accuracy: 0.0580\n",
      "Epoch 17/500\n",
      "100/100 [==============================] - 39s 392ms/step - loss: 4.4537 - categorical_accuracy: 0.0406 - val_loss: 4.3707 - val_categorical_accuracy: 0.0512\n",
      "Epoch 18/500\n",
      "100/100 [==============================] - 41s 406ms/step - loss: 4.4350 - categorical_accuracy: 0.0453 - val_loss: 4.3216 - val_categorical_accuracy: 0.0543\n",
      "Epoch 19/500\n",
      "100/100 [==============================] - 39s 390ms/step - loss: 4.3945 - categorical_accuracy: 0.0534 - val_loss: 4.3058 - val_categorical_accuracy: 0.0631\n",
      "Epoch 20/500\n",
      "100/100 [==============================] - 41s 410ms/step - loss: 4.3566 - categorical_accuracy: 0.0587 - val_loss: 4.2868 - val_categorical_accuracy: 0.0644\n",
      "Epoch 21/500\n",
      "100/100 [==============================] - 40s 401ms/step - loss: 4.3384 - categorical_accuracy: 0.0631 - val_loss: 4.2355 - val_categorical_accuracy: 0.0726\n",
      "Epoch 22/500\n",
      "100/100 [==============================] - 40s 400ms/step - loss: 4.3298 - categorical_accuracy: 0.0638 - val_loss: 4.2585 - val_categorical_accuracy: 0.0638\n",
      "Epoch 23/500\n",
      "100/100 [==============================] - 40s 401ms/step - loss: 4.3147 - categorical_accuracy: 0.0600 - val_loss: 4.1820 - val_categorical_accuracy: 0.0700\n",
      "Epoch 24/500\n",
      "100/100 [==============================] - 40s 401ms/step - loss: 4.2738 - categorical_accuracy: 0.0681 - val_loss: 4.1795 - val_categorical_accuracy: 0.0781\n",
      "Epoch 25/500\n",
      "100/100 [==============================] - 40s 398ms/step - loss: 4.2585 - categorical_accuracy: 0.0681 - val_loss: 4.1690 - val_categorical_accuracy: 0.0688\n",
      "Epoch 26/500\n",
      "100/100 [==============================] - 40s 402ms/step - loss: 4.2452 - categorical_accuracy: 0.0728 - val_loss: 4.1678 - val_categorical_accuracy: 0.0750\n",
      "Epoch 27/500\n",
      "100/100 [==============================] - 40s 401ms/step - loss: 4.2367 - categorical_accuracy: 0.0706 - val_loss: 4.1004 - val_categorical_accuracy: 0.0839\n",
      "Epoch 28/500\n",
      "100/100 [==============================] - 40s 401ms/step - loss: 4.2089 - categorical_accuracy: 0.0778 - val_loss: 4.0978 - val_categorical_accuracy: 0.0813\n",
      "Epoch 29/500\n",
      "100/100 [==============================] - 40s 402ms/step - loss: 4.1859 - categorical_accuracy: 0.0822 - val_loss: 4.1062 - val_categorical_accuracy: 0.0852\n",
      "Epoch 30/500\n",
      "100/100 [==============================] - 40s 397ms/step - loss: 4.1776 - categorical_accuracy: 0.0753 - val_loss: 4.0463 - val_categorical_accuracy: 0.0894\n",
      "Epoch 31/500\n",
      "100/100 [==============================] - 40s 403ms/step - loss: 4.1547 - categorical_accuracy: 0.0816 - val_loss: 4.0102 - val_categorical_accuracy: 0.0972\n",
      "Epoch 32/500\n",
      "100/100 [==============================] - 40s 398ms/step - loss: 4.1482 - categorical_accuracy: 0.0781 - val_loss: 4.0345 - val_categorical_accuracy: 0.0938\n",
      "Epoch 33/500\n",
      "100/100 [==============================] - 41s 407ms/step - loss: 4.0898 - categorical_accuracy: 0.0900 - val_loss: 4.0611 - val_categorical_accuracy: 0.0991\n",
      "Epoch 34/500\n",
      "100/100 [==============================] - 40s 397ms/step - loss: 4.0884 - categorical_accuracy: 0.0894 - val_loss: 3.9798 - val_categorical_accuracy: 0.0994\n",
      "Epoch 35/500\n",
      "100/100 [==============================] - 41s 406ms/step - loss: 4.1249 - categorical_accuracy: 0.0844 - val_loss: 3.9718 - val_categorical_accuracy: 0.1066\n",
      "Epoch 36/500\n",
      "100/100 [==============================] - 39s 394ms/step - loss: 4.0701 - categorical_accuracy: 0.1003 - val_loss: 3.9694 - val_categorical_accuracy: 0.0963\n",
      "Epoch 37/500\n",
      "100/100 [==============================] - 40s 404ms/step - loss: 4.0491 - categorical_accuracy: 0.0916 - val_loss: 3.9089 - val_categorical_accuracy: 0.1085\n",
      "Epoch 38/500\n",
      "100/100 [==============================] - 39s 392ms/step - loss: 4.0285 - categorical_accuracy: 0.1009 - val_loss: 3.9673 - val_categorical_accuracy: 0.1035\n",
      "Epoch 39/500\n",
      "100/100 [==============================] - 40s 399ms/step - loss: 4.0055 - categorical_accuracy: 0.1103 - val_loss: 3.9527 - val_categorical_accuracy: 0.0969\n",
      "Epoch 40/500\n",
      "100/100 [==============================] - 40s 400ms/step - loss: 4.0505 - categorical_accuracy: 0.0925 - val_loss: 3.8820 - val_categorical_accuracy: 0.1129\n",
      "Epoch 41/500\n",
      "100/100 [==============================] - 40s 397ms/step - loss: 4.0290 - categorical_accuracy: 0.1025 - val_loss: 3.8654 - val_categorical_accuracy: 0.1156\n",
      "Epoch 42/500\n",
      "100/100 [==============================] - 40s 400ms/step - loss: 3.9530 - categorical_accuracy: 0.1056 - val_loss: 3.8901 - val_categorical_accuracy: 0.1085\n",
      "Epoch 43/500\n",
      "100/100 [==============================] - 40s 399ms/step - loss: 3.9734 - categorical_accuracy: 0.1053 - val_loss: 3.8788 - val_categorical_accuracy: 0.1194\n",
      "Epoch 44/500\n",
      "100/100 [==============================] - 40s 400ms/step - loss: 3.9532 - categorical_accuracy: 0.1141 - val_loss: 3.8653 - val_categorical_accuracy: 0.1066\n",
      "Epoch 45/500\n",
      "100/100 [==============================] - 40s 402ms/step - loss: 3.9841 - categorical_accuracy: 0.1072 - val_loss: 3.8208 - val_categorical_accuracy: 0.1119\n",
      "Epoch 46/500\n",
      "100/100 [==============================] - 40s 402ms/step - loss: 3.9207 - categorical_accuracy: 0.1137 - val_loss: 3.8257 - val_categorical_accuracy: 0.1180\n",
      "Epoch 47/500\n",
      "100/100 [==============================] - 40s 396ms/step - loss: 3.8945 - categorical_accuracy: 0.1275 - val_loss: 3.7637 - val_categorical_accuracy: 0.1425\n",
      "Epoch 48/500\n",
      "100/100 [==============================] - 40s 404ms/step - loss: 3.9200 - categorical_accuracy: 0.1125 - val_loss: 3.8074 - val_categorical_accuracy: 0.1180\n"
     ]
    },
    {
     "name": "stdout",
     "output_type": "stream",
     "text": [
      "Epoch 49/500\n",
      "100/100 [==============================] - 40s 398ms/step - loss: 3.9203 - categorical_accuracy: 0.1119 - val_loss: 3.7593 - val_categorical_accuracy: 0.1237\n",
      "Epoch 50/500\n",
      "100/100 [==============================] - 40s 403ms/step - loss: 3.8838 - categorical_accuracy: 0.1284 - val_loss: 3.7645 - val_categorical_accuracy: 0.1243\n",
      "Epoch 51/500\n",
      "100/100 [==============================] - 41s 409ms/step - loss: 3.8471 - categorical_accuracy: 0.1238 - val_loss: 3.7959 - val_categorical_accuracy: 0.1269\n",
      "Epoch 52/500\n",
      "100/100 [==============================] - 41s 406ms/step - loss: 3.8806 - categorical_accuracy: 0.1216 - val_loss: 3.7282 - val_categorical_accuracy: 0.1281\n",
      "Epoch 53/500\n",
      "100/100 [==============================] - 40s 397ms/step - loss: 3.8393 - categorical_accuracy: 0.1253 - val_loss: 3.7443 - val_categorical_accuracy: 0.1344\n",
      "Epoch 54/500\n",
      "100/100 [==============================] - 40s 404ms/step - loss: 3.8417 - categorical_accuracy: 0.1316 - val_loss: 3.7399 - val_categorical_accuracy: 0.1319\n",
      "Epoch 55/500\n",
      "100/100 [==============================] - 40s 395ms/step - loss: 3.8416 - categorical_accuracy: 0.1294 - val_loss: 3.6825 - val_categorical_accuracy: 0.1331\n",
      "Epoch 56/500\n",
      "100/100 [==============================] - 41s 406ms/step - loss: 3.7821 - categorical_accuracy: 0.1378 - val_loss: 3.7292 - val_categorical_accuracy: 0.1369\n",
      "Epoch 57/500\n",
      "100/100 [==============================] - 39s 395ms/step - loss: 3.8247 - categorical_accuracy: 0.1275 - val_loss: 3.6953 - val_categorical_accuracy: 0.1344\n",
      "Epoch 58/500\n",
      "100/100 [==============================] - 40s 402ms/step - loss: 3.8436 - categorical_accuracy: 0.1259 - val_loss: 3.6661 - val_categorical_accuracy: 0.1406\n",
      "Epoch 59/500\n",
      "100/100 [==============================] - 40s 397ms/step - loss: 3.7930 - categorical_accuracy: 0.1259 - val_loss: 3.6651 - val_categorical_accuracy: 0.1489\n",
      "Epoch 60/500\n",
      "100/100 [==============================] - 40s 395ms/step - loss: 3.7900 - categorical_accuracy: 0.1325 - val_loss: 3.7133 - val_categorical_accuracy: 0.1300\n",
      "Epoch 61/500\n",
      "100/100 [==============================] - 40s 398ms/step - loss: 3.7481 - categorical_accuracy: 0.1481 - val_loss: 3.6033 - val_categorical_accuracy: 0.1438\n",
      "Epoch 62/500\n",
      "100/100 [==============================] - 40s 400ms/step - loss: 3.7767 - categorical_accuracy: 0.1359 - val_loss: 3.6137 - val_categorical_accuracy: 0.1625\n",
      "Epoch 63/500\n",
      "100/100 [==============================] - 40s 398ms/step - loss: 3.7531 - categorical_accuracy: 0.1419 - val_loss: 3.6428 - val_categorical_accuracy: 0.1457\n",
      "Epoch 64/500\n",
      "100/100 [==============================] - 40s 400ms/step - loss: 3.7502 - categorical_accuracy: 0.1294 - val_loss: 3.6004 - val_categorical_accuracy: 0.1531\n",
      "Epoch 65/500\n",
      "100/100 [==============================] - 40s 399ms/step - loss: 3.7568 - categorical_accuracy: 0.1412 - val_loss: 3.6087 - val_categorical_accuracy: 0.1356\n",
      "Epoch 66/500\n",
      "100/100 [==============================] - 40s 397ms/step - loss: 3.7155 - categorical_accuracy: 0.1353 - val_loss: 3.6325 - val_categorical_accuracy: 0.1412\n",
      "Epoch 67/500\n",
      "100/100 [==============================] - 40s 400ms/step - loss: 3.7179 - categorical_accuracy: 0.1416 - val_loss: 3.5896 - val_categorical_accuracy: 0.1533\n",
      "Epoch 68/500\n",
      "100/100 [==============================] - 40s 399ms/step - loss: 3.7096 - categorical_accuracy: 0.1491 - val_loss: 3.6044 - val_categorical_accuracy: 0.1494\n",
      "Epoch 69/500\n",
      "100/100 [==============================] - 40s 401ms/step - loss: 3.6951 - categorical_accuracy: 0.1581 - val_loss: 3.5518 - val_categorical_accuracy: 0.1546\n",
      "Epoch 70/500\n",
      "100/100 [==============================] - 40s 398ms/step - loss: 3.6674 - categorical_accuracy: 0.1612 - val_loss: 3.5447 - val_categorical_accuracy: 0.1606\n",
      "Epoch 71/500\n",
      "100/100 [==============================] - 40s 400ms/step - loss: 3.6887 - categorical_accuracy: 0.1440 - val_loss: 3.5456 - val_categorical_accuracy: 0.1571\n",
      "Epoch 72/500\n",
      "100/100 [==============================] - 39s 394ms/step - loss: 3.6679 - categorical_accuracy: 0.1456 - val_loss: 3.5546 - val_categorical_accuracy: 0.1569\n",
      "Epoch 73/500\n",
      "100/100 [==============================] - 41s 406ms/step - loss: 3.6673 - categorical_accuracy: 0.1484 - val_loss: 3.6085 - val_categorical_accuracy: 0.1438\n",
      "Epoch 74/500\n",
      "100/100 [==============================] - 39s 394ms/step - loss: 3.6329 - categorical_accuracy: 0.1553 - val_loss: 3.4553 - val_categorical_accuracy: 0.1775\n",
      "Epoch 75/500\n",
      "100/100 [==============================] - 40s 403ms/step - loss: 3.6668 - categorical_accuracy: 0.1572 - val_loss: 3.5106 - val_categorical_accuracy: 0.1640\n",
      "Epoch 76/500\n",
      "100/100 [==============================] - 39s 392ms/step - loss: 3.6356 - categorical_accuracy: 0.1528 - val_loss: 3.4858 - val_categorical_accuracy: 0.1703\n",
      "Epoch 77/500\n",
      "100/100 [==============================] - 40s 401ms/step - loss: 3.6407 - categorical_accuracy: 0.1491 - val_loss: 3.4874 - val_categorical_accuracy: 0.1713\n",
      "Epoch 78/500\n",
      "100/100 [==============================] - 40s 399ms/step - loss: 3.6135 - categorical_accuracy: 0.1713 - val_loss: 3.5047 - val_categorical_accuracy: 0.1596\n",
      "Epoch 79/500\n",
      "100/100 [==============================] - 40s 402ms/step - loss: 3.6132 - categorical_accuracy: 0.1578 - val_loss: 3.4815 - val_categorical_accuracy: 0.1606\n",
      "Epoch 80/500\n",
      "100/100 [==============================] - 40s 402ms/step - loss: 3.6240 - categorical_accuracy: 0.1650 - val_loss: 3.4586 - val_categorical_accuracy: 0.1735\n",
      "Epoch 81/500\n",
      "100/100 [==============================] - 40s 397ms/step - loss: 3.6010 - categorical_accuracy: 0.1777 - val_loss: 3.5205 - val_categorical_accuracy: 0.1581\n",
      "Epoch 82/500\n",
      "100/100 [==============================] - 40s 401ms/step - loss: 3.5847 - categorical_accuracy: 0.1600 - val_loss: 3.4413 - val_categorical_accuracy: 0.1767\n",
      "Epoch 83/500\n",
      "100/100 [==============================] - 40s 402ms/step - loss: 3.5788 - categorical_accuracy: 0.1691 - val_loss: 3.4962 - val_categorical_accuracy: 0.1787\n",
      "Epoch 84/500\n",
      "100/100 [==============================] - 40s 402ms/step - loss: 3.5532 - categorical_accuracy: 0.1706 - val_loss: 3.5200 - val_categorical_accuracy: 0.1502\n",
      "Epoch 85/500\n",
      "100/100 [==============================] - 40s 396ms/step - loss: 3.5954 - categorical_accuracy: 0.1606 - val_loss: 3.4449 - val_categorical_accuracy: 0.1787\n",
      "Epoch 86/500\n",
      "100/100 [==============================] - 40s 400ms/step - loss: 3.5627 - categorical_accuracy: 0.1606 - val_loss: 3.4307 - val_categorical_accuracy: 0.1703\n",
      "Epoch 87/500\n",
      "100/100 [==============================] - 40s 400ms/step - loss: 3.5309 - categorical_accuracy: 0.1762 - val_loss: 3.4315 - val_categorical_accuracy: 0.1787\n",
      "Epoch 88/500\n",
      "100/100 [==============================] - 40s 403ms/step - loss: 3.5202 - categorical_accuracy: 0.1687 - val_loss: 3.4555 - val_categorical_accuracy: 0.1905\n",
      "Epoch 89/500\n",
      "100/100 [==============================] - 39s 394ms/step - loss: 3.5074 - categorical_accuracy: 0.1856 - val_loss: 3.4279 - val_categorical_accuracy: 0.1844\n",
      "Epoch 90/500\n",
      "100/100 [==============================] - 41s 405ms/step - loss: 3.5576 - categorical_accuracy: 0.1725 - val_loss: 3.4219 - val_categorical_accuracy: 0.1729\n",
      "Epoch 91/500\n",
      "100/100 [==============================] - 40s 395ms/step - loss: 3.5530 - categorical_accuracy: 0.1722 - val_loss: 3.4131 - val_categorical_accuracy: 0.1787\n",
      "Epoch 92/500\n",
      "100/100 [==============================] - 40s 403ms/step - loss: 3.5252 - categorical_accuracy: 0.1716 - val_loss: 3.3641 - val_categorical_accuracy: 0.1836\n",
      "Epoch 93/500\n",
      "100/100 [==============================] - 40s 396ms/step - loss: 3.5505 - categorical_accuracy: 0.1653 - val_loss: 3.4417 - val_categorical_accuracy: 0.1850\n",
      "Epoch 94/500\n",
      "100/100 [==============================] - 41s 410ms/step - loss: 3.5025 - categorical_accuracy: 0.1663 - val_loss: 3.3808 - val_categorical_accuracy: 0.1868\n",
      "Epoch 95/500\n",
      "100/100 [==============================] - 39s 392ms/step - loss: 3.4584 - categorical_accuracy: 0.1784 - val_loss: 3.4072 - val_categorical_accuracy: 0.1710\n",
      "Epoch 96/500\n",
      "100/100 [==============================] - 40s 402ms/step - loss: 3.5017 - categorical_accuracy: 0.1791 - val_loss: 3.3854 - val_categorical_accuracy: 0.1906\n"
     ]
    },
    {
     "name": "stdout",
     "output_type": "stream",
     "text": [
      "Epoch 97/500\n",
      "100/100 [==============================] - 40s 396ms/step - loss: 3.4814 - categorical_accuracy: 0.1809 - val_loss: 3.3966 - val_categorical_accuracy: 0.1811\n",
      "Epoch 98/500\n",
      "100/100 [==============================] - 40s 400ms/step - loss: 3.4829 - categorical_accuracy: 0.1772 - val_loss: 3.3921 - val_categorical_accuracy: 0.1850\n",
      "Epoch 99/500\n",
      "100/100 [==============================] - 40s 400ms/step - loss: 3.4504 - categorical_accuracy: 0.1778 - val_loss: 3.3647 - val_categorical_accuracy: 0.2050\n",
      "Epoch 100/500\n",
      "100/100 [==============================] - 40s 400ms/step - loss: 3.4974 - categorical_accuracy: 0.1638 - val_loss: 3.3789 - val_categorical_accuracy: 0.1981\n",
      "Epoch 101/500\n",
      "100/100 [==============================] - 40s 398ms/step - loss: 3.4737 - categorical_accuracy: 0.1806 - val_loss: 3.3662 - val_categorical_accuracy: 0.1823\n",
      "Epoch 102/500\n",
      "100/100 [==============================] - 39s 395ms/step - loss: 3.4674 - categorical_accuracy: 0.1791 - val_loss: 3.3538 - val_categorical_accuracy: 0.1825\n",
      "Epoch 103/500\n",
      "100/100 [==============================] - 40s 399ms/step - loss: 3.4271 - categorical_accuracy: 0.1934 - val_loss: 3.3751 - val_categorical_accuracy: 0.1950\n",
      "Epoch 104/500\n",
      "100/100 [==============================] - 40s 398ms/step - loss: 3.4649 - categorical_accuracy: 0.1797 - val_loss: 3.3634 - val_categorical_accuracy: 0.1856\n",
      "Epoch 105/500\n",
      "100/100 [==============================] - 40s 403ms/step - loss: 3.4670 - categorical_accuracy: 0.1819 - val_loss: 3.3216 - val_categorical_accuracy: 0.2000\n",
      "Epoch 106/500\n",
      "100/100 [==============================] - 40s 400ms/step - loss: 3.4212 - categorical_accuracy: 0.1906 - val_loss: 3.3871 - val_categorical_accuracy: 0.1862\n",
      "Epoch 107/500\n",
      "100/100 [==============================] - 40s 400ms/step - loss: 3.4650 - categorical_accuracy: 0.1850 - val_loss: 3.2986 - val_categorical_accuracy: 0.1918\n",
      "Epoch 108/500\n",
      "100/100 [==============================] - 40s 396ms/step - loss: 3.4073 - categorical_accuracy: 0.1881 - val_loss: 3.3183 - val_categorical_accuracy: 0.1894\n",
      "Epoch 109/500\n",
      "100/100 [==============================] - 40s 404ms/step - loss: 3.4514 - categorical_accuracy: 0.1888 - val_loss: 3.3331 - val_categorical_accuracy: 0.2019\n",
      "Epoch 110/500\n",
      "100/100 [==============================] - 40s 396ms/step - loss: 3.4211 - categorical_accuracy: 0.1959 - val_loss: 3.2687 - val_categorical_accuracy: 0.2137\n",
      "Epoch 111/500\n",
      "100/100 [==============================] - 41s 410ms/step - loss: 3.4014 - categorical_accuracy: 0.1962 - val_loss: 3.3170 - val_categorical_accuracy: 0.1994\n",
      "Epoch 112/500\n",
      "100/100 [==============================] - 40s 396ms/step - loss: 3.3974 - categorical_accuracy: 0.1909 - val_loss: 3.2786 - val_categorical_accuracy: 0.2019\n",
      "Epoch 113/500\n",
      "100/100 [==============================] - 41s 408ms/step - loss: 3.4156 - categorical_accuracy: 0.1947 - val_loss: 3.2311 - val_categorical_accuracy: 0.2044\n",
      "Epoch 114/500\n",
      "100/100 [==============================] - 39s 392ms/step - loss: 3.3892 - categorical_accuracy: 0.1935 - val_loss: 3.3098 - val_categorical_accuracy: 0.2000\n",
      "Epoch 115/500\n",
      "100/100 [==============================] - 40s 402ms/step - loss: 3.3746 - categorical_accuracy: 0.1959 - val_loss: 3.2788 - val_categorical_accuracy: 0.2062\n",
      "Epoch 116/500\n",
      "100/100 [==============================] - 40s 397ms/step - loss: 3.3849 - categorical_accuracy: 0.1909 - val_loss: 3.2910 - val_categorical_accuracy: 0.2000\n",
      "Epoch 117/500\n",
      "100/100 [==============================] - 40s 399ms/step - loss: 3.4091 - categorical_accuracy: 0.1994 - val_loss: 3.3003 - val_categorical_accuracy: 0.2037\n",
      "Epoch 118/500\n",
      "100/100 [==============================] - 40s 401ms/step - loss: 3.3902 - categorical_accuracy: 0.1928 - val_loss: 3.2762 - val_categorical_accuracy: 0.1975\n",
      "Epoch 119/500\n",
      "100/100 [==============================] - 40s 397ms/step - loss: 3.3519 - categorical_accuracy: 0.2069 - val_loss: 3.2506 - val_categorical_accuracy: 0.2044\n",
      "Epoch 120/500\n",
      "100/100 [==============================] - 40s 401ms/step - loss: 3.3683 - categorical_accuracy: 0.1978 - val_loss: 3.2797 - val_categorical_accuracy: 0.2019\n",
      "Epoch 121/500\n",
      "100/100 [==============================] - 40s 400ms/step - loss: 3.3617 - categorical_accuracy: 0.1913 - val_loss: 3.2406 - val_categorical_accuracy: 0.1988\n",
      "Epoch 122/500\n",
      "100/100 [==============================] - 40s 400ms/step - loss: 3.3932 - categorical_accuracy: 0.1913 - val_loss: 3.2177 - val_categorical_accuracy: 0.2303\n",
      "Epoch 123/500\n",
      "100/100 [==============================] - 40s 403ms/step - loss: 3.3610 - categorical_accuracy: 0.2013 - val_loss: 3.2679 - val_categorical_accuracy: 0.1963\n",
      "Epoch 124/500\n",
      "100/100 [==============================] - 40s 399ms/step - loss: 3.3330 - categorical_accuracy: 0.2028 - val_loss: 3.3172 - val_categorical_accuracy: 0.2025\n",
      "Epoch 125/500\n",
      "100/100 [==============================] - 40s 400ms/step - loss: 3.3667 - categorical_accuracy: 0.1991 - val_loss: 3.2262 - val_categorical_accuracy: 0.1981\n",
      "Epoch 126/500\n",
      "100/100 [==============================] - 40s 405ms/step - loss: 3.3190 - categorical_accuracy: 0.2009 - val_loss: 3.2158 - val_categorical_accuracy: 0.2240\n",
      "Epoch 127/500\n",
      "100/100 [==============================] - 40s 399ms/step - loss: 3.3565 - categorical_accuracy: 0.1953 - val_loss: 3.2209 - val_categorical_accuracy: 0.2081\n",
      "Epoch 128/500\n",
      "100/100 [==============================] - 40s 404ms/step - loss: 3.3089 - categorical_accuracy: 0.2106 - val_loss: 3.2890 - val_categorical_accuracy: 0.2107\n",
      "Epoch 129/500\n",
      "100/100 [==============================] - 40s 395ms/step - loss: 3.3215 - categorical_accuracy: 0.2056 - val_loss: 3.2268 - val_categorical_accuracy: 0.1981\n",
      "Epoch 130/500\n",
      "100/100 [==============================] - 41s 406ms/step - loss: 3.3503 - categorical_accuracy: 0.1925 - val_loss: 3.1759 - val_categorical_accuracy: 0.2126\n",
      "Epoch 131/500\n",
      "100/100 [==============================] - 39s 395ms/step - loss: 3.3173 - categorical_accuracy: 0.2056 - val_loss: 3.2189 - val_categorical_accuracy: 0.2200\n",
      "Epoch 132/500\n",
      "100/100 [==============================] - 40s 405ms/step - loss: 3.3258 - categorical_accuracy: 0.2047 - val_loss: 3.2653 - val_categorical_accuracy: 0.2013\n",
      "Epoch 133/500\n",
      "100/100 [==============================] - 39s 395ms/step - loss: 3.3239 - categorical_accuracy: 0.2047 - val_loss: 3.2204 - val_categorical_accuracy: 0.2252\n",
      "Epoch 134/500\n",
      "100/100 [==============================] - 40s 401ms/step - loss: 3.2767 - categorical_accuracy: 0.2009 - val_loss: 3.1966 - val_categorical_accuracy: 0.2150\n",
      "Epoch 135/500\n",
      "100/100 [==============================] - 39s 395ms/step - loss: 3.2576 - categorical_accuracy: 0.2184 - val_loss: 3.1786 - val_categorical_accuracy: 0.2151\n",
      "Epoch 136/500\n",
      "100/100 [==============================] - 40s 403ms/step - loss: 3.3263 - categorical_accuracy: 0.2084 - val_loss: 3.2506 - val_categorical_accuracy: 0.2213\n",
      "Epoch 137/500\n",
      "100/100 [==============================] - 40s 402ms/step - loss: 3.2739 - categorical_accuracy: 0.2059 - val_loss: 3.1704 - val_categorical_accuracy: 0.2183\n",
      "Epoch 138/500\n",
      "100/100 [==============================] - 40s 399ms/step - loss: 3.2560 - categorical_accuracy: 0.2197 - val_loss: 3.1638 - val_categorical_accuracy: 0.2213\n",
      "Epoch 139/500\n",
      "100/100 [==============================] - 40s 395ms/step - loss: 3.3307 - categorical_accuracy: 0.1978 - val_loss: 3.2094 - val_categorical_accuracy: 0.2208\n",
      "Epoch 140/500\n",
      "100/100 [==============================] - 40s 399ms/step - loss: 3.2921 - categorical_accuracy: 0.2109 - val_loss: 3.1605 - val_categorical_accuracy: 0.2206\n",
      "Epoch 141/500\n",
      "100/100 [==============================] - 40s 403ms/step - loss: 3.3086 - categorical_accuracy: 0.2112 - val_loss: 3.2689 - val_categorical_accuracy: 0.2044\n",
      "Epoch 142/500\n",
      "100/100 [==============================] - 41s 413ms/step - loss: 3.2974 - categorical_accuracy: 0.2037 - val_loss: 3.1838 - val_categorical_accuracy: 0.2200\n"
     ]
    }
   ],
   "source": [
    "history = parallel_model.fit_generator(train_generator,\n",
    "                                       steps_per_epoch=100,\n",
    "                                       epochs=500,\n",
    "                                       validation_data=valid_generator,\n",
    "                                       validation_steps=50,\n",
    "                                       callbacks=callbacks)"
   ]
  },
  {
   "cell_type": "code",
   "execution_count": 43,
   "metadata": {},
   "outputs": [],
   "source": [
    "import pickle\n",
    "\n",
    "# open a file, where you ant to store the data\n",
    "file = open('./models/history_{}.pkl'.format(MODELO), 'wb')\n",
    "\n",
    "# dump information to that file\n",
    "pickle.dump(history.history, file)\n",
    "\n",
    "# close the file\n",
    "file.close()"
   ]
  },
  {
   "cell_type": "markdown",
   "metadata": {},
   "source": [
    "# Graficos"
   ]
  },
  {
   "cell_type": "code",
   "execution_count": 44,
   "metadata": {},
   "outputs": [
    {
     "data": {
      "image/png": "[encoded data removed]",
      "text/plain": [
       "<Figure size 432x288 with 1 Axes>"
      ]
     },
     "metadata": {
      "needs_background": "light"
     },
     "output_type": "display_data"
    },
    {
     "data": {
      "image/png": "[encoded data removed]",
      "text/plain": [
       "<Figure size 432x288 with 1 Axes>"
      ]
     },
     "metadata": {
      "needs_background": "light"
     },
     "output_type": "display_data"
    }
   ],
   "source": [
    "import matplotlib.pyplot as plt\n",
    "%matplotlib inline\n",
    "\n",
    "acc = history.history['categorical_accuracy']\n",
    "val_acc = history.history['val_categorical_accuracy']\n",
    "loss = history.history['loss']\n",
    "val_loss = history.history['val_loss']\n",
    "\n",
    "epochs = range(len(acc))\n",
    "\n",
    "plt.plot(epochs, acc, 'bo', label='Train')\n",
    "plt.plot(epochs, val_acc, 'b', label='Validation')\n",
    "plt.title('Accuracy: Train, Validation')\n",
    "plt.legend()\n",
    "\n",
    "plt.figure()\n",
    "\n",
    "plt.plot(epochs, loss, 'bo', label='Train')\n",
    "plt.plot(epochs, val_loss, 'b', label='Validation')\n",
    "plt.title('Loss: Train, Validation')\n",
    "plt.legend()\n",
    "\n",
    "plt.show()"
   ]
  },
  {
   "cell_type": "code",
   "execution_count": 45,
   "metadata": {},
   "outputs": [],
   "source": [
    "parallel_model.save('./models/model_{}_RAdam.h5'.format(MODELO))"
   ]
  },
  {
   "cell_type": "markdown",
   "metadata": {},
   "source": [
    "# Predict"
   ]
  },
  {
   "cell_type": "code",
   "execution_count": 46,
   "metadata": {},
   "outputs": [
    {
     "name": "stdout",
     "output_type": "stream",
     "text": [
      "Found 3025 images belonging to 120 classes.\n"
     ]
    }
   ],
   "source": [
    "test_datagen = ImageDataGenerator(rescale=1./255)\n",
    "\n",
    "test_generator = test_datagen.flow_from_directory(\n",
    "        test_dir,\n",
    "        target_size=(224, 224),\n",
    "        batch_size=32,\n",
    "        class_mode=None,\n",
    "        shuffle=False)"
   ]
  },
  {
   "cell_type": "code",
   "execution_count": 47,
   "metadata": {},
   "outputs": [],
   "source": [
    "probabilities = parallel_model.predict_generator(test_generator)"
   ]
  },
  {
   "cell_type": "code",
   "execution_count": 48,
   "metadata": {},
   "outputs": [],
   "source": [
    "# Get Max Index\n",
    "predicted_class_index=np.argmax(probabilities,axis=1)\n",
    "\n",
    "# Dictionary: Index to Class\n",
    "class_labels = list(test_generator.class_indices.keys())\n",
    "index_to_labels = dict((v,k) for k,v in test_generator.class_indices.items())\n",
    "\n",
    "# Get List of Predictions\n",
    "predictions = [index_to_labels[ix] for ix in predicted_class_index]\n",
    "\n",
    "# Get Dictionary of Predictions\n",
    "results=pd.DataFrame({\"Filename\":test_generator.filenames,\n",
    "                      \"Predictions\":predictions})"
   ]
  },
  {
   "cell_type": "code",
   "execution_count": 49,
   "metadata": {},
   "outputs": [
    {
     "data": {
      "text/html": [
       "<div>\n",
       "<style scoped>\n",
       "    .dataframe tbody tr th:only-of-type {\n",
       "        vertical-align: middle;\n",
       "    }\n",
       "\n",
       "    .dataframe tbody tr th {\n",
       "        vertical-align: top;\n",
       "    }\n",
       "\n",
       "    .dataframe thead th {\n",
       "        text-align: right;\n",
       "    }\n",
       "</style>\n",
       "<table border=\"1\" class=\"dataframe\">\n",
       "  <thead>\n",
       "    <tr style=\"text-align: right;\">\n",
       "      <th></th>\n",
       "      <th>Filename</th>\n",
       "      <th>Predictions</th>\n",
       "    </tr>\n",
       "  </thead>\n",
       "  <tbody>\n",
       "    <tr>\n",
       "      <th>0</th>\n",
       "      <td>n02085620-Chihuahua\\n02085620_10074.jpg</td>\n",
       "      <td>n02085620-Chihuahua</td>\n",
       "    </tr>\n",
       "    <tr>\n",
       "      <th>1</th>\n",
       "      <td>n02085620-Chihuahua\\n02085620_10131.jpg</td>\n",
       "      <td>n02087046-toy_terrier</td>\n",
       "    </tr>\n",
       "    <tr>\n",
       "      <th>2</th>\n",
       "      <td>n02085620-Chihuahua\\n02085620_10621.jpg</td>\n",
       "      <td>n02105162-malinois</td>\n",
       "    </tr>\n",
       "    <tr>\n",
       "      <th>3</th>\n",
       "      <td>n02085620-Chihuahua\\n02085620_1073.jpg</td>\n",
       "      <td>n02091244-Ibizan_hound</td>\n",
       "    </tr>\n",
       "    <tr>\n",
       "      <th>4</th>\n",
       "      <td>n02085620-Chihuahua\\n02085620_10976.jpg</td>\n",
       "      <td>n02113023-Pembroke</td>\n",
       "    </tr>\n",
       "  </tbody>\n",
       "</table>\n",
       "</div>"
      ],
      "text/plain": [
       "                                  Filename             Predictions\n",
       "0  n02085620-Chihuahua\\n02085620_10074.jpg     n02085620-Chihuahua\n",
       "1  n02085620-Chihuahua\\n02085620_10131.jpg   n02087046-toy_terrier\n",
       "2  n02085620-Chihuahua\\n02085620_10621.jpg      n02105162-malinois\n",
       "3   n02085620-Chihuahua\\n02085620_1073.jpg  n02091244-Ibizan_hound\n",
       "4  n02085620-Chihuahua\\n02085620_10976.jpg      n02113023-Pembroke"
      ]
     },
     "execution_count": 49,
     "metadata": {},
     "output_type": "execute_result"
    }
   ],
   "source": [
    "results.head()"
   ]
  },
  {
   "cell_type": "code",
   "execution_count": 50,
   "metadata": {},
   "outputs": [],
   "source": [
    "results.to_csv(\"./models/results_details_{}.csv\".format(MODELO), sep=\"|\", index=False)"
   ]
  },
  {
   "cell_type": "code",
   "execution_count": 51,
   "metadata": {},
   "outputs": [],
   "source": [
    "from sklearn.metrics import confusion_matrix\n",
    "cm = confusion_matrix(test_generator.labels, predicted_class_index)"
   ]
  },
  {
   "cell_type": "code",
   "execution_count": 52,
   "metadata": {},
   "outputs": [
    {
     "name": "stdout",
     "output_type": "stream",
     "text": [
      "General Accuracy:0.21\n"
     ]
    }
   ],
   "source": [
    "results_dict = {}\n",
    "tp_sum, fp_sum = 0, 0\n",
    "\n",
    "for ix, row in enumerate(cm):\n",
    "    \n",
    "    tp = row[ix]\n",
    "    fp = np.sum(row) - tp   \n",
    "    results_dict[ix] = [class_labels[ix],tp,fp,(tp/(tp+fp)*100)]\n",
    "\n",
    "    tp_sum += tp\n",
    "    fp_sum += fp\n",
    "    \n",
    "df_res = pd.DataFrame.from_dict(results_dict, orient=\"index\", columns=[\"Class\",\"True Positive\",\"False Positive\",\"Accuracy\"])\n",
    "\n",
    "print(\"General Accuracy:{:0.2f}\".format(tp_sum/(tp_sum+fp_sum)))"
   ]
  },
  {
   "cell_type": "code",
   "execution_count": 53,
   "metadata": {},
   "outputs": [
    {
     "data": {
      "text/html": [
       "<div>\n",
       "<style scoped>\n",
       "    .dataframe tbody tr th:only-of-type {\n",
       "        vertical-align: middle;\n",
       "    }\n",
       "\n",
       "    .dataframe tbody tr th {\n",
       "        vertical-align: top;\n",
       "    }\n",
       "\n",
       "    .dataframe thead th {\n",
       "        text-align: right;\n",
       "    }\n",
       "</style>\n",
       "<table border=\"1\" class=\"dataframe\">\n",
       "  <thead>\n",
       "    <tr style=\"text-align: right;\">\n",
       "      <th></th>\n",
       "      <th>Class</th>\n",
       "      <th>True Positive</th>\n",
       "      <th>False Positive</th>\n",
       "      <th>Accuracy</th>\n",
       "    </tr>\n",
       "  </thead>\n",
       "  <tbody>\n",
       "    <tr>\n",
       "      <th>0</th>\n",
       "      <td>n02085620-Chihuahua</td>\n",
       "      <td>2</td>\n",
       "      <td>20</td>\n",
       "      <td>9.090909</td>\n",
       "    </tr>\n",
       "    <tr>\n",
       "      <th>1</th>\n",
       "      <td>n02085782-Japanese_spaniel</td>\n",
       "      <td>14</td>\n",
       "      <td>13</td>\n",
       "      <td>51.851852</td>\n",
       "    </tr>\n",
       "    <tr>\n",
       "      <th>2</th>\n",
       "      <td>n02085936-Maltese_dog</td>\n",
       "      <td>17</td>\n",
       "      <td>20</td>\n",
       "      <td>45.945946</td>\n",
       "    </tr>\n",
       "    <tr>\n",
       "      <th>3</th>\n",
       "      <td>n02086079-Pekinese</td>\n",
       "      <td>2</td>\n",
       "      <td>20</td>\n",
       "      <td>9.090909</td>\n",
       "    </tr>\n",
       "    <tr>\n",
       "      <th>4</th>\n",
       "      <td>n02086240-Shih-Tzu</td>\n",
       "      <td>4</td>\n",
       "      <td>28</td>\n",
       "      <td>12.500000</td>\n",
       "    </tr>\n",
       "  </tbody>\n",
       "</table>\n",
       "</div>"
      ],
      "text/plain": [
       "                        Class  True Positive  False Positive   Accuracy\n",
       "0         n02085620-Chihuahua              2              20   9.090909\n",
       "1  n02085782-Japanese_spaniel             14              13  51.851852\n",
       "2       n02085936-Maltese_dog             17              20  45.945946\n",
       "3          n02086079-Pekinese              2              20   9.090909\n",
       "4          n02086240-Shih-Tzu              4              28  12.500000"
      ]
     },
     "execution_count": 53,
     "metadata": {},
     "output_type": "execute_result"
    }
   ],
   "source": [
    "df_res.head()"
   ]
  },
  {
   "cell_type": "code",
   "execution_count": 54,
   "metadata": {},
   "outputs": [],
   "source": [
    "df_res.to_csv(\"./models/results_{}.csv\".format(MODELO), sep=\"|\", index=False)"
   ]
  },
  {
   "cell_type": "code",
   "execution_count": null,
   "metadata": {},
   "outputs": [],
   "source": []
  }
 ],
 "metadata": {
  "kernelspec": {
   "display_name": "Python 3",
   "language": "python",
   "name": "python3"
  },
  "language_info": {
   "codemirror_mode": {
    "name": "ipython",
    "version": 3
   },
   "file_extension": ".py",
   "mimetype": "text/x-python",
   "name": "python",
   "nbconvert_exporter": "python",
   "pygments_lexer": "ipython3",
   "version": "3.7.3"
  }
 },
 "nbformat": 4,
 "nbformat_minor": 2
}
