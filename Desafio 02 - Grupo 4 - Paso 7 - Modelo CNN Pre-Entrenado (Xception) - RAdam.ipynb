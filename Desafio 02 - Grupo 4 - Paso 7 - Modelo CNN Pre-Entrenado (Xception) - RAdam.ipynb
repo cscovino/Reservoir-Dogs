{
 "cells": [
  {
   "cell_type": "code",
   "execution_count": 1,
   "metadata": {},
   "outputs": [],
   "source": [
    "MODELO = \"Xception\""
   ]
  },
  {
   "cell_type": "code",
   "execution_count": 2,
   "metadata": {},
   "outputs": [
    {
     "name": "stderr",
     "output_type": "stream",
     "text": [
      "Using TensorFlow backend.\n"
     ]
    }
   ],
   "source": [
    "import os\n",
    "import keras\n",
    "keras.__version__\n",
    "import numpy as np\n",
    "import pandas as pd\n",
    "import tensorflow as tf\n",
    "\n",
    "from keras import optimizers\n",
    "from keras.utils import multi_gpu_model\n",
    "from tensorflow.python.client import device_lib"
   ]
  },
  {
   "cell_type": "code",
   "execution_count": 3,
   "metadata": {},
   "outputs": [],
   "source": [
    "os.environ['CUDA_VISIBLE_DEVICES'] = \"0,1,2,3\"\n",
    "multi_gpu = len(\"0,1,2,3\".split(','))"
   ]
  },
  {
   "cell_type": "code",
   "execution_count": 4,
   "metadata": {},
   "outputs": [],
   "source": [
    "def get_session():\n",
    "    config = tf.ConfigProto(device_count = {'CPU' :24, 'GPU':4})\n",
    "    config.gpu_options.allow_growth = True\n",
    "    return tf.Session(config=config)"
   ]
  },
  {
   "cell_type": "code",
   "execution_count": 5,
   "metadata": {},
   "outputs": [],
   "source": [
    "keras.backend.tensorflow_backend.set_session(get_session())"
   ]
  },
  {
   "cell_type": "markdown",
   "metadata": {},
   "source": [
    "# Directorios"
   ]
  },
  {
   "cell_type": "code",
   "execution_count": 6,
   "metadata": {},
   "outputs": [],
   "source": [
    "# El directorio de trabajo\n",
    "processDir = './process'\n",
    "\n",
    "# Directorio para entrenamiento, validacion y test\n",
    "train_dir = os.path.join(processDir, 'train')\n",
    "validation_dir = os.path.join(processDir, 'validation')\n",
    "test_dir = os.path.join(processDir, 'test')\n"
   ]
  },
  {
   "cell_type": "markdown",
   "metadata": {},
   "source": [
    "# Generador de datos"
   ]
  },
  {
   "cell_type": "code",
   "execution_count": 9,
   "metadata": {},
   "outputs": [
    {
     "name": "stdout",
     "output_type": "stream",
     "text": [
      "Found 14530 images belonging to 120 classes.\n",
      "Found 3025 images belonging to 120 classes.\n"
     ]
    }
   ],
   "source": [
    "from keras.preprocessing.image import ImageDataGenerator\n",
    "\n",
    "train_datagen = ImageDataGenerator(\n",
    "    rescale=1./255,\n",
    "    rotation_range=40,\n",
    "    width_shift_range=0.2,\n",
    "    height_shift_range=0.2,\n",
    "    shear_range=0.2,\n",
    "    zoom_range=0.2,\n",
    "    horizontal_flip=True,)\n",
    "\n",
    "valid_datagen = ImageDataGenerator(rescale=1./255)\n",
    "\n",
    "train_generator = train_datagen.flow_from_directory(\n",
    "        train_dir,\n",
    "        target_size=(299, 299),\n",
    "        batch_size=32,\n",
    "        class_mode='categorical')\n",
    "\n",
    "valid_generator = valid_datagen.flow_from_directory(\n",
    "        validation_dir,\n",
    "        target_size=(299, 299),\n",
    "        batch_size=32,\n",
    "        class_mode='categorical')"
   ]
  },
  {
   "cell_type": "markdown",
   "metadata": {},
   "source": [
    "# Modelo NASNetLarge"
   ]
  },
  {
   "cell_type": "code",
   "execution_count": 10,
   "metadata": {},
   "outputs": [
    {
     "name": "stdout",
     "output_type": "stream",
     "text": [
      "WARNING:tensorflow:From C:\\ProgramData\\Anaconda3\\envs\\tensorflow_gpu\\lib\\site-packages\\tensorflow\\python\\framework\\op_def_library.py:263: colocate_with (from tensorflow.python.framework.ops) is deprecated and will be removed in a future version.\n",
      "Instructions for updating:\n",
      "Colocations handled automatically by placer.\n"
     ]
    }
   ],
   "source": [
    "from keras.applications.xception import Xception\n",
    "\n",
    "if multi_gpu > 1:  \n",
    "    with tf.device('/cpu:0'):\n",
    "        conv_base = Xception(weights='imagenet',\n",
    "                             include_top=False,\n",
    "                             input_shape=(299, 299, 3))"
   ]
  },
  {
   "cell_type": "code",
   "execution_count": 11,
   "metadata": {},
   "outputs": [
    {
     "name": "stdout",
     "output_type": "stream",
     "text": [
      "Model: \"xception\"\n",
      "__________________________________________________________________________________________________\n",
      "Layer (type)                    Output Shape         Param #     Connected to                     \n",
      "==================================================================================================\n",
      "input_1 (InputLayer)            (None, 299, 299, 3)  0                                            \n",
      "__________________________________________________________________________________________________\n",
      "block1_conv1 (Conv2D)           (None, 149, 149, 32) 864         input_1[0][0]                    \n",
      "__________________________________________________________________________________________________\n",
      "block1_conv1_bn (BatchNormaliza (None, 149, 149, 32) 128         block1_conv1[0][0]               \n",
      "__________________________________________________________________________________________________\n",
      "block1_conv1_act (Activation)   (None, 149, 149, 32) 0           block1_conv1_bn[0][0]            \n",
      "__________________________________________________________________________________________________\n",
      "block1_conv2 (Conv2D)           (None, 147, 147, 64) 18432       block1_conv1_act[0][0]           \n",
      "__________________________________________________________________________________________________\n",
      "block1_conv2_bn (BatchNormaliza (None, 147, 147, 64) 256         block1_conv2[0][0]               \n",
      "__________________________________________________________________________________________________\n",
      "block1_conv2_act (Activation)   (None, 147, 147, 64) 0           block1_conv2_bn[0][0]            \n",
      "__________________________________________________________________________________________________\n",
      "block2_sepconv1 (SeparableConv2 (None, 147, 147, 128 8768        block1_conv2_act[0][0]           \n",
      "__________________________________________________________________________________________________\n",
      "block2_sepconv1_bn (BatchNormal (None, 147, 147, 128 512         block2_sepconv1[0][0]            \n",
      "__________________________________________________________________________________________________\n",
      "block2_sepconv2_act (Activation (None, 147, 147, 128 0           block2_sepconv1_bn[0][0]         \n",
      "__________________________________________________________________________________________________\n",
      "block2_sepconv2 (SeparableConv2 (None, 147, 147, 128 17536       block2_sepconv2_act[0][0]        \n",
      "__________________________________________________________________________________________________\n",
      "block2_sepconv2_bn (BatchNormal (None, 147, 147, 128 512         block2_sepconv2[0][0]            \n",
      "__________________________________________________________________________________________________\n",
      "conv2d_1 (Conv2D)               (None, 74, 74, 128)  8192        block1_conv2_act[0][0]           \n",
      "__________________________________________________________________________________________________\n",
      "block2_pool (MaxPooling2D)      (None, 74, 74, 128)  0           block2_sepconv2_bn[0][0]         \n",
      "__________________________________________________________________________________________________\n",
      "batch_normalization_1 (BatchNor (None, 74, 74, 128)  512         conv2d_1[0][0]                   \n",
      "__________________________________________________________________________________________________\n",
      "add_1 (Add)                     (None, 74, 74, 128)  0           block2_pool[0][0]                \n",
      "                                                                 batch_normalization_1[0][0]      \n",
      "__________________________________________________________________________________________________\n",
      "block3_sepconv1_act (Activation (None, 74, 74, 128)  0           add_1[0][0]                      \n",
      "__________________________________________________________________________________________________\n",
      "block3_sepconv1 (SeparableConv2 (None, 74, 74, 256)  33920       block3_sepconv1_act[0][0]        \n",
      "__________________________________________________________________________________________________\n",
      "block3_sepconv1_bn (BatchNormal (None, 74, 74, 256)  1024        block3_sepconv1[0][0]            \n",
      "__________________________________________________________________________________________________\n",
      "block3_sepconv2_act (Activation (None, 74, 74, 256)  0           block3_sepconv1_bn[0][0]         \n",
      "__________________________________________________________________________________________________\n",
      "block3_sepconv2 (SeparableConv2 (None, 74, 74, 256)  67840       block3_sepconv2_act[0][0]        \n",
      "__________________________________________________________________________________________________\n",
      "block3_sepconv2_bn (BatchNormal (None, 74, 74, 256)  1024        block3_sepconv2[0][0]            \n",
      "__________________________________________________________________________________________________\n",
      "conv2d_2 (Conv2D)               (None, 37, 37, 256)  32768       add_1[0][0]                      \n",
      "__________________________________________________________________________________________________\n",
      "block3_pool (MaxPooling2D)      (None, 37, 37, 256)  0           block3_sepconv2_bn[0][0]         \n",
      "__________________________________________________________________________________________________\n",
      "batch_normalization_2 (BatchNor (None, 37, 37, 256)  1024        conv2d_2[0][0]                   \n",
      "__________________________________________________________________________________________________\n",
      "add_2 (Add)                     (None, 37, 37, 256)  0           block3_pool[0][0]                \n",
      "                                                                 batch_normalization_2[0][0]      \n",
      "__________________________________________________________________________________________________\n",
      "block4_sepconv1_act (Activation (None, 37, 37, 256)  0           add_2[0][0]                      \n",
      "__________________________________________________________________________________________________\n",
      "block4_sepconv1 (SeparableConv2 (None, 37, 37, 728)  188672      block4_sepconv1_act[0][0]        \n",
      "__________________________________________________________________________________________________\n",
      "block4_sepconv1_bn (BatchNormal (None, 37, 37, 728)  2912        block4_sepconv1[0][0]            \n",
      "__________________________________________________________________________________________________\n",
      "block4_sepconv2_act (Activation (None, 37, 37, 728)  0           block4_sepconv1_bn[0][0]         \n",
      "__________________________________________________________________________________________________\n",
      "block4_sepconv2 (SeparableConv2 (None, 37, 37, 728)  536536      block4_sepconv2_act[0][0]        \n",
      "__________________________________________________________________________________________________\n",
      "block4_sepconv2_bn (BatchNormal (None, 37, 37, 728)  2912        block4_sepconv2[0][0]            \n",
      "__________________________________________________________________________________________________\n",
      "conv2d_3 (Conv2D)               (None, 19, 19, 728)  186368      add_2[0][0]                      \n",
      "__________________________________________________________________________________________________\n",
      "block4_pool (MaxPooling2D)      (None, 19, 19, 728)  0           block4_sepconv2_bn[0][0]         \n",
      "__________________________________________________________________________________________________\n",
      "batch_normalization_3 (BatchNor (None, 19, 19, 728)  2912        conv2d_3[0][0]                   \n",
      "__________________________________________________________________________________________________\n",
      "add_3 (Add)                     (None, 19, 19, 728)  0           block4_pool[0][0]                \n",
      "                                                                 batch_normalization_3[0][0]      \n",
      "__________________________________________________________________________________________________\n",
      "block5_sepconv1_act (Activation (None, 19, 19, 728)  0           add_3[0][0]                      \n",
      "__________________________________________________________________________________________________\n",
      "block5_sepconv1 (SeparableConv2 (None, 19, 19, 728)  536536      block5_sepconv1_act[0][0]        \n",
      "__________________________________________________________________________________________________\n",
      "block5_sepconv1_bn (BatchNormal (None, 19, 19, 728)  2912        block5_sepconv1[0][0]            \n",
      "__________________________________________________________________________________________________\n",
      "block5_sepconv2_act (Activation (None, 19, 19, 728)  0           block5_sepconv1_bn[0][0]         \n",
      "__________________________________________________________________________________________________\n",
      "block5_sepconv2 (SeparableConv2 (None, 19, 19, 728)  536536      block5_sepconv2_act[0][0]        \n",
      "__________________________________________________________________________________________________\n",
      "block5_sepconv2_bn (BatchNormal (None, 19, 19, 728)  2912        block5_sepconv2[0][0]            \n",
      "__________________________________________________________________________________________________\n",
      "block5_sepconv3_act (Activation (None, 19, 19, 728)  0           block5_sepconv2_bn[0][0]         \n",
      "__________________________________________________________________________________________________\n",
      "block5_sepconv3 (SeparableConv2 (None, 19, 19, 728)  536536      block5_sepconv3_act[0][0]        \n",
      "__________________________________________________________________________________________________\n",
      "block5_sepconv3_bn (BatchNormal (None, 19, 19, 728)  2912        block5_sepconv3[0][0]            \n",
      "__________________________________________________________________________________________________\n",
      "add_4 (Add)                     (None, 19, 19, 728)  0           block5_sepconv3_bn[0][0]         \n",
      "                                                                 add_3[0][0]                      \n",
      "__________________________________________________________________________________________________\n",
      "block6_sepconv1_act (Activation (None, 19, 19, 728)  0           add_4[0][0]                      \n",
      "__________________________________________________________________________________________________\n",
      "block6_sepconv1 (SeparableConv2 (None, 19, 19, 728)  536536      block6_sepconv1_act[0][0]        \n",
      "__________________________________________________________________________________________________\n",
      "block6_sepconv1_bn (BatchNormal (None, 19, 19, 728)  2912        block6_sepconv1[0][0]            \n",
      "__________________________________________________________________________________________________\n",
      "block6_sepconv2_act (Activation (None, 19, 19, 728)  0           block6_sepconv1_bn[0][0]         \n",
      "__________________________________________________________________________________________________\n",
      "block6_sepconv2 (SeparableConv2 (None, 19, 19, 728)  536536      block6_sepconv2_act[0][0]        \n",
      "__________________________________________________________________________________________________\n",
      "block6_sepconv2_bn (BatchNormal (None, 19, 19, 728)  2912        block6_sepconv2[0][0]            \n",
      "__________________________________________________________________________________________________\n",
      "block6_sepconv3_act (Activation (None, 19, 19, 728)  0           block6_sepconv2_bn[0][0]         \n",
      "__________________________________________________________________________________________________\n",
      "block6_sepconv3 (SeparableConv2 (None, 19, 19, 728)  536536      block6_sepconv3_act[0][0]        \n",
      "__________________________________________________________________________________________________\n",
      "block6_sepconv3_bn (BatchNormal (None, 19, 19, 728)  2912        block6_sepconv3[0][0]            \n",
      "__________________________________________________________________________________________________\n",
      "add_5 (Add)                     (None, 19, 19, 728)  0           block6_sepconv3_bn[0][0]         \n",
      "                                                                 add_4[0][0]                      \n",
      "__________________________________________________________________________________________________\n",
      "block7_sepconv1_act (Activation (None, 19, 19, 728)  0           add_5[0][0]                      \n",
      "__________________________________________________________________________________________________\n",
      "block7_sepconv1 (SeparableConv2 (None, 19, 19, 728)  536536      block7_sepconv1_act[0][0]        \n",
      "__________________________________________________________________________________________________\n",
      "block7_sepconv1_bn (BatchNormal (None, 19, 19, 728)  2912        block7_sepconv1[0][0]            \n",
      "__________________________________________________________________________________________________\n",
      "block7_sepconv2_act (Activation (None, 19, 19, 728)  0           block7_sepconv1_bn[0][0]         \n",
      "__________________________________________________________________________________________________\n",
      "block7_sepconv2 (SeparableConv2 (None, 19, 19, 728)  536536      block7_sepconv2_act[0][0]        \n",
      "__________________________________________________________________________________________________\n",
      "block7_sepconv2_bn (BatchNormal (None, 19, 19, 728)  2912        block7_sepconv2[0][0]            \n",
      "__________________________________________________________________________________________________\n",
      "block7_sepconv3_act (Activation (None, 19, 19, 728)  0           block7_sepconv2_bn[0][0]         \n",
      "__________________________________________________________________________________________________\n",
      "block7_sepconv3 (SeparableConv2 (None, 19, 19, 728)  536536      block7_sepconv3_act[0][0]        \n",
      "__________________________________________________________________________________________________\n",
      "block7_sepconv3_bn (BatchNormal (None, 19, 19, 728)  2912        block7_sepconv3[0][0]            \n",
      "__________________________________________________________________________________________________\n",
      "add_6 (Add)                     (None, 19, 19, 728)  0           block7_sepconv3_bn[0][0]         \n",
      "                                                                 add_5[0][0]                      \n",
      "__________________________________________________________________________________________________\n",
      "block8_sepconv1_act (Activation (None, 19, 19, 728)  0           add_6[0][0]                      \n",
      "__________________________________________________________________________________________________\n",
      "block8_sepconv1 (SeparableConv2 (None, 19, 19, 728)  536536      block8_sepconv1_act[0][0]        \n",
      "__________________________________________________________________________________________________\n",
      "block8_sepconv1_bn (BatchNormal (None, 19, 19, 728)  2912        block8_sepconv1[0][0]            \n",
      "__________________________________________________________________________________________________\n",
      "block8_sepconv2_act (Activation (None, 19, 19, 728)  0           block8_sepconv1_bn[0][0]         \n",
      "__________________________________________________________________________________________________\n",
      "block8_sepconv2 (SeparableConv2 (None, 19, 19, 728)  536536      block8_sepconv2_act[0][0]        \n",
      "__________________________________________________________________________________________________\n",
      "block8_sepconv2_bn (BatchNormal (None, 19, 19, 728)  2912        block8_sepconv2[0][0]            \n",
      "__________________________________________________________________________________________________\n",
      "block8_sepconv3_act (Activation (None, 19, 19, 728)  0           block8_sepconv2_bn[0][0]         \n",
      "__________________________________________________________________________________________________\n",
      "block8_sepconv3 (SeparableConv2 (None, 19, 19, 728)  536536      block8_sepconv3_act[0][0]        \n",
      "__________________________________________________________________________________________________\n",
      "block8_sepconv3_bn (BatchNormal (None, 19, 19, 728)  2912        block8_sepconv3[0][0]            \n",
      "__________________________________________________________________________________________________\n",
      "add_7 (Add)                     (None, 19, 19, 728)  0           block8_sepconv3_bn[0][0]         \n",
      "                                                                 add_6[0][0]                      \n",
      "__________________________________________________________________________________________________\n",
      "block9_sepconv1_act (Activation (None, 19, 19, 728)  0           add_7[0][0]                      \n",
      "__________________________________________________________________________________________________\n",
      "block9_sepconv1 (SeparableConv2 (None, 19, 19, 728)  536536      block9_sepconv1_act[0][0]        \n",
      "__________________________________________________________________________________________________\n",
      "block9_sepconv1_bn (BatchNormal (None, 19, 19, 728)  2912        block9_sepconv1[0][0]            \n",
      "__________________________________________________________________________________________________\n",
      "block9_sepconv2_act (Activation (None, 19, 19, 728)  0           block9_sepconv1_bn[0][0]         \n",
      "__________________________________________________________________________________________________\n",
      "block9_sepconv2 (SeparableConv2 (None, 19, 19, 728)  536536      block9_sepconv2_act[0][0]        \n",
      "__________________________________________________________________________________________________\n",
      "block9_sepconv2_bn (BatchNormal (None, 19, 19, 728)  2912        block9_sepconv2[0][0]            \n",
      "__________________________________________________________________________________________________\n",
      "block9_sepconv3_act (Activation (None, 19, 19, 728)  0           block9_sepconv2_bn[0][0]         \n",
      "__________________________________________________________________________________________________\n",
      "block9_sepconv3 (SeparableConv2 (None, 19, 19, 728)  536536      block9_sepconv3_act[0][0]        \n",
      "__________________________________________________________________________________________________\n",
      "block9_sepconv3_bn (BatchNormal (None, 19, 19, 728)  2912        block9_sepconv3[0][0]            \n",
      "__________________________________________________________________________________________________\n",
      "add_8 (Add)                     (None, 19, 19, 728)  0           block9_sepconv3_bn[0][0]         \n",
      "                                                                 add_7[0][0]                      \n",
      "__________________________________________________________________________________________________\n",
      "block10_sepconv1_act (Activatio (None, 19, 19, 728)  0           add_8[0][0]                      \n",
      "__________________________________________________________________________________________________\n",
      "block10_sepconv1 (SeparableConv (None, 19, 19, 728)  536536      block10_sepconv1_act[0][0]       \n",
      "__________________________________________________________________________________________________\n",
      "block10_sepconv1_bn (BatchNorma (None, 19, 19, 728)  2912        block10_sepconv1[0][0]           \n",
      "__________________________________________________________________________________________________\n",
      "block10_sepconv2_act (Activatio (None, 19, 19, 728)  0           block10_sepconv1_bn[0][0]        \n",
      "__________________________________________________________________________________________________\n",
      "block10_sepconv2 (SeparableConv (None, 19, 19, 728)  536536      block10_sepconv2_act[0][0]       \n",
      "__________________________________________________________________________________________________\n",
      "block10_sepconv2_bn (BatchNorma (None, 19, 19, 728)  2912        block10_sepconv2[0][0]           \n",
      "__________________________________________________________________________________________________\n",
      "block10_sepconv3_act (Activatio (None, 19, 19, 728)  0           block10_sepconv2_bn[0][0]        \n",
      "__________________________________________________________________________________________________\n",
      "block10_sepconv3 (SeparableConv (None, 19, 19, 728)  536536      block10_sepconv3_act[0][0]       \n",
      "__________________________________________________________________________________________________\n",
      "block10_sepconv3_bn (BatchNorma (None, 19, 19, 728)  2912        block10_sepconv3[0][0]           \n",
      "__________________________________________________________________________________________________\n",
      "add_9 (Add)                     (None, 19, 19, 728)  0           block10_sepconv3_bn[0][0]        \n",
      "                                                                 add_8[0][0]                      \n",
      "__________________________________________________________________________________________________\n",
      "block11_sepconv1_act (Activatio (None, 19, 19, 728)  0           add_9[0][0]                      \n",
      "__________________________________________________________________________________________________\n",
      "block11_sepconv1 (SeparableConv (None, 19, 19, 728)  536536      block11_sepconv1_act[0][0]       \n",
      "__________________________________________________________________________________________________\n",
      "block11_sepconv1_bn (BatchNorma (None, 19, 19, 728)  2912        block11_sepconv1[0][0]           \n",
      "__________________________________________________________________________________________________\n",
      "block11_sepconv2_act (Activatio (None, 19, 19, 728)  0           block11_sepconv1_bn[0][0]        \n",
      "__________________________________________________________________________________________________\n",
      "block11_sepconv2 (SeparableConv (None, 19, 19, 728)  536536      block11_sepconv2_act[0][0]       \n",
      "__________________________________________________________________________________________________\n",
      "block11_sepconv2_bn (BatchNorma (None, 19, 19, 728)  2912        block11_sepconv2[0][0]           \n",
      "__________________________________________________________________________________________________\n",
      "block11_sepconv3_act (Activatio (None, 19, 19, 728)  0           block11_sepconv2_bn[0][0]        \n",
      "__________________________________________________________________________________________________\n",
      "block11_sepconv3 (SeparableConv (None, 19, 19, 728)  536536      block11_sepconv3_act[0][0]       \n",
      "__________________________________________________________________________________________________\n",
      "block11_sepconv3_bn (BatchNorma (None, 19, 19, 728)  2912        block11_sepconv3[0][0]           \n",
      "__________________________________________________________________________________________________\n",
      "add_10 (Add)                    (None, 19, 19, 728)  0           block11_sepconv3_bn[0][0]        \n",
      "                                                                 add_9[0][0]                      \n",
      "__________________________________________________________________________________________________\n",
      "block12_sepconv1_act (Activatio (None, 19, 19, 728)  0           add_10[0][0]                     \n",
      "__________________________________________________________________________________________________\n",
      "block12_sepconv1 (SeparableConv (None, 19, 19, 728)  536536      block12_sepconv1_act[0][0]       \n",
      "__________________________________________________________________________________________________\n",
      "block12_sepconv1_bn (BatchNorma (None, 19, 19, 728)  2912        block12_sepconv1[0][0]           \n",
      "__________________________________________________________________________________________________\n",
      "block12_sepconv2_act (Activatio (None, 19, 19, 728)  0           block12_sepconv1_bn[0][0]        \n",
      "__________________________________________________________________________________________________\n",
      "block12_sepconv2 (SeparableConv (None, 19, 19, 728)  536536      block12_sepconv2_act[0][0]       \n",
      "__________________________________________________________________________________________________\n",
      "block12_sepconv2_bn (BatchNorma (None, 19, 19, 728)  2912        block12_sepconv2[0][0]           \n",
      "__________________________________________________________________________________________________\n",
      "block12_sepconv3_act (Activatio (None, 19, 19, 728)  0           block12_sepconv2_bn[0][0]        \n",
      "__________________________________________________________________________________________________\n",
      "block12_sepconv3 (SeparableConv (None, 19, 19, 728)  536536      block12_sepconv3_act[0][0]       \n",
      "__________________________________________________________________________________________________\n",
      "block12_sepconv3_bn (BatchNorma (None, 19, 19, 728)  2912        block12_sepconv3[0][0]           \n",
      "__________________________________________________________________________________________________\n",
      "add_11 (Add)                    (None, 19, 19, 728)  0           block12_sepconv3_bn[0][0]        \n",
      "                                                                 add_10[0][0]                     \n",
      "__________________________________________________________________________________________________\n",
      "block13_sepconv1_act (Activatio (None, 19, 19, 728)  0           add_11[0][0]                     \n",
      "__________________________________________________________________________________________________\n",
      "block13_sepconv1 (SeparableConv (None, 19, 19, 728)  536536      block13_sepconv1_act[0][0]       \n",
      "__________________________________________________________________________________________________\n",
      "block13_sepconv1_bn (BatchNorma (None, 19, 19, 728)  2912        block13_sepconv1[0][0]           \n",
      "__________________________________________________________________________________________________\n",
      "block13_sepconv2_act (Activatio (None, 19, 19, 728)  0           block13_sepconv1_bn[0][0]        \n",
      "__________________________________________________________________________________________________\n",
      "block13_sepconv2 (SeparableConv (None, 19, 19, 1024) 752024      block13_sepconv2_act[0][0]       \n",
      "__________________________________________________________________________________________________\n",
      "block13_sepconv2_bn (BatchNorma (None, 19, 19, 1024) 4096        block13_sepconv2[0][0]           \n",
      "__________________________________________________________________________________________________\n",
      "conv2d_4 (Conv2D)               (None, 10, 10, 1024) 745472      add_11[0][0]                     \n",
      "__________________________________________________________________________________________________\n",
      "block13_pool (MaxPooling2D)     (None, 10, 10, 1024) 0           block13_sepconv2_bn[0][0]        \n",
      "__________________________________________________________________________________________________\n",
      "batch_normalization_4 (BatchNor (None, 10, 10, 1024) 4096        conv2d_4[0][0]                   \n",
      "__________________________________________________________________________________________________\n",
      "add_12 (Add)                    (None, 10, 10, 1024) 0           block13_pool[0][0]               \n",
      "                                                                 batch_normalization_4[0][0]      \n",
      "__________________________________________________________________________________________________\n",
      "block14_sepconv1 (SeparableConv (None, 10, 10, 1536) 1582080     add_12[0][0]                     \n",
      "__________________________________________________________________________________________________\n",
      "block14_sepconv1_bn (BatchNorma (None, 10, 10, 1536) 6144        block14_sepconv1[0][0]           \n",
      "__________________________________________________________________________________________________\n",
      "block14_sepconv1_act (Activatio (None, 10, 10, 1536) 0           block14_sepconv1_bn[0][0]        \n",
      "__________________________________________________________________________________________________\n",
      "block14_sepconv2 (SeparableConv (None, 10, 10, 2048) 3159552     block14_sepconv1_act[0][0]       \n",
      "__________________________________________________________________________________________________\n",
      "block14_sepconv2_bn (BatchNorma (None, 10, 10, 2048) 8192        block14_sepconv2[0][0]           \n",
      "__________________________________________________________________________________________________\n",
      "block14_sepconv2_act (Activatio (None, 10, 10, 2048) 0           block14_sepconv2_bn[0][0]        \n",
      "==================================================================================================\n",
      "Total params: 20,861,480\n",
      "Trainable params: 20,806,952\n",
      "Non-trainable params: 54,528\n",
      "__________________________________________________________________________________________________\n"
     ]
    }
   ],
   "source": [
    "conv_base.summary()"
   ]
  },
  {
   "cell_type": "code",
   "execution_count": 12,
   "metadata": {},
   "outputs": [],
   "source": [
    "from keras import models\n",
    "from keras import layers\n",
    "\n",
    "model = models.Sequential()\n",
    "model.add(conv_base)\n",
    "model.add(layers.Flatten())\n",
    "model.add(layers.Dense(256, activation='relu'))\n",
    "model.add(layers.Dense(120, activation='softmax'))"
   ]
  },
  {
   "cell_type": "code",
   "execution_count": 13,
   "metadata": {},
   "outputs": [
    {
     "name": "stdout",
     "output_type": "stream",
     "text": [
      "Model: \"sequential_1\"\n",
      "_________________________________________________________________\n",
      "Layer (type)                 Output Shape              Param #   \n",
      "=================================================================\n",
      "xception (Model)             (None, 10, 10, 2048)      20861480  \n",
      "_________________________________________________________________\n",
      "flatten_1 (Flatten)          (None, 204800)            0         \n",
      "_________________________________________________________________\n",
      "dense_1 (Dense)              (None, 256)               52429056  \n",
      "_________________________________________________________________\n",
      "dense_2 (Dense)              (None, 120)               30840     \n",
      "=================================================================\n",
      "Total params: 73,321,376\n",
      "Trainable params: 73,266,848\n",
      "Non-trainable params: 54,528\n",
      "_________________________________________________________________\n"
     ]
    }
   ],
   "source": [
    "model.summary()"
   ]
  },
  {
   "cell_type": "code",
   "execution_count": 14,
   "metadata": {},
   "outputs": [],
   "source": [
    "conv_base.trainable = False"
   ]
  },
  {
   "cell_type": "code",
   "execution_count": 15,
   "metadata": {},
   "outputs": [
    {
     "name": "stdout",
     "output_type": "stream",
     "text": [
      "Model: \"sequential_1\"\n",
      "_________________________________________________________________\n",
      "Layer (type)                 Output Shape              Param #   \n",
      "=================================================================\n",
      "xception (Model)             (None, 10, 10, 2048)      20861480  \n",
      "_________________________________________________________________\n",
      "flatten_1 (Flatten)          (None, 204800)            0         \n",
      "_________________________________________________________________\n",
      "dense_1 (Dense)              (None, 256)               52429056  \n",
      "_________________________________________________________________\n",
      "dense_2 (Dense)              (None, 120)               30840     \n",
      "=================================================================\n",
      "Total params: 73,321,376\n",
      "Trainable params: 52,459,896\n",
      "Non-trainable params: 20,861,480\n",
      "_________________________________________________________________\n"
     ]
    }
   ],
   "source": [
    "model.summary()"
   ]
  },
  {
   "cell_type": "code",
   "execution_count": 16,
   "metadata": {},
   "outputs": [],
   "source": [
    "if multi_gpu > 1:\n",
    "    parallel_model = multi_gpu_model(model, gpus=multi_gpu)"
   ]
  },
  {
   "cell_type": "markdown",
   "metadata": {},
   "source": [
    "# Optimizador"
   ]
  },
  {
   "cell_type": "code",
   "execution_count": 17,
   "metadata": {},
   "outputs": [],
   "source": [
    "from keras_radam import RAdam\n",
    "\n",
    "parallel_model.compile(loss='categorical_crossentropy',\n",
    "                       optimizer=RAdam(total_steps=5000, warmup_proportion=0.1, min_lr=1e-7),\n",
    "                       metrics=['categorical_accuracy'])"
   ]
  },
  {
   "cell_type": "markdown",
   "metadata": {},
   "source": [
    "# Callbacks"
   ]
  },
  {
   "cell_type": "code",
   "execution_count": 18,
   "metadata": {},
   "outputs": [],
   "source": [
    "from keras import callbacks\n",
    "\n",
    "callbacks = [callbacks.EarlyStopping(monitor='val_categorical_accuracy', min_delta=0.001, patience=20, restore_best_weights=True, mode='max')]"
   ]
  },
  {
   "cell_type": "markdown",
   "metadata": {},
   "source": [
    "# Entrenamiento"
   ]
  },
  {
   "cell_type": "code",
   "execution_count": 19,
   "metadata": {
    "scrolled": true
   },
   "outputs": [
    {
     "name": "stdout",
     "output_type": "stream",
     "text": [
      "WARNING:tensorflow:From C:\\ProgramData\\Anaconda3\\envs\\tensorflow_gpu\\lib\\site-packages\\tensorflow\\python\\ops\\math_ops.py:3066: to_int32 (from tensorflow.python.ops.math_ops) is deprecated and will be removed in a future version.\n",
      "Instructions for updating:\n",
      "Use tf.cast instead.\n",
      "Epoch 1/500\n",
      "100/100 [==============================] - 87s 866ms/step - loss: 4.0742 - categorical_accuracy: 0.1619 - val_loss: 1.5871 - val_categorical_accuracy: 0.6500\n",
      "Epoch 2/500\n",
      "100/100 [==============================] - 67s 669ms/step - loss: 2.2714 - categorical_accuracy: 0.4775 - val_loss: 0.9309 - val_categorical_accuracy: 0.7451\n",
      "Epoch 3/500\n",
      "100/100 [==============================] - 68s 684ms/step - loss: 2.5419 - categorical_accuracy: 0.4719 - val_loss: 0.8578 - val_categorical_accuracy: 0.7644\n",
      "Epoch 4/500\n",
      "100/100 [==============================] - 69s 691ms/step - loss: 2.3408 - categorical_accuracy: 0.4847 - val_loss: 0.8436 - val_categorical_accuracy: 0.7741\n",
      "Epoch 5/500\n",
      "100/100 [==============================] - 69s 692ms/step - loss: 2.3374 - categorical_accuracy: 0.4691 - val_loss: 0.9139 - val_categorical_accuracy: 0.7694\n",
      "Epoch 6/500\n",
      "100/100 [==============================] - 69s 690ms/step - loss: 2.2215 - categorical_accuracy: 0.4922 - val_loss: 0.8589 - val_categorical_accuracy: 0.7710\n",
      "Epoch 7/500\n",
      "100/100 [==============================] - 69s 692ms/step - loss: 2.1716 - categorical_accuracy: 0.5028 - val_loss: 0.8540 - val_categorical_accuracy: 0.7863\n",
      "Epoch 8/500\n",
      "100/100 [==============================] - 69s 694ms/step - loss: 2.1122 - categorical_accuracy: 0.5116 - val_loss: 0.8393 - val_categorical_accuracy: 0.7855\n",
      "Epoch 9/500\n",
      "100/100 [==============================] - 69s 690ms/step - loss: 1.9598 - categorical_accuracy: 0.5331 - val_loss: 0.8240 - val_categorical_accuracy: 0.7850\n",
      "Epoch 10/500\n",
      "100/100 [==============================] - 69s 694ms/step - loss: 1.8518 - categorical_accuracy: 0.5588 - val_loss: 0.7848 - val_categorical_accuracy: 0.7950\n",
      "Epoch 11/500\n",
      "100/100 [==============================] - 69s 689ms/step - loss: 1.7736 - categorical_accuracy: 0.5744 - val_loss: 0.7997 - val_categorical_accuracy: 0.8037\n",
      "Epoch 12/500\n",
      "100/100 [==============================] - 69s 693ms/step - loss: 1.7594 - categorical_accuracy: 0.5775 - val_loss: 0.7715 - val_categorical_accuracy: 0.8013\n",
      "Epoch 13/500\n",
      "100/100 [==============================] - 68s 683ms/step - loss: 1.8813 - categorical_accuracy: 0.5547 - val_loss: 0.7099 - val_categorical_accuracy: 0.8119\n",
      "Epoch 14/500\n",
      "100/100 [==============================] - 70s 697ms/step - loss: 1.7094 - categorical_accuracy: 0.5850 - val_loss: 0.7361 - val_categorical_accuracy: 0.8233\n",
      "Epoch 15/500\n",
      "100/100 [==============================] - 69s 688ms/step - loss: 1.6773 - categorical_accuracy: 0.5872 - val_loss: 0.7203 - val_categorical_accuracy: 0.8194\n",
      "Epoch 16/500\n",
      "100/100 [==============================] - 70s 698ms/step - loss: 1.7150 - categorical_accuracy: 0.5812 - val_loss: 0.7497 - val_categorical_accuracy: 0.8057\n",
      "Epoch 17/500\n",
      "100/100 [==============================] - 68s 682ms/step - loss: 1.6799 - categorical_accuracy: 0.6053 - val_loss: 0.6923 - val_categorical_accuracy: 0.8181\n",
      "Epoch 18/500\n",
      "100/100 [==============================] - 70s 698ms/step - loss: 1.5872 - categorical_accuracy: 0.6084 - val_loss: 0.6802 - val_categorical_accuracy: 0.8189\n",
      "Epoch 19/500\n",
      "100/100 [==============================] - 69s 689ms/step - loss: 1.5544 - categorical_accuracy: 0.6153 - val_loss: 0.7164 - val_categorical_accuracy: 0.8227\n",
      "Epoch 20/500\n",
      "100/100 [==============================] - 69s 689ms/step - loss: 1.5632 - categorical_accuracy: 0.6222 - val_loss: 0.7220 - val_categorical_accuracy: 0.8169\n",
      "Epoch 21/500\n",
      "100/100 [==============================] - 69s 692ms/step - loss: 1.5301 - categorical_accuracy: 0.6144 - val_loss: 0.6464 - val_categorical_accuracy: 0.8379\n",
      "Epoch 22/500\n",
      "100/100 [==============================] - 69s 689ms/step - loss: 1.5269 - categorical_accuracy: 0.6278 - val_loss: 0.6802 - val_categorical_accuracy: 0.8325\n",
      "Epoch 23/500\n",
      "100/100 [==============================] - 69s 694ms/step - loss: 1.5412 - categorical_accuracy: 0.6184 - val_loss: 0.6969 - val_categorical_accuracy: 0.8170\n",
      "Epoch 24/500\n",
      "100/100 [==============================] - 68s 683ms/step - loss: 1.4473 - categorical_accuracy: 0.6419 - val_loss: 0.6750 - val_categorical_accuracy: 0.8244\n",
      "Epoch 25/500\n",
      "100/100 [==============================] - 69s 694ms/step - loss: 1.4689 - categorical_accuracy: 0.6359 - val_loss: 0.6584 - val_categorical_accuracy: 0.8328\n",
      "Epoch 26/500\n",
      "100/100 [==============================] - 69s 689ms/step - loss: 1.3582 - categorical_accuracy: 0.6584 - val_loss: 0.6772 - val_categorical_accuracy: 0.8263\n",
      "Epoch 27/500\n",
      "100/100 [==============================] - 69s 693ms/step - loss: 1.4398 - categorical_accuracy: 0.6316 - val_loss: 0.6966 - val_categorical_accuracy: 0.8189\n",
      "Epoch 28/500\n",
      "100/100 [==============================] - 69s 689ms/step - loss: 1.3541 - categorical_accuracy: 0.6666 - val_loss: 0.6976 - val_categorical_accuracy: 0.8175\n",
      "Epoch 29/500\n",
      "100/100 [==============================] - 68s 683ms/step - loss: 1.4193 - categorical_accuracy: 0.6485 - val_loss: 0.7028 - val_categorical_accuracy: 0.8164\n",
      "Epoch 30/500\n",
      "100/100 [==============================] - 69s 686ms/step - loss: 1.3542 - categorical_accuracy: 0.6491 - val_loss: 0.6598 - val_categorical_accuracy: 0.8219\n",
      "Epoch 31/500\n",
      "100/100 [==============================] - 69s 694ms/step - loss: 1.3169 - categorical_accuracy: 0.6591 - val_loss: 0.6036 - val_categorical_accuracy: 0.8404\n",
      "Epoch 32/500\n",
      "100/100 [==============================] - 69s 687ms/step - loss: 1.3421 - categorical_accuracy: 0.6519 - val_loss: 0.6504 - val_categorical_accuracy: 0.8363\n",
      "Epoch 33/500\n",
      "100/100 [==============================] - 69s 695ms/step - loss: 1.2203 - categorical_accuracy: 0.6859 - val_loss: 0.5882 - val_categorical_accuracy: 0.8555\n",
      "Epoch 34/500\n",
      "100/100 [==============================] - 69s 688ms/step - loss: 1.2866 - categorical_accuracy: 0.6628 - val_loss: 0.5474 - val_categorical_accuracy: 0.8450\n",
      "Epoch 35/500\n",
      "100/100 [==============================] - 69s 694ms/step - loss: 1.2790 - categorical_accuracy: 0.6666 - val_loss: 0.6197 - val_categorical_accuracy: 0.8252\n",
      "Epoch 36/500\n",
      "100/100 [==============================] - 69s 690ms/step - loss: 1.2979 - categorical_accuracy: 0.6656 - val_loss: 0.5253 - val_categorical_accuracy: 0.8550\n",
      "Epoch 37/500\n",
      "100/100 [==============================] - 70s 696ms/step - loss: 1.1738 - categorical_accuracy: 0.6950 - val_loss: 0.5477 - val_categorical_accuracy: 0.8618\n",
      "Epoch 38/500\n",
      "100/100 [==============================] - 69s 687ms/step - loss: 1.2196 - categorical_accuracy: 0.6869 - val_loss: 0.6324 - val_categorical_accuracy: 0.8353\n",
      "Epoch 39/500\n",
      "100/100 [==============================] - 68s 685ms/step - loss: 1.1673 - categorical_accuracy: 0.6813 - val_loss: 0.6083 - val_categorical_accuracy: 0.8381\n",
      "Epoch 40/500\n",
      "100/100 [==============================] - 69s 692ms/step - loss: 1.1714 - categorical_accuracy: 0.6928 - val_loss: 0.5414 - val_categorical_accuracy: 0.8593\n",
      "Epoch 41/500\n",
      "100/100 [==============================] - 69s 690ms/step - loss: 1.0952 - categorical_accuracy: 0.7122 - val_loss: 0.6266 - val_categorical_accuracy: 0.8406\n",
      "Epoch 42/500\n",
      "100/100 [==============================] - 70s 697ms/step - loss: 1.0927 - categorical_accuracy: 0.7184 - val_loss: 0.4873 - val_categorical_accuracy: 0.8587\n",
      "Epoch 43/500\n",
      "100/100 [==============================] - 69s 691ms/step - loss: 1.1116 - categorical_accuracy: 0.7031 - val_loss: 0.6055 - val_categorical_accuracy: 0.8387\n",
      "Epoch 44/500\n",
      "100/100 [==============================] - 69s 689ms/step - loss: 1.1512 - categorical_accuracy: 0.7050 - val_loss: 0.5761 - val_categorical_accuracy: 0.8549\n",
      "Epoch 45/500\n",
      "100/100 [==============================] - 69s 694ms/step - loss: 1.0874 - categorical_accuracy: 0.7069 - val_loss: 0.5926 - val_categorical_accuracy: 0.8419\n",
      "Epoch 46/500\n",
      "100/100 [==============================] - 70s 696ms/step - loss: 1.0696 - categorical_accuracy: 0.7100 - val_loss: 0.4832 - val_categorical_accuracy: 0.8662\n",
      "Epoch 47/500\n",
      "100/100 [==============================] - 69s 690ms/step - loss: 0.9923 - categorical_accuracy: 0.7322 - val_loss: 0.5632 - val_categorical_accuracy: 0.8488\n",
      "Epoch 48/500\n",
      "100/100 [==============================] - 70s 699ms/step - loss: 1.0067 - categorical_accuracy: 0.7241 - val_loss: 0.5409 - val_categorical_accuracy: 0.8530\n",
      "Epoch 49/500\n",
      "100/100 [==============================] - 68s 681ms/step - loss: 0.9577 - categorical_accuracy: 0.7344 - val_loss: 0.4875 - val_categorical_accuracy: 0.8744\n",
      "Epoch 50/500\n",
      "100/100 [==============================] - 70s 698ms/step - loss: 0.9807 - categorical_accuracy: 0.7463 - val_loss: 0.5608 - val_categorical_accuracy: 0.8562\n",
      "Epoch 51/500\n",
      "100/100 [==============================] - 71s 711ms/step - loss: 0.9769 - categorical_accuracy: 0.7297 - val_loss: 0.5388 - val_categorical_accuracy: 0.8612\n",
      "Epoch 52/500\n",
      "100/100 [==============================] - 69s 690ms/step - loss: 1.0653 - categorical_accuracy: 0.7188 - val_loss: 0.5775 - val_categorical_accuracy: 0.8631\n",
      "Epoch 53/500\n",
      "100/100 [==============================] - 69s 689ms/step - loss: 0.9242 - categorical_accuracy: 0.7459 - val_loss: 0.5339 - val_categorical_accuracy: 0.8575\n",
      "Epoch 54/500\n",
      "100/100 [==============================] - 70s 699ms/step - loss: 0.9466 - categorical_accuracy: 0.7425 - val_loss: 0.5865 - val_categorical_accuracy: 0.8524\n",
      "Epoch 55/500\n",
      "100/100 [==============================] - 69s 689ms/step - loss: 0.9457 - categorical_accuracy: 0.7441 - val_loss: 0.4949 - val_categorical_accuracy: 0.8625\n",
      "Epoch 56/500\n",
      "100/100 [==============================] - 70s 698ms/step - loss: 0.9850 - categorical_accuracy: 0.7313 - val_loss: 0.5105 - val_categorical_accuracy: 0.8726\n",
      "Epoch 57/500\n",
      "100/100 [==============================] - 69s 687ms/step - loss: 1.0178 - categorical_accuracy: 0.7297 - val_loss: 0.5636 - val_categorical_accuracy: 0.8524\n",
      "Epoch 58/500\n",
      "100/100 [==============================] - 69s 688ms/step - loss: 0.9774 - categorical_accuracy: 0.7331 - val_loss: 0.5220 - val_categorical_accuracy: 0.8656\n",
      "Epoch 59/500\n",
      "100/100 [==============================] - 69s 694ms/step - loss: 0.9861 - categorical_accuracy: 0.7328 - val_loss: 0.5530 - val_categorical_accuracy: 0.8543\n",
      "Epoch 60/500\n",
      "100/100 [==============================] - 69s 689ms/step - loss: 1.0055 - categorical_accuracy: 0.7225 - val_loss: 0.5691 - val_categorical_accuracy: 0.8569\n",
      "Epoch 61/500\n",
      "100/100 [==============================] - 68s 684ms/step - loss: 0.9515 - categorical_accuracy: 0.7394 - val_loss: 0.5063 - val_categorical_accuracy: 0.8669\n",
      "Epoch 62/500\n",
      "100/100 [==============================] - 69s 693ms/step - loss: 0.9955 - categorical_accuracy: 0.7344 - val_loss: 0.5426 - val_categorical_accuracy: 0.8550\n",
      "Epoch 63/500\n",
      "100/100 [==============================] - 70s 697ms/step - loss: 0.9630 - categorical_accuracy: 0.7250 - val_loss: 0.5481 - val_categorical_accuracy: 0.8656\n",
      "Epoch 64/500\n",
      "100/100 [==============================] - 69s 694ms/step - loss: 0.9777 - categorical_accuracy: 0.7313 - val_loss: 0.5249 - val_categorical_accuracy: 0.8612\n",
      "Epoch 65/500\n",
      "100/100 [==============================] - 69s 688ms/step - loss: 1.0611 - categorical_accuracy: 0.7228 - val_loss: 0.5281 - val_categorical_accuracy: 0.8625\n",
      "Epoch 66/500\n",
      "100/100 [==============================] - 69s 688ms/step - loss: 1.0157 - categorical_accuracy: 0.7397 - val_loss: 0.5486 - val_categorical_accuracy: 0.8556\n",
      "Epoch 67/500\n",
      "100/100 [==============================] - 69s 694ms/step - loss: 0.9449 - categorical_accuracy: 0.7400 - val_loss: 0.5928 - val_categorical_accuracy: 0.8479\n",
      "Epoch 68/500\n",
      "100/100 [==============================] - 69s 687ms/step - loss: 0.9745 - categorical_accuracy: 0.7378 - val_loss: 0.5222 - val_categorical_accuracy: 0.8669\n",
      "Epoch 69/500\n",
      "100/100 [==============================] - 70s 697ms/step - loss: 0.9673 - categorical_accuracy: 0.7369 - val_loss: 0.5224 - val_categorical_accuracy: 0.8675\n"
     ]
    }
   ],
   "source": [
    "history = parallel_model.fit_generator(train_generator,\n",
    "                                       steps_per_epoch=100,\n",
    "                                       epochs=500,\n",
    "                                       validation_data=valid_generator,\n",
    "                                       validation_steps=50,\n",
    "                                       callbacks=callbacks)"
   ]
  },
  {
   "cell_type": "code",
   "execution_count": 32,
   "metadata": {},
   "outputs": [],
   "source": [
    "import pickle\n",
    "\n",
    "# open a file, where you ant to store the data\n",
    "file = open('./models/history_{}.pkl'.format(MODELO), 'wb')\n",
    "\n",
    "# dump information to that file\n",
    "pickle.dump(history.history, file)\n",
    "\n",
    "# close the file\n",
    "file.close()"
   ]
  },
  {
   "cell_type": "markdown",
   "metadata": {},
   "source": [
    "# Graficos"
   ]
  },
  {
   "cell_type": "code",
   "execution_count": 33,
   "metadata": {},
   "outputs": [
    {
     "data": {
      "image/png": "[encoded data removed]",
      "text/plain": [
       "<Figure size 432x288 with 1 Axes>"
      ]
     },
     "metadata": {
      "needs_background": "light"
     },
     "output_type": "display_data"
    },
    {
     "data": {
      "image/png": "[encoded data removed]",
      "text/plain": [
       "<Figure size 432x288 with 1 Axes>"
      ]
     },
     "metadata": {
      "needs_background": "light"
     },
     "output_type": "display_data"
    }
   ],
   "source": [
    "import matplotlib.pyplot as plt\n",
    "%matplotlib inline\n",
    "\n",
    "acc = history.history['categorical_accuracy']\n",
    "val_acc = history.history['val_categorical_accuracy']\n",
    "loss = history.history['loss']\n",
    "val_loss = history.history['val_loss']\n",
    "\n",
    "epochs = range(len(acc))\n",
    "\n",
    "plt.plot(epochs, acc, 'bo', label='Train')\n",
    "plt.plot(epochs, val_acc, 'b', label='Validation')\n",
    "plt.title('Accuracy: Train, Validation')\n",
    "plt.legend()\n",
    "\n",
    "plt.figure()\n",
    "\n",
    "plt.plot(epochs, loss, 'bo', label='Train')\n",
    "plt.plot(epochs, val_loss, 'b', label='Validation')\n",
    "plt.title('Loss: Train, Validation')\n",
    "plt.legend()\n",
    "\n",
    "plt.show()"
   ]
  },
  {
   "cell_type": "code",
   "execution_count": 34,
   "metadata": {},
   "outputs": [],
   "source": [
    "parallel_model.save('./models/model_{}_RAdam.h5'.format(MODELO))"
   ]
  },
  {
   "cell_type": "markdown",
   "metadata": {},
   "source": [
    "# Predict"
   ]
  },
  {
   "cell_type": "code",
   "execution_count": 35,
   "metadata": {},
   "outputs": [
    {
     "name": "stdout",
     "output_type": "stream",
     "text": [
      "Found 3025 images belonging to 120 classes.\n"
     ]
    }
   ],
   "source": [
    "test_datagen = ImageDataGenerator(rescale=1./255)\n",
    "\n",
    "test_generator = test_datagen.flow_from_directory(\n",
    "        test_dir,\n",
    "        target_size=(299, 299),\n",
    "        batch_size=32,\n",
    "        class_mode=None,\n",
    "        shuffle=False)"
   ]
  },
  {
   "cell_type": "code",
   "execution_count": 36,
   "metadata": {},
   "outputs": [],
   "source": [
    "probabilities = parallel_model.predict_generator(test_generator)"
   ]
  },
  {
   "cell_type": "code",
   "execution_count": 37,
   "metadata": {},
   "outputs": [],
   "source": [
    "# Get Max Index\n",
    "predicted_class_index=np.argmax(probabilities,axis=1)\n",
    "\n",
    "# Dictionary: Index to Class\n",
    "class_labels = list(test_generator.class_indices.keys())\n",
    "index_to_labels = dict((v,k) for k,v in test_generator.class_indices.items())\n",
    "\n",
    "# Get List of Predictions\n",
    "predictions = [index_to_labels[ix] for ix in predicted_class_index]\n",
    "\n",
    "# Get Dictionary of Predictions\n",
    "results=pd.DataFrame({\"Filename\":test_generator.filenames,\n",
    "                      \"Predictions\":predictions})"
   ]
  },
  {
   "cell_type": "code",
   "execution_count": 38,
   "metadata": {},
   "outputs": [
    {
     "data": {
      "text/html": [
       "<div>\n",
       "<style scoped>\n",
       "    .dataframe tbody tr th:only-of-type {\n",
       "        vertical-align: middle;\n",
       "    }\n",
       "\n",
       "    .dataframe tbody tr th {\n",
       "        vertical-align: top;\n",
       "    }\n",
       "\n",
       "    .dataframe thead th {\n",
       "        text-align: right;\n",
       "    }\n",
       "</style>\n",
       "<table border=\"1\" class=\"dataframe\">\n",
       "  <thead>\n",
       "    <tr style=\"text-align: right;\">\n",
       "      <th></th>\n",
       "      <th>Filename</th>\n",
       "      <th>Predictions</th>\n",
       "    </tr>\n",
       "  </thead>\n",
       "  <tbody>\n",
       "    <tr>\n",
       "      <th>0</th>\n",
       "      <td>n02085620-Chihuahua\\n02085620_10074.jpg</td>\n",
       "      <td>n02085620-Chihuahua</td>\n",
       "    </tr>\n",
       "    <tr>\n",
       "      <th>1</th>\n",
       "      <td>n02085620-Chihuahua\\n02085620_10131.jpg</td>\n",
       "      <td>n02085620-Chihuahua</td>\n",
       "    </tr>\n",
       "    <tr>\n",
       "      <th>2</th>\n",
       "      <td>n02085620-Chihuahua\\n02085620_10621.jpg</td>\n",
       "      <td>n02085620-Chihuahua</td>\n",
       "    </tr>\n",
       "    <tr>\n",
       "      <th>3</th>\n",
       "      <td>n02085620-Chihuahua\\n02085620_1073.jpg</td>\n",
       "      <td>n02085620-Chihuahua</td>\n",
       "    </tr>\n",
       "    <tr>\n",
       "      <th>4</th>\n",
       "      <td>n02085620-Chihuahua\\n02085620_10976.jpg</td>\n",
       "      <td>n02085620-Chihuahua</td>\n",
       "    </tr>\n",
       "  </tbody>\n",
       "</table>\n",
       "</div>"
      ],
      "text/plain": [
       "                                  Filename          Predictions\n",
       "0  n02085620-Chihuahua\\n02085620_10074.jpg  n02085620-Chihuahua\n",
       "1  n02085620-Chihuahua\\n02085620_10131.jpg  n02085620-Chihuahua\n",
       "2  n02085620-Chihuahua\\n02085620_10621.jpg  n02085620-Chihuahua\n",
       "3   n02085620-Chihuahua\\n02085620_1073.jpg  n02085620-Chihuahua\n",
       "4  n02085620-Chihuahua\\n02085620_10976.jpg  n02085620-Chihuahua"
      ]
     },
     "execution_count": 38,
     "metadata": {},
     "output_type": "execute_result"
    }
   ],
   "source": [
    "results.head()"
   ]
  },
  {
   "cell_type": "code",
   "execution_count": 39,
   "metadata": {},
   "outputs": [],
   "source": [
    "results.to_csv(\"./models/results_details_{}.csv\".format(MODELO), sep=\"|\", index=False)"
   ]
  },
  {
   "cell_type": "code",
   "execution_count": 40,
   "metadata": {},
   "outputs": [],
   "source": [
    "from sklearn.metrics import confusion_matrix\n",
    "cm = confusion_matrix(test_generator.labels, predicted_class_index)"
   ]
  },
  {
   "cell_type": "code",
   "execution_count": 41,
   "metadata": {},
   "outputs": [
    {
     "name": "stdout",
     "output_type": "stream",
     "text": [
      "General Accuracy:0.86\n"
     ]
    }
   ],
   "source": [
    "results_dict = {}\n",
    "tp_sum, fp_sum = 0, 0\n",
    "\n",
    "for ix, row in enumerate(cm):\n",
    "    \n",
    "    tp = row[ix]\n",
    "    fp = np.sum(row) - tp   \n",
    "    results_dict[ix] = [class_labels[ix],tp,fp,(tp/(tp+fp)*100)]\n",
    "\n",
    "    tp_sum += tp\n",
    "    fp_sum += fp\n",
    "    \n",
    "df_res = pd.DataFrame.from_dict(results_dict, orient=\"index\", columns=[\"Class\",\"True Positive\",\"False Positive\",\"Accuracy\"])\n",
    "\n",
    "print(\"General Accuracy:{:0.2f}\".format(tp_sum/(tp_sum+fp_sum)))"
   ]
  },
  {
   "cell_type": "code",
   "execution_count": 42,
   "metadata": {},
   "outputs": [
    {
     "data": {
      "text/html": [
       "<div>\n",
       "<style scoped>\n",
       "    .dataframe tbody tr th:only-of-type {\n",
       "        vertical-align: middle;\n",
       "    }\n",
       "\n",
       "    .dataframe tbody tr th {\n",
       "        vertical-align: top;\n",
       "    }\n",
       "\n",
       "    .dataframe thead th {\n",
       "        text-align: right;\n",
       "    }\n",
       "</style>\n",
       "<table border=\"1\" class=\"dataframe\">\n",
       "  <thead>\n",
       "    <tr style=\"text-align: right;\">\n",
       "      <th></th>\n",
       "      <th>Class</th>\n",
       "      <th>True Positive</th>\n",
       "      <th>False Positive</th>\n",
       "      <th>Accuracy</th>\n",
       "    </tr>\n",
       "  </thead>\n",
       "  <tbody>\n",
       "    <tr>\n",
       "      <th>0</th>\n",
       "      <td>n02085620-Chihuahua</td>\n",
       "      <td>20</td>\n",
       "      <td>2</td>\n",
       "      <td>90.909091</td>\n",
       "    </tr>\n",
       "    <tr>\n",
       "      <th>1</th>\n",
       "      <td>n02085782-Japanese_spaniel</td>\n",
       "      <td>26</td>\n",
       "      <td>1</td>\n",
       "      <td>96.296296</td>\n",
       "    </tr>\n",
       "    <tr>\n",
       "      <th>2</th>\n",
       "      <td>n02085936-Maltese_dog</td>\n",
       "      <td>35</td>\n",
       "      <td>2</td>\n",
       "      <td>94.594595</td>\n",
       "    </tr>\n",
       "    <tr>\n",
       "      <th>3</th>\n",
       "      <td>n02086079-Pekinese</td>\n",
       "      <td>20</td>\n",
       "      <td>2</td>\n",
       "      <td>90.909091</td>\n",
       "    </tr>\n",
       "    <tr>\n",
       "      <th>4</th>\n",
       "      <td>n02086240-Shih-Tzu</td>\n",
       "      <td>27</td>\n",
       "      <td>5</td>\n",
       "      <td>84.375000</td>\n",
       "    </tr>\n",
       "  </tbody>\n",
       "</table>\n",
       "</div>"
      ],
      "text/plain": [
       "                        Class  True Positive  False Positive   Accuracy\n",
       "0         n02085620-Chihuahua             20               2  90.909091\n",
       "1  n02085782-Japanese_spaniel             26               1  96.296296\n",
       "2       n02085936-Maltese_dog             35               2  94.594595\n",
       "3          n02086079-Pekinese             20               2  90.909091\n",
       "4          n02086240-Shih-Tzu             27               5  84.375000"
      ]
     },
     "execution_count": 42,
     "metadata": {},
     "output_type": "execute_result"
    }
   ],
   "source": [
    "df_res.head()"
   ]
  },
  {
   "cell_type": "code",
   "execution_count": 43,
   "metadata": {},
   "outputs": [],
   "source": [
    "df_res.to_csv(\"./models/results_{}.csv\".format(MODELO), sep=\"|\", index=False)"
   ]
  },
  {
   "cell_type": "code",
   "execution_count": null,
   "metadata": {},
   "outputs": [],
   "source": []
  }
 ],
 "metadata": {
  "kernelspec": {
   "display_name": "Python 3",
   "language": "python",
   "name": "python3"
  },
  "language_info": {
   "codemirror_mode": {
    "name": "ipython",
    "version": 3
   },
   "file_extension": ".py",
   "mimetype": "text/x-python",
   "name": "python",
   "nbconvert_exporter": "python",
   "pygments_lexer": "ipython3",
   "version": "3.7.3"
  }
 },
 "nbformat": 4,
 "nbformat_minor": 2
}
