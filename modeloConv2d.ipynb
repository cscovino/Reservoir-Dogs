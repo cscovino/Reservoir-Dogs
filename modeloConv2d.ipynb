{
 "cells": [
  {
   "cell_type": "markdown",
   "metadata": {},
   "source": [
    "# Modelo conv2d"
   ]
  },
  {
   "cell_type": "code",
   "execution_count": 1,
   "metadata": {
    "scrolled": true
   },
   "outputs": [
    {
     "name": "stderr",
     "output_type": "stream",
     "text": [
      "Using TensorFlow backend.\n"
     ]
    },
    {
     "data": {
      "text/plain": [
       "'2.2.5'"
      ]
     },
     "execution_count": 1,
     "metadata": {},
     "output_type": "execute_result"
    }
   ],
   "source": [
    "import keras\n",
    "keras.__version__"
   ]
  },
  {
   "cell_type": "code",
   "execution_count": 2,
   "metadata": {},
   "outputs": [],
   "source": [
    "import os\n",
    "\n",
    "# El directorio de trabajo\n",
    "processDir = './process'\n",
    "\n",
    "# Directorio para entrenamiento, validacion y test\n",
    "train_dir = os.path.join(processDir, 'train')\n",
    "validation_dir = os.path.join(processDir, 'validation')\n",
    "test_dir = os.path.join(processDir, 'test')\n"
   ]
  },
  {
   "cell_type": "markdown",
   "metadata": {},
   "source": [
    "# Modelo"
   ]
  },
  {
   "cell_type": "code",
   "execution_count": 3,
   "metadata": {},
   "outputs": [
    {
     "name": "stderr",
     "output_type": "stream",
     "text": [
      "Using TensorFlow backend.\n",
      "WARNING: Logging before flag parsing goes to stderr.\n",
      "W1003 10:57:57.558735  9284 deprecation_wrapper.py:119] From C:\\work\\ia\\Anaconda3\\lib\\site-packages\\keras\\backend\\tensorflow_backend.py:66: The name tf.get_default_graph is deprecated. Please use tf.compat.v1.get_default_graph instead.\n",
      "\n",
      "W1003 10:57:57.937722  9284 deprecation_wrapper.py:119] From C:\\work\\ia\\Anaconda3\\lib\\site-packages\\keras\\backend\\tensorflow_backend.py:541: The name tf.placeholder is deprecated. Please use tf.compat.v1.placeholder instead.\n",
      "\n",
      "W1003 10:57:58.141178  9284 deprecation_wrapper.py:119] From C:\\work\\ia\\Anaconda3\\lib\\site-packages\\keras\\backend\\tensorflow_backend.py:4432: The name tf.random_uniform is deprecated. Please use tf.random.uniform instead.\n",
      "\n",
      "W1003 10:57:58.326682  9284 deprecation_wrapper.py:119] From C:\\work\\ia\\Anaconda3\\lib\\site-packages\\keras\\backend\\tensorflow_backend.py:4267: The name tf.nn.max_pool is deprecated. Please use tf.nn.max_pool2d instead.\n",
      "\n"
     ]
    }
   ],
   "source": [
    "from keras import layers\n",
    "from keras import models\n",
    "\n",
    "model = models.Sequential()\n",
    "model.add(layers.Conv2D(32, (3, 3), activation='relu',\n",
    "                        input_shape=(150, 150, 3)))\n",
    "model.add(layers.MaxPooling2D((2, 2)))\n",
    "model.add(layers.Conv2D(64, (3, 3), activation='relu'))\n",
    "model.add(layers.MaxPooling2D((2, 2)))\n",
    "model.add(layers.Conv2D(128, (3, 3), activation='relu'))\n",
    "model.add(layers.MaxPooling2D((2, 2)))\n",
    "model.add(layers.Conv2D(128, (3, 3), activation='relu'))\n",
    "model.add(layers.MaxPooling2D((2, 2)))\n",
    "model.add(layers.Flatten())\n",
    "model.add(layers.Dense(512, activation='relu'))\n",
    "model.add(layers.Dense(120, activation='softmax'))"
   ]
  },
  {
   "cell_type": "markdown",
   "metadata": {},
   "source": [
    "# Optimizador"
   ]
  },
  {
   "cell_type": "code",
   "execution_count": 4,
   "metadata": {},
   "outputs": [
    {
     "name": "stderr",
     "output_type": "stream",
     "text": [
      "W1003 10:58:07.480211  9284 deprecation_wrapper.py:119] From C:\\work\\ia\\Anaconda3\\lib\\site-packages\\keras\\optimizers.py:793: The name tf.train.Optimizer is deprecated. Please use tf.compat.v1.train.Optimizer instead.\n",
      "\n",
      "W1003 10:58:07.490185  9284 deprecation_wrapper.py:119] From C:\\work\\ia\\Anaconda3\\lib\\site-packages\\keras\\backend\\tensorflow_backend.py:3576: The name tf.log is deprecated. Please use tf.math.log instead.\n",
      "\n"
     ]
    }
   ],
   "source": [
    "from keras import optimizers\n",
    "\n",
    "model.compile(loss='categorical_crossentropy',\n",
    "              optimizer=optimizers.RMSprop(lr=1e-4),\n",
    "              metrics=['acc'])"
   ]
  },
  {
   "cell_type": "markdown",
   "metadata": {},
   "source": [
    "# Generador de datos"
   ]
  },
  {
   "cell_type": "code",
   "execution_count": 14,
   "metadata": {},
   "outputs": [
    {
     "name": "stdout",
     "output_type": "stream",
     "text": [
      "Found 14530 images belonging to 120 classes.\n",
      "Found 3025 images belonging to 120 classes.\n"
     ]
    }
   ],
   "source": [
    "from keras.preprocessing.image import ImageDataGenerator\n",
    "\n",
    "train_datagen = ImageDataGenerator(\n",
    "    rescale=1./255,\n",
    "    rotation_range=40,\n",
    "    width_shift_range=0.2,\n",
    "    height_shift_range=0.2,\n",
    "    shear_range=0.2,\n",
    "    zoom_range=0.2,\n",
    "    horizontal_flip=True,)\n",
    "\n",
    "test_datagen = ImageDataGenerator(rescale=1./255)\n",
    "\n",
    "train_generator = train_datagen.flow_from_directory(\n",
    "        train_dir,\n",
    "        target_size=(150, 150),\n",
    "        batch_size=20,\n",
    "        class_mode='categorical')\n",
    "\n",
    "test_generator = test_datagen.flow_from_directory(\n",
    "        test_dir,\n",
    "        target_size=(150, 150),\n",
    "        batch_size=20,\n",
    "        class_mode='categorical')"
   ]
  },
  {
   "cell_type": "code",
   "execution_count": 15,
   "metadata": {},
   "outputs": [
    {
     "name": "stdout",
     "output_type": "stream",
     "text": [
      "data batch shape: (20, 150, 150, 3)\n",
      "labels batch shape: (20, 120)\n"
     ]
    }
   ],
   "source": [
    "for data_batch, labels_batch in train_generator:\n",
    "    print('data batch shape:', data_batch.shape)\n",
    "    print('labels batch shape:', labels_batch.shape)\n",
    "    break"
   ]
  },
  {
   "cell_type": "markdown",
   "metadata": {},
   "source": [
    "# Entrenamiento"
   ]
  },
  {
   "cell_type": "code",
   "execution_count": 16,
   "metadata": {
    "scrolled": true
   },
   "outputs": [
    {
     "name": "stderr",
     "output_type": "stream",
     "text": [
      "W1003 11:34:07.658806  9284 deprecation.py:323] From C:\\work\\ia\\Anaconda3\\lib\\site-packages\\tensorflow\\python\\ops\\math_grad.py:1250: add_dispatch_support.<locals>.wrapper (from tensorflow.python.ops.array_ops) is deprecated and will be removed in a future version.\n",
      "Instructions for updating:\n",
      "Use tf.where in 2.0, which has the same broadcast rule as np.where\n",
      "W1003 11:34:07.796438  9284 deprecation_wrapper.py:119] From C:\\work\\ia\\Anaconda3\\lib\\site-packages\\keras\\backend\\tensorflow_backend.py:1033: The name tf.assign_add is deprecated. Please use tf.compat.v1.assign_add instead.\n",
      "\n"
     ]
    },
    {
     "name": "stdout",
     "output_type": "stream",
     "text": [
      "Epoch 1/100\n",
      "100/100 [==============================] - 74s 736ms/step - loss: 4.7905 - acc: 0.0120 - val_loss: 4.7812 - val_acc: 0.0120\n",
      "Epoch 2/100\n",
      "100/100 [==============================] - 70s 703ms/step - loss: 4.7851 - acc: 0.0130 - val_loss: 4.7749 - val_acc: 0.0180\n",
      "Epoch 3/100\n",
      "100/100 [==============================] - 71s 707ms/step - loss: 4.7711 - acc: 0.0110 - val_loss: 4.7498 - val_acc: 0.0180\n",
      "Epoch 4/100\n",
      "100/100 [==============================] - 67s 673ms/step - loss: 4.7451 - acc: 0.0205 - val_loss: 4.7213 - val_acc: 0.0264\n",
      "Epoch 5/100\n",
      "100/100 [==============================] - 67s 675ms/step - loss: 4.7101 - acc: 0.0265 - val_loss: 4.6508 - val_acc: 0.0290\n",
      "Epoch 6/100\n",
      "100/100 [==============================] - 67s 666ms/step - loss: 4.6756 - acc: 0.0220 - val_loss: 4.6440 - val_acc: 0.0210\n",
      "Epoch 7/100\n",
      "100/100 [==============================] - 67s 669ms/step - loss: 4.6403 - acc: 0.0275 - val_loss: 4.5795 - val_acc: 0.0294\n",
      "Epoch 8/100\n",
      "100/100 [==============================] - 67s 673ms/step - loss: 4.5938 - acc: 0.0260 - val_loss: 4.5621 - val_acc: 0.0350\n",
      "Epoch 9/100\n",
      "100/100 [==============================] - 68s 675ms/step - loss: 4.5760 - acc: 0.0260 - val_loss: 4.5515 - val_acc: 0.0320\n",
      "Epoch 10/100\n",
      "100/100 [==============================] - 67s 671ms/step - loss: 4.5648 - acc: 0.0290 - val_loss: 4.5059 - val_acc: 0.0396\n",
      "Epoch 11/100\n",
      "100/100 [==============================] - 67s 672ms/step - loss: 4.5477 - acc: 0.0235 - val_loss: 4.5188 - val_acc: 0.0320\n",
      "Epoch 12/100\n",
      "100/100 [==============================] - 68s 675ms/step - loss: 4.5336 - acc: 0.0205 - val_loss: 4.4298 - val_acc: 0.0490\n",
      "Epoch 13/100\n",
      "100/100 [==============================] - 67s 670ms/step - loss: 4.5403 - acc: 0.0305 - val_loss: 4.4400 - val_acc: 0.0345\n",
      "Epoch 14/100\n",
      "100/100 [==============================] - 68s 678ms/step - loss: 4.4885 - acc: 0.0350 - val_loss: 4.4014 - val_acc: 0.0550\n",
      "Epoch 15/100\n",
      "100/100 [==============================] - 67s 672ms/step - loss: 4.4555 - acc: 0.0435 - val_loss: 4.4126 - val_acc: 0.0520\n",
      "Epoch 16/100\n",
      "100/100 [==============================] - 67s 669ms/step - loss: 4.4493 - acc: 0.0410 - val_loss: 4.4625 - val_acc: 0.0447\n",
      "Epoch 17/100\n",
      "100/100 [==============================] - 68s 680ms/step - loss: 4.4571 - acc: 0.0525 - val_loss: 4.3550 - val_acc: 0.0450\n",
      "Epoch 18/100\n",
      "100/100 [==============================] - 68s 675ms/step - loss: 4.4638 - acc: 0.0415 - val_loss: 4.3749 - val_acc: 0.0520\n",
      "Epoch 19/100\n",
      "100/100 [==============================] - 67s 668ms/step - loss: 4.4076 - acc: 0.0420 - val_loss: 4.3579 - val_acc: 0.0528\n",
      "Epoch 20/100\n",
      "100/100 [==============================] - 67s 672ms/step - loss: 4.4377 - acc: 0.0425 - val_loss: 4.2999 - val_acc: 0.0610\n",
      "Epoch 21/100\n",
      "100/100 [==============================] - 67s 674ms/step - loss: 4.4236 - acc: 0.0455 - val_loss: 4.3177 - val_acc: 0.0520\n",
      "Epoch 22/100\n",
      "100/100 [==============================] - 67s 672ms/step - loss: 4.4035 - acc: 0.0490 - val_loss: 4.3887 - val_acc: 0.0528\n",
      "Epoch 23/100\n",
      "100/100 [==============================] - 67s 670ms/step - loss: 4.3827 - acc: 0.0390 - val_loss: 4.3073 - val_acc: 0.0470\n",
      "Epoch 24/100\n",
      "100/100 [==============================] - 67s 675ms/step - loss: 4.4001 - acc: 0.0440 - val_loss: 4.2771 - val_acc: 0.0600\n",
      "Epoch 25/100\n",
      "100/100 [==============================] - 67s 671ms/step - loss: 4.3428 - acc: 0.0500 - val_loss: 4.2762 - val_acc: 0.0558\n",
      "Epoch 26/100\n",
      "100/100 [==============================] - 68s 678ms/step - loss: 4.3738 - acc: 0.0430 - val_loss: 4.3376 - val_acc: 0.0480\n",
      "Epoch 27/100\n",
      "100/100 [==============================] - 68s 679ms/step - loss: 4.3465 - acc: 0.0505 - val_loss: 4.3192 - val_acc: 0.0480\n",
      "Epoch 28/100\n",
      "100/100 [==============================] - 67s 673ms/step - loss: 4.3265 - acc: 0.0535 - val_loss: 4.2373 - val_acc: 0.0619\n",
      "Epoch 29/100\n",
      "100/100 [==============================] - 73s 731ms/step - loss: 4.3380 - acc: 0.0430 - val_loss: 4.2778 - val_acc: 0.0580\n",
      "Epoch 30/100\n",
      "100/100 [==============================] - 68s 684ms/step - loss: 4.3020 - acc: 0.0555 - val_loss: 4.2072 - val_acc: 0.0730\n",
      "Epoch 31/100\n",
      "100/100 [==============================] - 67s 667ms/step - loss: 4.2951 - acc: 0.0465 - val_loss: 4.3063 - val_acc: 0.0467\n",
      "Epoch 32/100\n",
      "100/100 [==============================] - 67s 670ms/step - loss: 4.3044 - acc: 0.0545 - val_loss: 4.2707 - val_acc: 0.0520\n",
      "Epoch 33/100\n",
      "100/100 [==============================] - 68s 675ms/step - loss: 4.2980 - acc: 0.0610 - val_loss: 4.2041 - val_acc: 0.0660\n",
      "Epoch 34/100\n",
      "100/100 [==============================] - 67s 672ms/step - loss: 4.3011 - acc: 0.0610 - val_loss: 4.1959 - val_acc: 0.0579\n",
      "Epoch 35/100\n",
      "100/100 [==============================] - 68s 678ms/step - loss: 4.2788 - acc: 0.0625 - val_loss: 4.2196 - val_acc: 0.0740\n",
      "Epoch 36/100\n",
      "100/100 [==============================] - 67s 672ms/step - loss: 4.2703 - acc: 0.0570 - val_loss: 4.2148 - val_acc: 0.0670\n",
      "Epoch 37/100\n",
      "100/100 [==============================] - 67s 668ms/step - loss: 4.2552 - acc: 0.0560 - val_loss: 4.2620 - val_acc: 0.0609\n",
      "Epoch 38/100\n",
      "100/100 [==============================] - 67s 674ms/step - loss: 4.2343 - acc: 0.0675 - val_loss: 4.1865 - val_acc: 0.0630\n",
      "Epoch 39/100\n",
      "100/100 [==============================] - 69s 687ms/step - loss: 4.1958 - acc: 0.0690 - val_loss: 4.1867 - val_acc: 0.0610\n",
      "Epoch 40/100\n",
      "100/100 [==============================] - 68s 677ms/step - loss: 4.2110 - acc: 0.0705 - val_loss: 4.2075 - val_acc: 0.0599\n",
      "Epoch 41/100\n",
      "100/100 [==============================] - 68s 675ms/step - loss: 4.2162 - acc: 0.0640 - val_loss: 4.1145 - val_acc: 0.0810\n",
      "Epoch 42/100\n",
      "100/100 [==============================] - 67s 672ms/step - loss: 4.2300 - acc: 0.0580 - val_loss: 4.1561 - val_acc: 0.0860\n",
      "Epoch 43/100\n",
      "100/100 [==============================] - 67s 675ms/step - loss: 4.2395 - acc: 0.0700 - val_loss: 4.2091 - val_acc: 0.0731\n",
      "Epoch 44/100\n",
      "100/100 [==============================] - 69s 685ms/step - loss: 4.2147 - acc: 0.0585 - val_loss: 4.0783 - val_acc: 0.0770\n",
      "Epoch 45/100\n",
      "100/100 [==============================] - 67s 673ms/step - loss: 4.1860 - acc: 0.0700 - val_loss: 4.2335 - val_acc: 0.0760\n",
      "Epoch 46/100\n",
      "100/100 [==============================] - 67s 671ms/step - loss: 4.1715 - acc: 0.0745 - val_loss: 4.1072 - val_acc: 0.0792\n",
      "Epoch 47/100\n",
      "100/100 [==============================] - 67s 673ms/step - loss: 4.1840 - acc: 0.0825 - val_loss: 4.0424 - val_acc: 0.0840\n",
      "Epoch 48/100\n",
      "100/100 [==============================] - 67s 672ms/step - loss: 4.1538 - acc: 0.0695 - val_loss: 4.2129 - val_acc: 0.0700\n",
      "Epoch 49/100\n",
      "100/100 [==============================] - 67s 672ms/step - loss: 4.1711 - acc: 0.0695 - val_loss: 4.0523 - val_acc: 0.0863\n",
      "Epoch 50/100\n",
      "100/100 [==============================] - 67s 673ms/step - loss: 4.0884 - acc: 0.0785 - val_loss: 4.0560 - val_acc: 0.1020\n",
      "Epoch 51/100\n",
      "100/100 [==============================] - 67s 673ms/step - loss: 4.1618 - acc: 0.0720 - val_loss: 4.1371 - val_acc: 0.0880\n",
      "Epoch 52/100\n",
      "100/100 [==============================] - 67s 669ms/step - loss: 4.1047 - acc: 0.1005 - val_loss: 4.0598 - val_acc: 0.0954\n",
      "Epoch 53/100\n",
      "100/100 [==============================] - 67s 673ms/step - loss: 4.0873 - acc: 0.0895 - val_loss: 4.1971 - val_acc: 0.0780\n",
      "Epoch 54/100\n",
      "100/100 [==============================] - 68s 680ms/step - loss: 4.1196 - acc: 0.0855 - val_loss: 4.1305 - val_acc: 0.0710\n",
      "Epoch 55/100\n",
      "100/100 [==============================] - 67s 675ms/step - loss: 4.0932 - acc: 0.0825 - val_loss: 4.0049 - val_acc: 0.0914\n",
      "Epoch 56/100\n",
      "100/100 [==============================] - 67s 674ms/step - loss: 4.1230 - acc: 0.0810 - val_loss: 4.0320 - val_acc: 0.0870\n",
      "Epoch 57/100\n",
      "100/100 [==============================] - 67s 669ms/step - loss: 4.0975 - acc: 0.0955 - val_loss: 4.0969 - val_acc: 0.0820\n",
      "Epoch 58/100\n",
      "100/100 [==============================] - 68s 677ms/step - loss: 4.0464 - acc: 0.0915 - val_loss: 4.0415 - val_acc: 0.0812\n",
      "Epoch 59/100\n",
      "100/100 [==============================] - 68s 681ms/step - loss: 4.0785 - acc: 0.0795 - val_loss: 4.0643 - val_acc: 0.0790\n",
      "Epoch 60/100\n",
      "100/100 [==============================] - 67s 674ms/step - loss: 4.0953 - acc: 0.0860 - val_loss: 3.9553 - val_acc: 0.1050\n"
     ]
    },
    {
     "name": "stdout",
     "output_type": "stream",
     "text": [
      "Epoch 61/100\n",
      "100/100 [==============================] - 67s 671ms/step - loss: 4.0429 - acc: 0.0860 - val_loss: 4.0744 - val_acc: 0.0975\n",
      "Epoch 62/100\n",
      "100/100 [==============================] - 67s 674ms/step - loss: 4.0589 - acc: 0.0865 - val_loss: 4.0233 - val_acc: 0.0960\n",
      "Epoch 63/100\n",
      "100/100 [==============================] - 67s 674ms/step - loss: 4.0574 - acc: 0.0965 - val_loss: 4.0722 - val_acc: 0.0900\n",
      "Epoch 64/100\n",
      "100/100 [==============================] - 67s 671ms/step - loss: 3.9948 - acc: 0.0935 - val_loss: 4.1096 - val_acc: 0.0995\n",
      "Epoch 65/100\n",
      "100/100 [==============================] - 68s 677ms/step - loss: 4.0266 - acc: 0.0945 - val_loss: 4.1108 - val_acc: 0.0860\n",
      "Epoch 66/100\n",
      "100/100 [==============================] - 68s 680ms/step - loss: 3.9615 - acc: 0.1095 - val_loss: 4.0567 - val_acc: 0.0900\n",
      "Epoch 67/100\n",
      "100/100 [==============================] - 68s 676ms/step - loss: 4.0187 - acc: 0.0985 - val_loss: 4.0654 - val_acc: 0.0995\n",
      "Epoch 68/100\n",
      "100/100 [==============================] - 68s 681ms/step - loss: 4.0502 - acc: 0.0845 - val_loss: 4.0058 - val_acc: 0.1000\n",
      "Epoch 69/100\n",
      "100/100 [==============================] - 68s 685ms/step - loss: 4.0155 - acc: 0.0870 - val_loss: 4.0633 - val_acc: 0.0920\n",
      "Epoch 70/100\n",
      "100/100 [==============================] - 67s 672ms/step - loss: 3.9782 - acc: 0.1040 - val_loss: 4.0508 - val_acc: 0.1005\n",
      "Epoch 71/100\n",
      "100/100 [==============================] - 68s 677ms/step - loss: 4.0079 - acc: 0.0830 - val_loss: 4.0050 - val_acc: 0.0960\n",
      "Epoch 72/100\n",
      "100/100 [==============================] - 67s 668ms/step - loss: 4.0620 - acc: 0.0835 - val_loss: 4.1056 - val_acc: 0.0970\n",
      "Epoch 73/100\n",
      "100/100 [==============================] - 67s 669ms/step - loss: 3.9610 - acc: 0.1040 - val_loss: 4.0004 - val_acc: 0.1005\n",
      "Epoch 74/100\n",
      "100/100 [==============================] - 67s 675ms/step - loss: 3.9662 - acc: 0.1090 - val_loss: 3.9819 - val_acc: 0.0900\n",
      "Epoch 75/100\n",
      "100/100 [==============================] - 68s 676ms/step - loss: 3.9200 - acc: 0.1090 - val_loss: 4.1757 - val_acc: 0.1000\n",
      "Epoch 76/100\n",
      "100/100 [==============================] - 67s 669ms/step - loss: 3.9720 - acc: 0.1050 - val_loss: 3.9558 - val_acc: 0.0985\n",
      "Epoch 77/100\n",
      "100/100 [==============================] - 67s 673ms/step - loss: 3.9317 - acc: 0.0975 - val_loss: 4.0075 - val_acc: 0.1040\n",
      "Epoch 78/100\n",
      "100/100 [==============================] - 67s 671ms/step - loss: 3.9156 - acc: 0.1030 - val_loss: 4.0789 - val_acc: 0.0960\n",
      "Epoch 79/100\n",
      "100/100 [==============================] - 67s 670ms/step - loss: 3.9488 - acc: 0.1040 - val_loss: 3.9000 - val_acc: 0.1220\n",
      "Epoch 80/100\n",
      "100/100 [==============================] - 67s 673ms/step - loss: 3.9664 - acc: 0.0990 - val_loss: 3.9582 - val_acc: 0.1168\n",
      "Epoch 81/100\n",
      "100/100 [==============================] - 67s 673ms/step - loss: 3.8719 - acc: 0.1225 - val_loss: 4.1242 - val_acc: 0.0780\n",
      "Epoch 82/100\n",
      "100/100 [==============================] - 67s 668ms/step - loss: 3.8901 - acc: 0.1120 - val_loss: 3.9063 - val_acc: 0.1370\n",
      "Epoch 83/100\n",
      "100/100 [==============================] - 67s 672ms/step - loss: 3.9432 - acc: 0.0985 - val_loss: 3.9551 - val_acc: 0.1066\n",
      "Epoch 84/100\n",
      "100/100 [==============================] - 207s 2s/step - loss: 3.9594 - acc: 0.1000 - val_loss: 4.0010 - val_acc: 0.1200\n",
      "Epoch 85/100\n",
      "100/100 [==============================] - 68s 677ms/step - loss: 3.8989 - acc: 0.1115 - val_loss: 3.9633 - val_acc: 0.1070\n",
      "Epoch 86/100\n",
      "100/100 [==============================] - 67s 669ms/step - loss: 3.8973 - acc: 0.1155 - val_loss: 3.9684 - val_acc: 0.1147\n",
      "Epoch 87/100\n",
      "100/100 [==============================] - 68s 675ms/step - loss: 3.9536 - acc: 0.1095 - val_loss: 3.9307 - val_acc: 0.1130\n",
      "Epoch 88/100\n",
      "100/100 [==============================] - 67s 669ms/step - loss: 3.8551 - acc: 0.1230 - val_loss: 3.9456 - val_acc: 0.1080\n",
      "Epoch 89/100\n",
      "100/100 [==============================] - 67s 671ms/step - loss: 3.8745 - acc: 0.1140 - val_loss: 3.9812 - val_acc: 0.1168\n",
      "Epoch 90/100\n",
      "100/100 [==============================] - 68s 678ms/step - loss: 3.8912 - acc: 0.1090 - val_loss: 3.8797 - val_acc: 0.1220\n",
      "Epoch 91/100\n",
      "100/100 [==============================] - 67s 672ms/step - loss: 3.8506 - acc: 0.1205 - val_loss: 4.0913 - val_acc: 0.0920\n",
      "Epoch 92/100\n",
      "100/100 [==============================] - 67s 669ms/step - loss: 3.9123 - acc: 0.1095 - val_loss: 4.0944 - val_acc: 0.0924\n",
      "Epoch 93/100\n",
      "100/100 [==============================] - 68s 677ms/step - loss: 3.8734 - acc: 0.1095 - val_loss: 3.9831 - val_acc: 0.1070\n",
      "Epoch 94/100\n",
      "100/100 [==============================] - 68s 678ms/step - loss: 3.8984 - acc: 0.1170 - val_loss: 3.9767 - val_acc: 0.1200\n",
      "Epoch 95/100\n",
      "100/100 [==============================] - 67s 675ms/step - loss: 3.8197 - acc: 0.1250 - val_loss: 3.9586 - val_acc: 0.1239\n",
      "Epoch 96/100\n",
      "100/100 [==============================] - 68s 677ms/step - loss: 3.8126 - acc: 0.1235 - val_loss: 3.8787 - val_acc: 0.1240\n",
      "Epoch 97/100\n",
      "100/100 [==============================] - 69s 690ms/step - loss: 3.8332 - acc: 0.1215 - val_loss: 3.9792 - val_acc: 0.1110\n",
      "Epoch 98/100\n",
      "100/100 [==============================] - 69s 692ms/step - loss: 3.8051 - acc: 0.1325 - val_loss: 4.1356 - val_acc: 0.0873\n",
      "Epoch 99/100\n",
      "100/100 [==============================] - 68s 676ms/step - loss: 3.8626 - acc: 0.1120 - val_loss: 3.9722 - val_acc: 0.1130\n",
      "Epoch 100/100\n",
      "100/100 [==============================] - 67s 672ms/step - loss: 3.8338 - acc: 0.1240 - val_loss: 3.9716 - val_acc: 0.1090\n"
     ]
    }
   ],
   "source": [
    "history = model.fit_generator(\n",
    "      train_generator,\n",
    "      steps_per_epoch=100,\n",
    "      epochs=100,\n",
    "      validation_data=test_generator,\n",
    "      validation_steps=50)"
   ]
  },
  {
   "cell_type": "markdown",
   "metadata": {},
   "source": [
    "# Graficos"
   ]
  },
  {
   "cell_type": "code",
   "execution_count": 19,
   "metadata": {},
   "outputs": [
    {
     "data": {
      "image/png": "[encoded data removed]",
      "text/plain": [
       "<Figure size 432x288 with 1 Axes>"
      ]
     },
     "metadata": {
      "needs_background": "light"
     },
     "output_type": "display_data"
    },
    {
     "data": {
      "image/png": "[encoded data removed]",
      "text/plain": [
       "<Figure size 432x288 with 1 Axes>"
      ]
     },
     "metadata": {
      "needs_background": "light"
     },
     "output_type": "display_data"
    }
   ],
   "source": [
    "import matplotlib.pyplot as plt\n",
    "\n",
    "acc = history.history['acc']\n",
    "val_acc = history.history['val_acc']\n",
    "loss = history.history['loss']\n",
    "val_loss = history.history['val_loss']\n",
    "\n",
    "epochs = range(len(acc))\n",
    "\n",
    "plt.plot(epochs, acc, 'bo', label='Training acc')\n",
    "plt.plot(epochs, val_acc, 'b', label='Validation acc')\n",
    "plt.title('Training and validation accuracy')\n",
    "plt.legend()\n",
    "\n",
    "plt.figure()\n",
    "\n",
    "plt.plot(epochs, loss, 'bo', label='Training loss')\n",
    "plt.plot(epochs, val_loss, 'b', label='Validation loss')\n",
    "plt.title('Training and validation loss')\n",
    "plt.legend()\n",
    "\n",
    "plt.show()"
   ]
  },
  {
   "cell_type": "code",
   "execution_count": 20,
   "metadata": {},
   "outputs": [],
   "source": [
    "model.save('tp02_model.h5')"
   ]
  }
 ],
 "metadata": {
  "kernelspec": {
   "display_name": "Python 3",
   "language": "python",
   "name": "python3"
  },
  "language_info": {
   "codemirror_mode": {
    "name": "ipython",
    "version": 3
   },
   "file_extension": ".py",
   "mimetype": "text/x-python",
   "name": "python",
   "nbconvert_exporter": "python",
   "pygments_lexer": "ipython3",
   "version": "3.7.3"
  }
 },
 "nbformat": 4,
 "nbformat_minor": 2
}
